{
  "cells": [
    {
      "cell_type": "code",
      "execution_count": 138,
      "metadata": {
        "id": "x6XOUhvFa-wT"
      },
      "outputs": [],
      "source": [
        "import numpy as np\n",
        "import numpy.linalg\n",
        "import pandas as pd\n",
        "import sklearn\n",
        "import sklearn.preprocessing, sklearn.cluster, sklearn.metrics, sklearn.decomposition\n",
        "import scipy.spatial\n",
        "import matplotlib.pyplot as plt\n",
        "import seaborn as sns"
      ]
    },
    {
      "cell_type": "markdown",
      "metadata": {
        "id": "3Heh972aokez"
      },
      "source": [
        "# SVD decomposition and dimension reduction"
      ]
    },
    {
      "cell_type": "code",
      "execution_count": 139,
      "metadata": {
        "id": "Ya0qzJ6Woke0"
      },
      "outputs": [],
      "source": [
        "# X = pd.read_csv('data_dimension_reduction/bars.csv', header=None).values\n",
        "# X_noise_20 = pd.read_csv('data_dimension_reduction/bars_noise20.csv', header=None).values\n",
        "# X_noise_50 = pd.read_csv('data_dimension_reduction/bars_noise50.csv', header=None).values\n",
        "\n",
        "X = pd.read_csv('https://homel.vsb.cz/~svo0175/bars.csv', header=None).values\n",
        "X_noise_20 = pd.read_csv('https://homel.vsb.cz/~svo0175/bars_noise20.csv', header=None).values\n",
        "X_noise_50 = pd.read_csv('https://homel.vsb.cz/~svo0175/bars_noise50.csv', header=None).values"
      ]
    },
    {
      "cell_type": "code",
      "execution_count": 140,
      "metadata": {
        "colab": {
          "base_uri": "https://localhost:8080/"
        },
        "id": "fou9qdhRoke2",
        "outputId": "13ba9cd4-9667-425b-a921-c2e55e4ec016"
      },
      "outputs": [
        {
          "output_type": "execute_result",
          "data": {
            "text/plain": [
              "(10000, 64)"
            ]
          },
          "metadata": {},
          "execution_count": 140
        }
      ],
      "source": [
        "X.shape"
      ]
    },
    {
      "cell_type": "code",
      "execution_count": 141,
      "metadata": {
        "colab": {
          "base_uri": "https://localhost:8080/"
        },
        "id": "QevFqRPWoke3",
        "outputId": "99912ddc-ad2a-4c50-9dff-26dd4f32073f"
      },
      "outputs": [
        {
          "output_type": "execute_result",
          "data": {
            "text/plain": [
              "array([  0,   0, 255,   0,   0,   0,   0,   0,   0,   0, 255,   0,   0,\n",
              "         0,   0,   0,   0,   0, 255,   0,   0,   0,   0,   0,   0,   0,\n",
              "       255,   0,   0,   0,   0,   0, 255, 255, 255, 255, 255, 255, 255,\n",
              "       255,   0,   0, 255,   0,   0,   0,   0,   0, 255, 255, 255, 255,\n",
              "       255, 255, 255, 255,   0,   0, 255,   0,   0,   0,   0,   0])"
            ]
          },
          "metadata": {},
          "execution_count": 141
        }
      ],
      "source": [
        "X[1]"
      ]
    },
    {
      "cell_type": "code",
      "execution_count": 142,
      "metadata": {
        "colab": {
          "base_uri": "https://localhost:8080/"
        },
        "id": "zsyvGuxGoke3",
        "outputId": "afa87d70-2108-4a32-b9d2-6dda83e673d9"
      },
      "outputs": [
        {
          "output_type": "execute_result",
          "data": {
            "text/plain": [
              "array([  0,   0, 225,   0,   0,   0,  48,   0,  44,   0, 220,  70,   0,\n",
              "        54,   0,  70,   6,   0, 186,   0,   0,   0,   0,  48,   8,   0,\n",
              "       255,  15,   0,   0,  14,  60, 255, 173, 193, 225, 255, 169, 164,\n",
              "       255,   0,  80, 166,  81,   0,   0,   8, 112, 255, 241, 255, 255,\n",
              "       236, 255, 255, 255,   0,   0, 255,   1,   0,   6, 120,   5])"
            ]
          },
          "metadata": {},
          "execution_count": 142
        }
      ],
      "source": [
        "X_noise_20[1]"
      ]
    },
    {
      "cell_type": "code",
      "execution_count": 143,
      "metadata": {
        "id": "Fa5aNlV8oke5"
      },
      "outputs": [],
      "source": [
        "def show_image(x):\n",
        "    plt.imshow(x.reshape((8,8)), cmap='Greys')"
      ]
    },
    {
      "cell_type": "code",
      "execution_count": 144,
      "metadata": {
        "colab": {
          "base_uri": "https://localhost:8080/",
          "height": 265
        },
        "id": "8pBvzD0doke5",
        "outputId": "9882db21-c350-4650-f839-98f5b1f6a334"
      },
      "outputs": [
        {
          "output_type": "display_data",
          "data": {
            "text/plain": [
              "<Figure size 432x288 with 1 Axes>"
            ],
            "image/png": "[encoded data removed]"
          },
          "metadata": {
            "needs_background": "light"
          }
        }
      ],
      "source": [
        "show_image(X[2])"
      ]
    },
    {
      "cell_type": "code",
      "execution_count": 145,
      "metadata": {
        "colab": {
          "base_uri": "https://localhost:8080/",
          "height": 265
        },
        "id": "9ymOdXg-oke6",
        "outputId": "409d6f1e-afbb-4d20-86f5-838d1310fd25"
      },
      "outputs": [
        {
          "output_type": "display_data",
          "data": {
            "text/plain": [
              "<Figure size 432x288 with 1 Axes>"
            ],
            "image/png": "[encoded data removed]"
          },
          "metadata": {
            "needs_background": "light"
          }
        }
      ],
      "source": [
        "show_image(X_noise_20[2])"
      ]
    },
    {
      "cell_type": "code",
      "execution_count": 146,
      "metadata": {
        "colab": {
          "base_uri": "https://localhost:8080/",
          "height": 265
        },
        "id": "tNqeFsTloke7",
        "outputId": "c6ad3960-cf23-4300-cdcc-992e6d2871c1"
      },
      "outputs": [
        {
          "output_type": "display_data",
          "data": {
            "text/plain": [
              "<Figure size 432x288 with 1 Axes>"
            ],
            "image/png": "[encoded data removed]"
          },
          "metadata": {
            "needs_background": "light"
          }
        }
      ],
      "source": [
        "show_image(X_noise_50[2])"
      ]
    },
    {
      "cell_type": "markdown",
      "metadata": {
        "id": "kpI-0aAKoke9"
      },
      "source": [
        "## SVD decompostioton"
      ]
    },
    {
      "cell_type": "code",
      "execution_count": 147,
      "metadata": {
        "colab": {
          "base_uri": "https://localhost:8080/"
        },
        "id": "D9s0J73roke9",
        "outputId": "91b9f473-f03c-4eec-eeb5-fa2ac515ce4c"
      },
      "outputs": [
        {
          "output_type": "execute_result",
          "data": {
            "text/plain": [
              "((10000, 10000), (64,), (64, 64))"
            ]
          },
          "metadata": {},
          "execution_count": 147
        }
      ],
      "source": [
        "U, s, V_T = np.linalg.svd(X, full_matrices=True)\n",
        "U.shape, s.shape, V_T.shape"
      ]
    },
    {
      "cell_type": "code",
      "execution_count": 148,
      "metadata": {
        "colab": {
          "base_uri": "https://localhost:8080/"
        },
        "id": "s2j6hjy1oke9",
        "outputId": "c2efcc87-1b87-4e50-960d-d590a73bfd01"
      },
      "outputs": [
        {
          "output_type": "execute_result",
          "data": {
            "text/plain": [
              "array([85163.72992057, 25918.78802989, 25885.20650461, 25866.61111402,\n",
              "       25603.09250067, 25527.33634786, 25461.90923658, 25400.16904854,\n",
              "       25323.96794768, 25273.05247869, 25090.65260469, 24985.09443308,\n",
              "       24828.21166745, 24725.47151278, 24599.19377668,  4800.23207891,\n",
              "        4759.42568525,  4752.02282845,  4714.65694697,  4693.37727937,\n",
              "        4671.65765993,  4664.8800508 ,  4649.71482489,  4645.60988442,\n",
              "        4627.47548092,  4613.28613569,  4608.32596123,  4601.90708787,\n",
              "        4598.48440201,  4592.10180099,  4566.68918604,  4564.57307661,\n",
              "        4539.47946295,  4528.18799301,  4515.34355164,  4503.88836915,\n",
              "        4496.2987919 ,  4490.36008691,  4475.56266412,  4466.33868976,\n",
              "        4461.80509601,  4454.28225144,  4444.18087738,  4433.82306676,\n",
              "        4426.93951122,  4412.70949494,  4410.35912898,  4407.39023681,\n",
              "        4392.68325091,  4367.7956838 ,  4356.32995984,  4352.68991712,\n",
              "        4343.81015817,  4333.71349581,  4328.56992482,  4316.97332939,\n",
              "        4297.70403093,  4288.34151299,  4272.20701456,  4266.6881235 ,\n",
              "        4237.66024131,  4218.36279764,  4216.42652516,  4141.90618514])"
            ]
          },
          "metadata": {},
          "execution_count": 148
        }
      ],
      "source": [
        "s"
      ]
    },
    {
      "cell_type": "markdown",
      "metadata": {
        "id": "Zz3MhhwQoke-"
      },
      "source": [
        "What does the values in vector **s** represent?"
      ]
    },
    {
      "cell_type": "markdown",
      "metadata": {
        "id": "jG452U9xoke_"
      },
      "source": [
        "### Reconstruct complete matrix and check error"
      ]
    },
    {
      "cell_type": "code",
      "execution_count": 149,
      "metadata": {
        "colab": {
          "base_uri": "https://localhost:8080/"
        },
        "id": "qSJMgZLJokfA",
        "outputId": "b1e13f61-8894-4446-ff2b-e6493c1eb653"
      },
      "outputs": [
        {
          "output_type": "execute_result",
          "data": {
            "text/plain": [
              "array([[85163.72992057,     0.        ,     0.        , ...,\n",
              "            0.        ,     0.        ,     0.        ],\n",
              "       [    0.        , 25918.78802989,     0.        , ...,\n",
              "            0.        ,     0.        ,     0.        ],\n",
              "       [    0.        ,     0.        , 25885.20650461, ...,\n",
              "            0.        ,     0.        ,     0.        ],\n",
              "       ...,\n",
              "       [    0.        ,     0.        ,     0.        , ...,\n",
              "         4218.36279764,     0.        ,     0.        ],\n",
              "       [    0.        ,     0.        ,     0.        , ...,\n",
              "            0.        ,  4216.42652516,     0.        ],\n",
              "       [    0.        ,     0.        ,     0.        , ...,\n",
              "            0.        ,     0.        ,  4141.90618514]])"
            ]
          },
          "metadata": {},
          "execution_count": 149
        }
      ],
      "source": [
        "np.diag(s)"
      ]
    },
    {
      "cell_type": "code",
      "execution_count": 150,
      "metadata": {
        "colab": {
          "base_uri": "https://localhost:8080/"
        },
        "id": "FXdILMQOokfA",
        "outputId": "c3cdd619-693c-4fbd-d711-675cf56a1ca8"
      },
      "outputs": [
        {
          "output_type": "execute_result",
          "data": {
            "text/plain": [
              "array([[ 1.65257668e-13,  1.20311482e-11,  1.15799487e-11, ...,\n",
              "         1.47792889e-12,  1.47792889e-12,  3.69482223e-13],\n",
              "       [-7.40624844e-14, -2.10723624e-13, -1.59161573e-11, ...,\n",
              "         8.94178064e-12, -7.91066400e-12, -3.30888563e-12],\n",
              "       [-2.22021241e-13, -1.70530257e-13, -8.37529664e-13, ...,\n",
              "         2.71185423e-12,  3.75166564e-12,  8.55501035e-12],\n",
              "       ...,\n",
              "       [-4.76237440e-13, -4.83169060e-13, -7.67386155e-13, ...,\n",
              "        -2.65118897e-14, -4.38979261e-13, -5.45533072e-13],\n",
              "       [-4.26325641e-13,  3.36084919e-14,  8.45554374e-13, ...,\n",
              "        -2.82670662e-13,  7.63552671e-14,  5.68434189e-13],\n",
              "       [ 1.18165564e-13,  2.92590617e-14,  7.76118200e-14, ...,\n",
              "         3.97903932e-13,  1.70530257e-13,  4.26325641e-13]])"
            ]
          },
          "metadata": {},
          "execution_count": 150
        }
      ],
      "source": [
        "R = U[:, :64].dot(np.diag(s)).dot(V_T)\n",
        "X-R"
      ]
    },
    {
      "cell_type": "markdown",
      "metadata": {
        "id": "ZLYkK-dkokfC"
      },
      "source": [
        "### Use only 5 main vectors (which represent reduction to 5 dimensions). Create reconstructed matrix and compare it with original one.\n",
        "- https://csiu.github.io/blog//img/figure/2017-04-16/svd.png\n"
      ]
    },
    {
      "cell_type": "code",
      "execution_count": 151,
      "metadata": {
        "colab": {
          "base_uri": "https://localhost:8080/"
        },
        "id": "y5pqRP8FokfC",
        "outputId": "5b1ea23d-adf8-4260-8389-bb9003d482f2"
      },
      "outputs": [
        {
          "output_type": "execute_result",
          "data": {
            "text/plain": [
              "array([[-0.01089724,  0.02019641, -0.00491279,  0.01643246,  0.00838835],\n",
              "       [-0.00824357,  0.01339253, -0.01285844,  0.0033604 ,  0.00822905],\n",
              "       [-0.01084728, -0.005671  , -0.01018208,  0.01683211, -0.01144061],\n",
              "       ...,\n",
              "       [-0.01087723, -0.01541497, -0.01822903,  0.00227725, -0.00055324],\n",
              "       [-0.01086102, -0.00116561, -0.0061415 , -0.02145552, -0.00405246],\n",
              "       [-0.00823218,  0.01164858, -0.00076543,  0.02442473,  0.01046707]])"
            ]
          },
          "metadata": {},
          "execution_count": 151
        }
      ],
      "source": [
        "U[:, :5]"
      ]
    },
    {
      "cell_type": "code",
      "execution_count": 152,
      "metadata": {
        "colab": {
          "base_uri": "https://localhost:8080/"
        },
        "id": "1ZhnuVRXokfD",
        "outputId": "d298960e-308b-4dcb-9518-ac999e068bf3"
      },
      "outputs": [
        {
          "output_type": "execute_result",
          "data": {
            "text/plain": [
              "array([[-0.12576034, -0.12583471, -0.12446459, -0.12522232, -0.12453633,\n",
              "        -0.12479076, -0.12320246, -0.12501406, -0.12368075, -0.12438685,\n",
              "        -0.12219952, -0.12274359, -0.1239547 , -0.12395804, -0.12242578,\n",
              "        -0.12374513, -0.12579543, -0.12611035, -0.12475121, -0.12483118,\n",
              "        -0.1258248 , -0.125511  , -0.1238515 , -0.12529944, -0.1255637 ,\n",
              "        -0.12730238, -0.12488608, -0.12613748, -0.12474634, -0.12421956,\n",
              "        -0.12321001, -0.12535877, -0.12649177, -0.12752608, -0.1254781 ,\n",
              "        -0.12578643, -0.12522948, -0.12697614, -0.12493317, -0.12562678,\n",
              "        -0.12440544, -0.12568559, -0.1242691 , -0.12305136, -0.12453197,\n",
              "        -0.12403298, -0.12287156, -0.12450303, -0.12667953, -0.12667078,\n",
              "        -0.12424151, -0.1246307 , -0.12455422, -0.1243726 , -0.12256402,\n",
              "        -0.12524289, -0.12736486, -0.12835399, -0.12557424, -0.1263055 ,\n",
              "        -0.12606162, -0.12555467, -0.12399751, -0.12668234],\n",
              "       [-0.14879275, -0.3026219 , -0.14459322, -0.15534514, -0.07425635,\n",
              "        -0.1612837 , -0.12653735, -0.17760446, -0.0260156 , -0.18113468,\n",
              "        -0.02050634, -0.02840142,  0.05149641, -0.0387444 , -0.00342007,\n",
              "        -0.05404876, -0.13637431, -0.28876004, -0.13264529, -0.13928236,\n",
              "        -0.06160159, -0.15009875, -0.11277889, -0.1645163 ,  0.08981689,\n",
              "        -0.06543469,  0.09897872,  0.08966427,  0.16876157,  0.0773984 ,\n",
              "         0.11509462,  0.06201496,  0.16633628,  0.01075226,  0.17262895,\n",
              "         0.16289817,  0.24398325,  0.15750899,  0.19421785,  0.13685406,\n",
              "        -0.01682098, -0.17122037, -0.00962426, -0.01799932,  0.06097867,\n",
              "        -0.0293857 ,  0.00766815, -0.0432277 ,  0.03567592, -0.12195402,\n",
              "         0.04220077,  0.03321644,  0.11297023,  0.02304588,  0.05968243,\n",
              "         0.00701957,  0.1250848 , -0.02941774,  0.13260143,  0.12455641,\n",
              "         0.20464279,  0.11278856,  0.14923119,  0.09839955],\n",
              "       [ 0.16691611,  0.05875896,  0.07096882, -0.04019737,  0.05891749,\n",
              "         0.22831376,  0.12638551,  0.03588403,  0.09615196, -0.00630789,\n",
              "         0.00267965, -0.10734342, -0.01121926,  0.16140015,  0.05962904,\n",
              "        -0.03290894, -0.0535254 , -0.158967  , -0.14995833, -0.25914471,\n",
              "        -0.16561926,  0.01033255, -0.09418995, -0.18551343,  0.25913565,\n",
              "         0.154446  ,  0.16415623,  0.05383238,  0.1489782 ,  0.31670365,\n",
              "         0.217505  ,  0.12561506, -0.05094992, -0.15699495, -0.14249953,\n",
              "        -0.25597134, -0.15781204,  0.01201935, -0.09610818, -0.18135714,\n",
              "         0.0974355 , -0.00928867, -0.00208093, -0.10939698, -0.01537517,\n",
              "         0.15876593,  0.05362157, -0.03749608,  0.03575031, -0.06973793,\n",
              "        -0.06035453, -0.16920763, -0.0759882 ,  0.09795839, -0.00578068,\n",
              "        -0.09834192,  0.07963915, -0.02606045, -0.015658  , -0.12759712,\n",
              "        -0.03236326,  0.13817625,  0.03550207, -0.05047882],\n",
              "       [-0.12574721,  0.04726167,  0.02176399,  0.05535325,  0.07106027,\n",
              "         0.13410415,  0.15260413, -0.04713738, -0.26417382, -0.09250107,\n",
              "        -0.11761742, -0.08577578, -0.06797879, -0.00675196,  0.01052776,\n",
              "        -0.18540722, -0.12843438,  0.04232077,  0.01677906,  0.04656608,\n",
              "         0.07004633,  0.1325478 ,  0.14737424, -0.04803296, -0.19624246,\n",
              "        -0.02311084, -0.04924185, -0.01683302,  0.00078319,  0.06327026,\n",
              "         0.08083352, -0.1160612 , -0.25039382, -0.08018387, -0.10396168,\n",
              "        -0.07289127, -0.05500854,  0.00621035,  0.02377716, -0.16993374,\n",
              "        -0.2712185 , -0.10350849, -0.12639044, -0.09300497, -0.07688964,\n",
              "        -0.01529349,  0.00109169, -0.19412514, -0.01314174,  0.16235201,\n",
              "         0.13469677,  0.16654073,  0.18347447,  0.24478233,  0.26215102,\n",
              "         0.06847661, -0.05892271,  0.11796314,  0.08863093,  0.12229069,\n",
              "         0.14035492,  0.20096528,  0.21792311,  0.02284217],\n",
              "       [ 0.14723456, -0.06375235,  0.10785823, -0.16349129, -0.1289139 ,\n",
              "        -0.0294126 ,  0.02095452,  0.0096694 ,  0.12965309, -0.07592889,\n",
              "         0.09377452, -0.17623924, -0.14543115, -0.04443349,  0.00372916,\n",
              "        -0.00347185,  0.25919355,  0.05317908,  0.22430295, -0.04832342,\n",
              "        -0.0143111 ,  0.08953897,  0.13617398,  0.12215779,  0.08132706,\n",
              "        -0.12807845,  0.04382215, -0.2308954 , -0.19183992, -0.0888405 ,\n",
              "        -0.04366663, -0.05443484,  0.16676416, -0.04080311,  0.1277118 ,\n",
              "        -0.14146551, -0.10473641, -0.00562115,  0.04081516,  0.02668765,\n",
              "         0.037113  , -0.167216  , -0.00126018, -0.26677402, -0.23802453,\n",
              "        -0.13741377, -0.09050266, -0.09722746,  0.16634193, -0.04182717,\n",
              "         0.12552258, -0.14468206, -0.10895091, -0.00768391,  0.03692947,\n",
              "         0.02886235,  0.27506072,  0.06654668,  0.2338697 , -0.03415101,\n",
              "         0.00053355,  0.10174914,  0.14669051,  0.13862384]])"
            ]
          },
          "metadata": {},
          "execution_count": 152
        }
      ],
      "source": [
        "V_T[:5, :]"
      ]
    },
    {
      "cell_type": "markdown",
      "metadata": {
        "id": "29zpc3mWokfD"
      },
      "source": [
        "## Where can we find vector space in reduced dimension?"
      ]
    },
    {
      "cell_type": "code",
      "execution_count": 153,
      "metadata": {
        "colab": {
          "base_uri": "https://localhost:8080/"
        },
        "id": "rthFA6urokfD",
        "outputId": "cf372d23-6520-4d71-ecdf-ad1159ea007f"
      },
      "outputs": [
        {
          "output_type": "execute_result",
          "data": {
            "text/plain": [
              "(10000, 5)"
            ]
          },
          "metadata": {},
          "execution_count": 153
        }
      ],
      "source": [
        "U[:, :5].shape"
      ]
    },
    {
      "cell_type": "code",
      "execution_count": 154,
      "metadata": {
        "colab": {
          "base_uri": "https://localhost:8080/"
        },
        "id": "MiRyESLUokfD",
        "outputId": "23e088ad-e1ba-42b2-8531-0ad4ff1dc322"
      },
      "outputs": [
        {
          "output_type": "execute_result",
          "data": {
            "text/plain": [
              "array([[-0.01089724,  0.02019641, -0.00491279,  0.01643246,  0.00838835],\n",
              "       [-0.00824357,  0.01339253, -0.01285844,  0.0033604 ,  0.00822905],\n",
              "       [-0.01084728, -0.005671  , -0.01018208,  0.01683211, -0.01144061],\n",
              "       ...,\n",
              "       [-0.01087723, -0.01541497, -0.01822903,  0.00227725, -0.00055324],\n",
              "       [-0.01086102, -0.00116561, -0.0061415 , -0.02145552, -0.00405246],\n",
              "       [-0.00823218,  0.01164858, -0.00076543,  0.02442473,  0.01046707]])"
            ]
          },
          "metadata": {},
          "execution_count": 154
        }
      ],
      "source": [
        "U[:, :5]"
      ]
    },
    {
      "cell_type": "markdown",
      "metadata": {
        "id": "-IxMBZVqokfE"
      },
      "source": [
        "## Reconstruction from reduced space and error calculation"
      ]
    },
    {
      "cell_type": "code",
      "execution_count": 155,
      "metadata": {
        "colab": {
          "base_uri": "https://localhost:8080/"
        },
        "id": "TNgHTbMNokfF",
        "outputId": "6f7310f5-157a-4d66-8c0d-f81dceeb0108"
      },
      "outputs": [
        {
          "output_type": "execute_result",
          "data": {
            "text/plain": [
              "(10000, 64)"
            ]
          },
          "metadata": {},
          "execution_count": 155
        }
      ],
      "source": [
        "R = U[:,:32].dot(np.diag(s[:32])).dot(V_T[:32, :])\n",
        "R.shape"
      ]
    },
    {
      "cell_type": "code",
      "execution_count": 156,
      "metadata": {
        "colab": {
          "base_uri": "https://localhost:8080/",
          "height": 265
        },
        "id": "R5cl_ytKokfF",
        "outputId": "0af85144-0359-400f-b900-889b1cd8c5d6"
      },
      "outputs": [
        {
          "output_type": "display_data",
          "data": {
            "text/plain": [
              "<Figure size 432x288 with 1 Axes>"
            ],
            "image/png": "[encoded data removed]"
          },
          "metadata": {
            "needs_background": "light"
          }
        }
      ],
      "source": [
        "show_image(X[2])"
      ]
    },
    {
      "cell_type": "code",
      "execution_count": 157,
      "metadata": {
        "colab": {
          "base_uri": "https://localhost:8080/",
          "height": 265
        },
        "id": "kWu1PQZPokfF",
        "outputId": "3417602c-2b3e-414e-bac0-b70c1d824900"
      },
      "outputs": [
        {
          "output_type": "display_data",
          "data": {
            "text/plain": [
              "<Figure size 432x288 with 1 Axes>"
            ],
            "image/png": "[encoded data removed]"
          },
          "metadata": {
            "needs_background": "light"
          }
        }
      ],
      "source": [
        "show_image(R[2])"
      ]
    },
    {
      "cell_type": "code",
      "execution_count": 158,
      "metadata": {
        "colab": {
          "base_uri": "https://localhost:8080/"
        },
        "id": "NTLmFZ5DokfF",
        "outputId": "21309cfd-aa9c-4982-b217-6c7adca1123b"
      },
      "outputs": [
        {
          "output_type": "stream",
          "name": "stdout",
          "text": [
            "[ -15.3775224    25.72470995    3.41601512    0.337928    -23.12963077\n",
            "  -22.81417223   34.11022853   -0.91678229  -13.90312073   13.19632995\n",
            "  -11.79843444   -7.25921232    8.54898584   13.43039312   14.60346516\n",
            "  -18.62654802   -5.17348902   -1.58078796  -12.82625991   51.03147743\n",
            "  -37.76561426  -22.80345976   24.63924688    4.49644873   -8.8964454\n",
            "   18.03829452  -14.2470803    15.15426237   -2.65114104   -2.72715165\n",
            "   19.24694334  -22.57867694  -22.39960168   50.44207048  -16.6885053\n",
            "   15.24395415    0.42952965  -21.99949246  -21.04618268   15.56557189\n",
            "   -1.10654233   14.43175045  -18.66706635    1.74296641   11.9469879\n",
            "  -27.22329724   13.30245784    4.12499318   69.16937075 -124.43623124\n",
            "   97.36748084 -102.6791709    59.66648741   92.55577532 -120.56199242\n",
            "   28.02148657   -3.17300007    5.9610399   -27.71867791   26.75654777\n",
            "  -17.2379678    -8.71768891   35.84359808  -10.13435223]\n"
          ]
        }
      ],
      "source": [
        "print(X[2]-R[2])"
      ]
    },
    {
      "cell_type": "code",
      "execution_count": 159,
      "metadata": {
        "colab": {
          "base_uri": "https://localhost:8080/"
        },
        "id": "TdLCG5RqokfG",
        "outputId": "1bb67f17-0227-418f-b88f-f1fc0373fad7"
      },
      "outputs": [
        {
          "output_type": "stream",
          "name": "stdout",
          "text": [
            "[[-14.2279642  -26.68762117  27.90682246 ... -63.42841254  -5.52720278\n",
            "    8.61990299]\n",
            " [ 11.22645731  21.00203401  -0.72591336 ... -16.4213566  -18.03102606\n",
            "  -15.37679527]\n",
            " [-15.3775224   25.72470995   3.41601512 ...  -8.71768891  35.84359808\n",
            "  -10.13435223]\n",
            " ...\n",
            " [-13.92031416  29.80531808  30.84763518 ...  -5.16332183 -30.57494064\n",
            "  -22.69082619]\n",
            " [ 51.6432111  -30.53449275 -14.56917    ...   8.9519586   -2.27769532\n",
            "   15.46035946]\n",
            " [ -0.84773899  -4.88797049 -10.87859635 ...  27.36631295 -97.09905935\n",
            "  -17.14162839]]\n"
          ]
        }
      ],
      "source": [
        "print(X-R)"
      ]
    },
    {
      "cell_type": "code",
      "execution_count": 160,
      "metadata": {
        "colab": {
          "base_uri": "https://localhost:8080/"
        },
        "id": "JRp7dBMRokfH",
        "outputId": "4d8e4287-d716-4f48-a6dd-0808aceb6cb0"
      },
      "outputs": [
        {
          "output_type": "execute_result",
          "data": {
            "text/plain": [
              "24790.511503550744"
            ]
          },
          "metadata": {},
          "execution_count": 160
        }
      ],
      "source": [
        "np.linalg.norm(X-R)"
      ]
    },
    {
      "cell_type": "markdown",
      "metadata": {
        "id": "Zm5v9CQ1okfH"
      },
      "source": [
        "# Individual tasks\n",
        "\n",
        "**Objective of first task is to leverage noise reduction when working with reduced dimension space.**\n",
        "\n",
        "**Second task should demonstare usage of dimension reductions techniques for 2D visualization and showing clustering results in that vis.**\n",
        "\n",
        "---"
      ]
    },
    {
      "cell_type": "markdown",
      "metadata": {
        "id": "mNZmDEOPokfI"
      },
      "source": [
        "## Task 1(1p) : Complete following tasks for dimension reduction using SVD over our toy datasets (bars, bars_noise20, bars_noise50)"
      ]
    },
    {
      "cell_type": "markdown",
      "metadata": {
        "id": "2G7ql83ZokfI"
      },
      "source": [
        "### Qustion: What does the number from previous cell mean? What is the output from *np.linalg.norm* function?"
      ]
    },
    {
      "cell_type": "markdown",
      "metadata": {
        "id": "OQl4TXWbokfI"
      },
      "source": [
        "Answer: "
      ]
    },
    {
      "cell_type": "markdown",
      "metadata": {
        "id": "odWitIwOokfJ"
      },
      "source": [
        "### Find good number of features/dimension for our toy datasets\n",
        "- Our datasets **X_noise_20** and **X_noise_50** contain noise, we want to use dimension reduction to eliminate impact of noise in our dataset\n",
        "- **Try different number of dimensions for dimension reduction, calculate Frobenius norm for reconstructed and original matrix, create plot with results afterwards.**\n",
        "- Repeat proces for datasets **X**, **X_noise_20**, **X_noise_50**\n"
      ]
    },
    {
      "cell_type": "code",
      "source": [
        "def process_ds(ds, dim):\n",
        "    U, s, V_T = np.linalg.svd(ds, full_matrices=True)\n",
        "    R = U[:, :dim].dot(np.diag(s[:dim])).dot(V_T[:dim])\n",
        "    print(f'frobenius norm for original dataset = {np.linalg.norm(ds)}')\n",
        "    print(f'frobenius norm for reconstructed ds = {np.linalg.norm(R)}')\n",
        "    show_image(R[2])\n",
        "    return R"
      ],
      "metadata": {
        "id": "Lwe_ckcb8N4S"
      },
      "execution_count": 161,
      "outputs": []
    },
    {
      "cell_type": "code",
      "execution_count": 162,
      "metadata": {
        "id": "HwPKvXQMokfJ",
        "colab": {
          "base_uri": "https://localhost:8080/",
          "height": 541
        },
        "outputId": "6c672dd7-d486-43f1-8893-16ca3cd18a92"
      },
      "outputs": [
        {
          "output_type": "stream",
          "name": "stdout",
          "text": [
            "frobenius norm for original dataset = 131202.39422358116\n",
            "frobenius norm for reconstructed ds = 122534.3912143934\n"
          ]
        },
        {
          "output_type": "execute_result",
          "data": {
            "text/plain": [
              "array([[-7.32602513e+01, -5.46753406e+01, -3.63990721e+01, ...,\n",
              "         3.70394132e+02,  2.30591659e+02,  2.21231578e+02],\n",
              "       [-4.67898498e+01, -3.33289437e+01,  1.70223478e+02, ...,\n",
              "        -5.06665342e+00,  5.70461954e+00,  7.95619408e-01],\n",
              "       [-4.19723045e+01,  1.85389728e+02, -8.55443731e+00, ...,\n",
              "         5.92164935e+00,  2.43487673e+02, -1.80170588e+00],\n",
              "       ...,\n",
              "       [ 2.59699592e+01,  2.33104630e+02,  2.59170268e+02, ...,\n",
              "         3.02331672e+01,  3.88597664e+01,  3.03680351e+00],\n",
              "       [ 1.67321913e+02, -5.18746971e+01, -2.19640713e+01, ...,\n",
              "        -3.47132868e-01,  2.27602715e+01,  2.17629371e+02],\n",
              "       [-2.76642540e+01, -2.16392006e+01, -1.25167741e+01, ...,\n",
              "         2.20863855e+02,  4.19112832e+02,  2.25922221e+02]])"
            ]
          },
          "metadata": {},
          "execution_count": 162
        },
        {
          "output_type": "display_data",
          "data": {
            "text/plain": [
              "<Figure size 432x288 with 1 Axes>"
            ],
            "image/png": "[encoded data removed]"
          },
          "metadata": {
            "needs_background": "light"
          }
        }
      ],
      "source": [
        "process_ds(X, 13)"
      ]
    },
    {
      "cell_type": "code",
      "source": [
        "process_ds(X_noise_20, 13)"
      ],
      "metadata": {
        "colab": {
          "base_uri": "https://localhost:8080/",
          "height": 541
        },
        "id": "OuDy5Ni19O3I",
        "outputId": "78938243-a3d0-438c-ff10-4230abc7cd8f"
      },
      "execution_count": 163,
      "outputs": [
        {
          "output_type": "stream",
          "name": "stdout",
          "text": [
            "frobenius norm for original dataset = 123656.5638937133\n",
            "frobenius norm for reconstructed ds = 115274.24518989444\n"
          ]
        },
        {
          "output_type": "execute_result",
          "data": {
            "text/plain": [
              "array([[-70.66099768, -31.47260903,   1.11142058, ..., 351.52697235,\n",
              "        222.64919072, 208.14560769],\n",
              "       [-33.02160428, -26.84540539, 151.54504613, ...,  10.71692561,\n",
              "         29.76385549,  47.00988746],\n",
              "       [  4.89221523, 203.99564689,  38.37985971, ...,  14.69914138,\n",
              "        206.0842313 ,  18.59947658],\n",
              "       ...,\n",
              "       [ 47.93578467, 207.96958855, 234.69495182, ...,  63.13490809,\n",
              "         67.70861605,  20.37682479],\n",
              "       [140.59112073, -47.92343499, -27.62507773, ...,  40.48535758,\n",
              "         69.08624203, 201.88201751],\n",
              "       [-10.00956631,  -2.10947544,   8.98502622, ..., 212.23540574,\n",
              "        358.36866711, 215.81649445]])"
            ]
          },
          "metadata": {},
          "execution_count": 163
        },
        {
          "output_type": "display_data",
          "data": {
            "text/plain": [
              "<Figure size 432x288 with 1 Axes>"
            ],
            "image/png": "[encoded data removed]"
          },
          "metadata": {
            "needs_background": "light"
          }
        }
      ]
    },
    {
      "cell_type": "code",
      "source": [
        "R_50 = process_ds(X_noise_50, 13)"
      ],
      "metadata": {
        "colab": {
          "base_uri": "https://localhost:8080/",
          "height": 302
        },
        "id": "l6I3f4sZ9PIl",
        "outputId": "57651936-dba2-467a-aafa-2656aa0574bb"
      },
      "execution_count": 164,
      "outputs": [
        {
          "output_type": "stream",
          "name": "stdout",
          "text": [
            "frobenius norm for original dataset = 123547.18243650884\n",
            "frobenius norm for reconstructed ds = 109067.66891456595\n"
          ]
        },
        {
          "output_type": "display_data",
          "data": {
            "text/plain": [
              "<Figure size 432x288 with 1 Axes>"
            ],
            "image/png": "[encoded data removed]"
          },
          "metadata": {
            "needs_background": "light"
          }
        }
      ]
    },
    {
      "cell_type": "markdown",
      "metadata": {
        "id": "K8o9fmGQokfJ"
      },
      "source": [
        "### Interpret results based on previous graphs. What is the best number of dimensions? Why? What kind of information our toy dataset have?"
      ]
    },
    {
      "cell_type": "markdown",
      "metadata": {
        "id": "-c_d73OHokfJ"
      },
      "source": [
        "Interpretation:\n",
        "\n",
        "We can afford to reduce the dataset down to just 13 dimensions. Whilst a bit of noise had been added to the first dataset, The data in the noisiest dataset appears to have been reconstructed very well and the noise reduction seems to have helped clean up the data a lot.\n",
        "\n",
        "Our dataset contains images created by combining vertical and horizontal lines.\n",
        "We do not need to know the color of each pixel, we only need to know the position of each horizontal and vertical line (not taking noise into account).\n",
        "Thus, each picture could be represented using just 16 dimensions, rather than 64. The dimension reduction algorithm probably found a way to represent the data\n",
        "as a linear combination of (probably overlapping) lines, rather than a combination of pixels."
      ]
    },
    {
      "cell_type": "markdown",
      "metadata": {
        "id": "bfK-lCvkokfJ"
      },
      "source": [
        "### Visualize record *X_noise_50\\[2\\]* in form of 8x8 image from reconstructed matrix produced for best dimension reduction parameter. Did the use of reduced space helped?"
      ]
    },
    {
      "cell_type": "code",
      "execution_count": 165,
      "metadata": {
        "colab": {
          "base_uri": "https://localhost:8080/",
          "height": 265
        },
        "id": "5o0xqhcsokfJ",
        "outputId": "c3aa46d1-16b5-42b2-9147-87895d9dbfa1"
      },
      "outputs": [
        {
          "output_type": "display_data",
          "data": {
            "text/plain": [
              "<Figure size 432x288 with 1 Axes>"
            ],
            "image/png": "[encoded data removed]"
          },
          "metadata": {
            "needs_background": "light"
          }
        }
      ],
      "source": [
        "show_image(X_noise_50[2])"
      ]
    },
    {
      "cell_type": "code",
      "execution_count": 166,
      "metadata": {
        "id": "AEOEQmEDokfL",
        "colab": {
          "base_uri": "https://localhost:8080/",
          "height": 265
        },
        "outputId": "7c020348-20c9-4362-82b9-773232529232"
      },
      "outputs": [
        {
          "output_type": "display_data",
          "data": {
            "text/plain": [
              "<Figure size 432x288 with 1 Axes>"
            ],
            "image/png": "[encoded data removed]"
          },
          "metadata": {
            "needs_background": "light"
          }
        }
      ],
      "source": [
        "show_image(R_50[2])"
      ]
    },
    {
      "cell_type": "markdown",
      "metadata": {
        "id": "c6bklsGSokfL"
      },
      "source": [
        "## Task 2(1p) : Dimension reduction and visualization of clustering results\n",
        "\n",
        "We have tried some clustering for **Country data** last week. I have copied the most important cells into this notebook.\n",
        "\n",
        "1. Fill in any clustering method for our dataset **Country data**, you can use already scaled matrix **X_scaled**.\n",
        "2. Lets use other dimension reduction techniques: PCA and TSNE from sklearn library and get 2D space representation for our matrix **X_scaled**.\n",
        "3. Use 2D representation from dimension reduction methods for 2D visualization of **Country data** and use color for displaying clusters found in matrix **X_scaled** - create at least two scatter plots for data points and use cluster_id as point's color.\n",
        "\n",
        "- https://scikit-learn.org/stable/modules/generated/sklearn.decomposition.PCA.html\n",
        "- https://scikit-learn.org/stable/modules/generated/sklearn.manifold.TSNE.html"
      ]
    },
    {
      "cell_type": "code",
      "execution_count": 167,
      "metadata": {
        "id": "lN71qrtRokfL"
      },
      "outputs": [],
      "source": [
        "df = pd.read_csv('https://homel.vsb.cz/~svo0175/country-data.csv')\n",
        "df_only_numeric = df.select_dtypes(np.number).copy()\n",
        "scaler = sklearn.preprocessing.StandardScaler()\n",
        "X_scaled = scaler.fit_transform(df_only_numeric.values)"
      ]
    },
    {
      "cell_type": "markdown",
      "metadata": {
        "id": "X2rSZLbzokfL"
      },
      "source": [
        "### Clustering\n",
        "\n",
        "Use any clustering method for preprocessed data.\n",
        "\n",
        "Be aware to apply clustering for **X_scaled**, which is n-diminensional data. Do not use clustering only on 2D representation after dimension reduction. "
      ]
    },
    {
      "cell_type": "code",
      "execution_count": 168,
      "metadata": {
        "id": "21jXpK8CokfL",
        "colab": {
          "base_uri": "https://localhost:8080/"
        },
        "outputId": "dd81ab0e-8d7e-44b1-bc70-7974dbc75862"
      },
      "outputs": [
        {
          "output_type": "execute_result",
          "data": {
            "text/plain": [
              "KMeans(n_clusters=4, random_state=13)"
            ]
          },
          "metadata": {},
          "execution_count": 168
        }
      ],
      "source": [
        "clustering = sklearn.cluster.KMeans(n_clusters=4, random_state=13)\n",
        "clustering.fit(X_scaled)"
      ]
    },
    {
      "cell_type": "markdown",
      "metadata": {
        "tags": [],
        "id": "S7JPBpa6okfL"
      },
      "source": [
        "### 2D vis"
      ]
    },
    {
      "cell_type": "code",
      "execution_count": 169,
      "metadata": {
        "id": "Rp7XtQKOokfM"
      },
      "outputs": [],
      "source": [
        "from sklearn.decomposition import PCA\n",
        "from sklearn.manifold import TSNE"
      ]
    },
    {
      "cell_type": "code",
      "source": [
        "def plot_red(df, reducer):\n",
        "    red = reducer(2)\n",
        "    reduced = red.fit_transform(df)\n",
        "    \n",
        "    reduced = pd.DataFrame({'x': reduced[:, 0], 'y': reduced[:, 1]})\n",
        "    reduced['cluster_id'] = clustering.labels_\n",
        "    \n",
        "    plt.scatter(x=reduced['x'], y=reduced['y'], c=reduced['cluster_id'])"
      ],
      "metadata": {
        "id": "rC-j7caTMpMi"
      },
      "execution_count": 170,
      "outputs": []
    },
    {
      "cell_type": "code",
      "execution_count": 171,
      "metadata": {
        "id": "CZNWI9QKokfM",
        "colab": {
          "base_uri": "https://localhost:8080/",
          "height": 265
        },
        "outputId": "a0ad66ca-cff5-4cf1-9953-2cf950638097"
      },
      "outputs": [
        {
          "output_type": "display_data",
          "data": {
            "text/plain": [
              "<Figure size 432x288 with 1 Axes>"
            ],
            "image/png": "[encoded data removed]"
          },
          "metadata": {
            "needs_background": "light"
          }
        }
      ],
      "source": [
        "plot_red(X_scaled, PCA)"
      ]
    },
    {
      "cell_type": "code",
      "source": [
        "plot_red(X_scaled, TSNE)"
      ],
      "metadata": {
        "colab": {
          "base_uri": "https://localhost:8080/",
          "height": 338
        },
        "id": "Gu9l44PqMSTA",
        "outputId": "b5fc0384-bb37-494c-b41b-12b4a1be863f"
      },
      "execution_count": 172,
      "outputs": [
        {
          "output_type": "stream",
          "name": "stderr",
          "text": [
            "/usr/local/lib/python3.7/dist-packages/sklearn/manifold/_t_sne.py:783: FutureWarning: The default initialization in TSNE will change from 'random' to 'pca' in 1.2.\n",
            "  FutureWarning,\n",
            "/usr/local/lib/python3.7/dist-packages/sklearn/manifold/_t_sne.py:793: FutureWarning: The default learning rate in TSNE will change from 200.0 to 'auto' in 1.2.\n",
            "  FutureWarning,\n"
          ]
        },
        {
          "output_type": "display_data",
          "data": {
            "text/plain": [
              "<Figure size 432x288 with 1 Axes>"
            ],
            "image/png": "[encoded data removed]"
          },
          "metadata": {
            "needs_background": "light"
          }
        }
      ]
    }
  ],
  "metadata": {
    "colab": {
      "collapsed_sections": [],
      "provenance": []
    },
    "kernelspec": {
      "display_name": "Python 3 (ipykernel)",
      "language": "python",
      "name": "python3"
    },
    "language_info": {
      "codemirror_mode": {
        "name": "ipython",
        "version": 3
      },
      "file_extension": ".py",
      "mimetype": "text/x-python",
      "name": "python",
      "nbconvert_exporter": "python",
      "pygments_lexer": "ipython3",
      "version": "3.7.4"
    }
  },
  "nbformat": 4,
  "nbformat_minor": 0
}
