{
  "cells": [
    {
      "cell_type": "markdown",
      "metadata": {
        "id": "l9hHDMhFjshW",
        "tags": []
      },
      "source": [
        "# Exploratory Data Analysis (EDA) of the Titanic dataset\n",
        "\n",
        "Data source: https://www.kaggle.com/c/titanic\n",
        "\n",
        "Goal of this excercise is to try to solve series of tasks which are very similar to the tasks you will face during working on the first (EDA) project in SU.\n",
        "\n",
        "The idea is that you will take a look at the dataset which you have, probably, no prior knowledge and try to form a few hypotheses (de facto circa 5 questions) about the data and you will try to find an answers to them. \n",
        "\n",
        "**It is mandatory to write down your gained insight about each of the hypotheses in your notebook!**"
      ]
    },
    {
      "cell_type": "markdown",
      "metadata": {
        "id": "KM_SbLHgfnOk"
      },
      "source": [
        "#### Data Dictionary\n",
        "\n",
        "|Variable|Definition|Key|\n",
        "|:-------|:-------|:--------|\n",
        "|survival|Survival|0 = No, 1 = Yes|\n",
        "|pclass|Ticket class|1 = 1st, 2 = 2nd, 3 = 3rd|\n",
        "|sex|Sex||\n",
        "|Age|Age in years||\n",
        "|sibsp|# of siblings / spouses aboard the Titanic||\n",
        "|parch|# of parents / children aboard the Titanic||\n",
        "|ticket|Ticket number||\n",
        "|fare|Passenger fare||\n",
        "|cabin|Cabin number||\n",
        "|embarked|Port of Embarkation|C = Cherbourg, Q = Queenstown, S = Southampton|\n",
        "\n",
        "**pclass**: A proxy for socio-economic status (SES)\n",
        "1st = Upper\n",
        "2nd = Middle\n",
        "3rd = Lower\n",
        "\n",
        "**age**: Age is fractional if less than 1. If the age is estimated, is it in the form of xx.5\n",
        "\n",
        "**sibsp**: The dataset defines family relations in this way...\n",
        "Sibling = brother, sister, stepbrother, stepsister\n",
        "Spouse = husband, wife (mistresses and fiancés were ignored)\n",
        "\n",
        "**parch**: The dataset defines family relations in this way...\n",
        "Parent = mother, father\n",
        "Child = daughter, son, stepdaughter, stepson\n",
        "Some children travelled only with a nanny, therefore parch=0 for them."
      ]
    },
    {
      "cell_type": "markdown",
      "metadata": {
        "tags": [],
        "id": "X_MlZ_yQfnOm"
      },
      "source": [
        "## Import used packages"
      ]
    },
    {
      "cell_type": "code",
      "execution_count": 67,
      "metadata": {
        "id": "FVFwXLhL75FZ"
      },
      "outputs": [],
      "source": [
        "import pandas as pd # dataframes\n",
        "import numpy as np # matrices and linear algebra\n",
        "import matplotlib.pyplot as plt # plotting\n",
        "import seaborn as sns # another matplotlib interface - styled and easier to use"
      ]
    },
    {
      "cell_type": "markdown",
      "metadata": {
        "id": "-5T2pN13fnOo"
      },
      "source": [
        "## Load the data into the Pandas DataFrame - in our case it is a csv file"
      ]
    },
    {
      "cell_type": "code",
      "execution_count": 68,
      "metadata": {
        "colab": {
          "base_uri": "https://localhost:8080/",
          "height": 206
        },
        "id": "N4GzDy2VfnOp",
        "outputId": "155634f2-cc8e-4261-9a75-9218ff330e0b"
      },
      "outputs": [
        {
          "output_type": "execute_result",
          "data": {
            "text/plain": [
              "   PassengerId  Survived  Pclass  \\\n",
              "0            1         0       3   \n",
              "1            2         1       1   \n",
              "2            3         1       3   \n",
              "3            4         1       1   \n",
              "4            5         0       3   \n",
              "\n",
              "                                                Name     Sex   Age  SibSp  \\\n",
              "0                            Braund, Mr. Owen Harris    male  22.0      1   \n",
              "1  Cumings, Mrs. John Bradley (Florence Briggs Th...  female  38.0      1   \n",
              "2                             Heikkinen, Miss. Laina  female  26.0      0   \n",
              "3       Futrelle, Mrs. Jacques Heath (Lily May Peel)  female  35.0      1   \n",
              "4                           Allen, Mr. William Henry    male  35.0      0   \n",
              "\n",
              "   Parch            Ticket     Fare Cabin Embarked  \n",
              "0      0         A/5 21171   7.2500   NaN        S  \n",
              "1      0          PC 17599  71.2833   C85        C  \n",
              "2      0  STON/O2. 3101282   7.9250   NaN        S  \n",
              "3      0            113803  53.1000  C123        S  \n",
              "4      0            373450   8.0500   NaN        S  "
            ],
            "text/html": [
              "\n",
              "  <div id=\"df-f48f7c2a-2dae-4843-abdf-f907ea5206a7\">\n",
              "    <div class=\"colab-df-container\">\n",
              "      <div>\n",
              "<style scoped>\n",
              "    .dataframe tbody tr th:only-of-type {\n",
              "        vertical-align: middle;\n",
              "    }\n",
              "\n",
              "    .dataframe tbody tr th {\n",
              "        vertical-align: top;\n",
              "    }\n",
              "\n",
              "    .dataframe thead th {\n",
              "        text-align: right;\n",
              "    }\n",
              "</style>\n",
              "<table border=\"1\" class=\"dataframe\">\n",
              "  <thead>\n",
              "    <tr style=\"text-align: right;\">\n",
              "      <th></th>\n",
              "      <th>PassengerId</th>\n",
              "      <th>Survived</th>\n",
              "      <th>Pclass</th>\n",
              "      <th>Name</th>\n",
              "      <th>Sex</th>\n",
              "      <th>Age</th>\n",
              "      <th>SibSp</th>\n",
              "      <th>Parch</th>\n",
              "      <th>Ticket</th>\n",
              "      <th>Fare</th>\n",
              "      <th>Cabin</th>\n",
              "      <th>Embarked</th>\n",
              "    </tr>\n",
              "  </thead>\n",
              "  <tbody>\n",
              "    <tr>\n",
              "      <th>0</th>\n",
              "      <td>1</td>\n",
              "      <td>0</td>\n",
              "      <td>3</td>\n",
              "      <td>Braund, Mr. Owen Harris</td>\n",
              "      <td>male</td>\n",
              "      <td>22.0</td>\n",
              "      <td>1</td>\n",
              "      <td>0</td>\n",
              "      <td>A/5 21171</td>\n",
              "      <td>7.2500</td>\n",
              "      <td>NaN</td>\n",
              "      <td>S</td>\n",
              "    </tr>\n",
              "    <tr>\n",
              "      <th>1</th>\n",
              "      <td>2</td>\n",
              "      <td>1</td>\n",
              "      <td>1</td>\n",
              "      <td>Cumings, Mrs. John Bradley (Florence Briggs Th...</td>\n",
              "      <td>female</td>\n",
              "      <td>38.0</td>\n",
              "      <td>1</td>\n",
              "      <td>0</td>\n",
              "      <td>PC 17599</td>\n",
              "      <td>71.2833</td>\n",
              "      <td>C85</td>\n",
              "      <td>C</td>\n",
              "    </tr>\n",
              "    <tr>\n",
              "      <th>2</th>\n",
              "      <td>3</td>\n",
              "      <td>1</td>\n",
              "      <td>3</td>\n",
              "      <td>Heikkinen, Miss. Laina</td>\n",
              "      <td>female</td>\n",
              "      <td>26.0</td>\n",
              "      <td>0</td>\n",
              "      <td>0</td>\n",
              "      <td>STON/O2. 3101282</td>\n",
              "      <td>7.9250</td>\n",
              "      <td>NaN</td>\n",
              "      <td>S</td>\n",
              "    </tr>\n",
              "    <tr>\n",
              "      <th>3</th>\n",
              "      <td>4</td>\n",
              "      <td>1</td>\n",
              "      <td>1</td>\n",
              "      <td>Futrelle, Mrs. Jacques Heath (Lily May Peel)</td>\n",
              "      <td>female</td>\n",
              "      <td>35.0</td>\n",
              "      <td>1</td>\n",
              "      <td>0</td>\n",
              "      <td>113803</td>\n",
              "      <td>53.1000</td>\n",
              "      <td>C123</td>\n",
              "      <td>S</td>\n",
              "    </tr>\n",
              "    <tr>\n",
              "      <th>4</th>\n",
              "      <td>5</td>\n",
              "      <td>0</td>\n",
              "      <td>3</td>\n",
              "      <td>Allen, Mr. William Henry</td>\n",
              "      <td>male</td>\n",
              "      <td>35.0</td>\n",
              "      <td>0</td>\n",
              "      <td>0</td>\n",
              "      <td>373450</td>\n",
              "      <td>8.0500</td>\n",
              "      <td>NaN</td>\n",
              "      <td>S</td>\n",
              "    </tr>\n",
              "  </tbody>\n",
              "</table>\n",
              "</div>\n",
              "      <button class=\"colab-df-convert\" onclick=\"convertToInteractive('df-f48f7c2a-2dae-4843-abdf-f907ea5206a7')\"\n",
              "              title=\"Convert this dataframe to an interactive table.\"\n",
              "              style=\"display:none;\">\n",
              "        \n",
              "  <svg xmlns=\"http://www.w3.org/2000/svg\" height=\"24px\"viewBox=\"0 0 24 24\"\n",
              "       width=\"24px\">\n",
              "    <path d=\"M0 0h24v24H0V0z\" fill=\"none\"/>\n",
              "    <path d=\"M18.56 5.44l.94 2.06.94-2.06 2.06-.94-2.06-.94-.94-2.06-.94 2.06-2.06.94zm-11 1L8.5 8.5l.94-2.06 2.06-.94-2.06-.94L8.5 2.5l-.94 2.06-2.06.94zm10 10l.94 2.06.94-2.06 2.06-.94-2.06-.94-.94-2.06-.94 2.06-2.06.94z\"/><path d=\"M17.41 7.96l-1.37-1.37c-.4-.4-.92-.59-1.43-.59-.52 0-1.04.2-1.43.59L10.3 9.45l-7.72 7.72c-.78.78-.78 2.05 0 2.83L4 21.41c.39.39.9.59 1.41.59.51 0 1.02-.2 1.41-.59l7.78-7.78 2.81-2.81c.8-.78.8-2.07 0-2.86zM5.41 20L4 18.59l7.72-7.72 1.47 1.35L5.41 20z\"/>\n",
              "  </svg>\n",
              "      </button>\n",
              "      \n",
              "  <style>\n",
              "    .colab-df-container {\n",
              "      display:flex;\n",
              "      flex-wrap:wrap;\n",
              "      gap: 12px;\n",
              "    }\n",
              "\n",
              "    .colab-df-convert {\n",
              "      background-color: #E8F0FE;\n",
              "      border: none;\n",
              "      border-radius: 50%;\n",
              "      cursor: pointer;\n",
              "      display: none;\n",
              "      fill: #1967D2;\n",
              "      height: 32px;\n",
              "      padding: 0 0 0 0;\n",
              "      width: 32px;\n",
              "    }\n",
              "\n",
              "    .colab-df-convert:hover {\n",
              "      background-color: #E2EBFA;\n",
              "      box-shadow: 0px 1px 2px rgba(60, 64, 67, 0.3), 0px 1px 3px 1px rgba(60, 64, 67, 0.15);\n",
              "      fill: #174EA6;\n",
              "    }\n",
              "\n",
              "    [theme=dark] .colab-df-convert {\n",
              "      background-color: #3B4455;\n",
              "      fill: #D2E3FC;\n",
              "    }\n",
              "\n",
              "    [theme=dark] .colab-df-convert:hover {\n",
              "      background-color: #434B5C;\n",
              "      box-shadow: 0px 1px 3px 1px rgba(0, 0, 0, 0.15);\n",
              "      filter: drop-shadow(0px 1px 2px rgba(0, 0, 0, 0.3));\n",
              "      fill: #FFFFFF;\n",
              "    }\n",
              "  </style>\n",
              "\n",
              "      <script>\n",
              "        const buttonEl =\n",
              "          document.querySelector('#df-f48f7c2a-2dae-4843-abdf-f907ea5206a7 button.colab-df-convert');\n",
              "        buttonEl.style.display =\n",
              "          google.colab.kernel.accessAllowed ? 'block' : 'none';\n",
              "\n",
              "        async function convertToInteractive(key) {\n",
              "          const element = document.querySelector('#df-f48f7c2a-2dae-4843-abdf-f907ea5206a7');\n",
              "          const dataTable =\n",
              "            await google.colab.kernel.invokeFunction('convertToInteractive',\n",
              "                                                     [key], {});\n",
              "          if (!dataTable) return;\n",
              "\n",
              "          const docLinkHtml = 'Like what you see? Visit the ' +\n",
              "            '<a target=\"_blank\" href=https://colab.research.google.com/notebooks/data_table.ipynb>data table notebook</a>'\n",
              "            + ' to learn more about interactive tables.';\n",
              "          element.innerHTML = '';\n",
              "          dataTable['output_type'] = 'display_data';\n",
              "          await google.colab.output.renderOutput(dataTable, element);\n",
              "          const docLink = document.createElement('div');\n",
              "          docLink.innerHTML = docLinkHtml;\n",
              "          element.appendChild(docLink);\n",
              "        }\n",
              "      </script>\n",
              "    </div>\n",
              "  </div>\n",
              "  "
            ]
          },
          "metadata": {},
          "execution_count": 68
        }
      ],
      "source": [
        "df = pd.read_csv('https://homel.vsb.cz/~svo0175/titanic.csv', sep=',')\n",
        "# df = pd.read_csv('data_exploration/titanic.csv', sep=',')\n",
        "df.head()"
      ]
    },
    {
      "cell_type": "code",
      "execution_count": 69,
      "metadata": {
        "colab": {
          "base_uri": "https://localhost:8080/"
        },
        "id": "MbwSXglMfnOr",
        "outputId": "14381642-b5ff-4d70-92b5-55862fcd34e0"
      },
      "outputs": [
        {
          "output_type": "execute_result",
          "data": {
            "text/plain": [
              "PassengerId      0\n",
              "Survived         0\n",
              "Pclass           0\n",
              "Name             0\n",
              "Sex              0\n",
              "Age            177\n",
              "SibSp            0\n",
              "Parch            0\n",
              "Ticket           0\n",
              "Fare             0\n",
              "Cabin          687\n",
              "Embarked         2\n",
              "dtype: int64"
            ]
          },
          "metadata": {},
          "execution_count": 69
        }
      ],
      "source": [
        "df.isnull().sum()"
      ]
    },
    {
      "cell_type": "code",
      "execution_count": 70,
      "metadata": {
        "colab": {
          "base_uri": "https://localhost:8080/"
        },
        "id": "moexvw2afnOs",
        "outputId": "924df916-1128-4387-e2c7-47d138cf00fe"
      },
      "outputs": [
        {
          "output_type": "execute_result",
          "data": {
            "text/plain": [
              "PassengerId      int64\n",
              "Survived         int64\n",
              "Pclass           int64\n",
              "Name            object\n",
              "Sex             object\n",
              "Age            float64\n",
              "SibSp            int64\n",
              "Parch            int64\n",
              "Ticket          object\n",
              "Fare           float64\n",
              "Cabin           object\n",
              "Embarked        object\n",
              "dtype: object"
            ]
          },
          "metadata": {},
          "execution_count": 70
        }
      ],
      "source": [
        "df.dtypes"
      ]
    },
    {
      "cell_type": "code",
      "execution_count": 71,
      "metadata": {
        "colab": {
          "base_uri": "https://localhost:8080/",
          "height": 300
        },
        "id": "Ddl1gmBQfnOt",
        "outputId": "c6cdd26f-4f40-4f30-81f5-1b62d1b4648c"
      },
      "outputs": [
        {
          "output_type": "execute_result",
          "data": {
            "text/plain": [
              "       PassengerId    Survived      Pclass         Age       SibSp  \\\n",
              "count   891.000000  891.000000  891.000000  714.000000  891.000000   \n",
              "mean    446.000000    0.383838    2.308642   29.699118    0.523008   \n",
              "std     257.353842    0.486592    0.836071   14.526497    1.102743   \n",
              "min       1.000000    0.000000    1.000000    0.420000    0.000000   \n",
              "25%     223.500000    0.000000    2.000000   20.125000    0.000000   \n",
              "50%     446.000000    0.000000    3.000000   28.000000    0.000000   \n",
              "75%     668.500000    1.000000    3.000000   38.000000    1.000000   \n",
              "max     891.000000    1.000000    3.000000   80.000000    8.000000   \n",
              "\n",
              "            Parch        Fare  \n",
              "count  891.000000  891.000000  \n",
              "mean     0.381594   32.204208  \n",
              "std      0.806057   49.693429  \n",
              "min      0.000000    0.000000  \n",
              "25%      0.000000    7.910400  \n",
              "50%      0.000000   14.454200  \n",
              "75%      0.000000   31.000000  \n",
              "max      6.000000  512.329200  "
            ],
            "text/html": [
              "\n",
              "  <div id=\"df-92284551-d18c-4859-8b7f-36bb332c653a\">\n",
              "    <div class=\"colab-df-container\">\n",
              "      <div>\n",
              "<style scoped>\n",
              "    .dataframe tbody tr th:only-of-type {\n",
              "        vertical-align: middle;\n",
              "    }\n",
              "\n",
              "    .dataframe tbody tr th {\n",
              "        vertical-align: top;\n",
              "    }\n",
              "\n",
              "    .dataframe thead th {\n",
              "        text-align: right;\n",
              "    }\n",
              "</style>\n",
              "<table border=\"1\" class=\"dataframe\">\n",
              "  <thead>\n",
              "    <tr style=\"text-align: right;\">\n",
              "      <th></th>\n",
              "      <th>PassengerId</th>\n",
              "      <th>Survived</th>\n",
              "      <th>Pclass</th>\n",
              "      <th>Age</th>\n",
              "      <th>SibSp</th>\n",
              "      <th>Parch</th>\n",
              "      <th>Fare</th>\n",
              "    </tr>\n",
              "  </thead>\n",
              "  <tbody>\n",
              "    <tr>\n",
              "      <th>count</th>\n",
              "      <td>891.000000</td>\n",
              "      <td>891.000000</td>\n",
              "      <td>891.000000</td>\n",
              "      <td>714.000000</td>\n",
              "      <td>891.000000</td>\n",
              "      <td>891.000000</td>\n",
              "      <td>891.000000</td>\n",
              "    </tr>\n",
              "    <tr>\n",
              "      <th>mean</th>\n",
              "      <td>446.000000</td>\n",
              "      <td>0.383838</td>\n",
              "      <td>2.308642</td>\n",
              "      <td>29.699118</td>\n",
              "      <td>0.523008</td>\n",
              "      <td>0.381594</td>\n",
              "      <td>32.204208</td>\n",
              "    </tr>\n",
              "    <tr>\n",
              "      <th>std</th>\n",
              "      <td>257.353842</td>\n",
              "      <td>0.486592</td>\n",
              "      <td>0.836071</td>\n",
              "      <td>14.526497</td>\n",
              "      <td>1.102743</td>\n",
              "      <td>0.806057</td>\n",
              "      <td>49.693429</td>\n",
              "    </tr>\n",
              "    <tr>\n",
              "      <th>min</th>\n",
              "      <td>1.000000</td>\n",
              "      <td>0.000000</td>\n",
              "      <td>1.000000</td>\n",
              "      <td>0.420000</td>\n",
              "      <td>0.000000</td>\n",
              "      <td>0.000000</td>\n",
              "      <td>0.000000</td>\n",
              "    </tr>\n",
              "    <tr>\n",
              "      <th>25%</th>\n",
              "      <td>223.500000</td>\n",
              "      <td>0.000000</td>\n",
              "      <td>2.000000</td>\n",
              "      <td>20.125000</td>\n",
              "      <td>0.000000</td>\n",
              "      <td>0.000000</td>\n",
              "      <td>7.910400</td>\n",
              "    </tr>\n",
              "    <tr>\n",
              "      <th>50%</th>\n",
              "      <td>446.000000</td>\n",
              "      <td>0.000000</td>\n",
              "      <td>3.000000</td>\n",
              "      <td>28.000000</td>\n",
              "      <td>0.000000</td>\n",
              "      <td>0.000000</td>\n",
              "      <td>14.454200</td>\n",
              "    </tr>\n",
              "    <tr>\n",
              "      <th>75%</th>\n",
              "      <td>668.500000</td>\n",
              "      <td>1.000000</td>\n",
              "      <td>3.000000</td>\n",
              "      <td>38.000000</td>\n",
              "      <td>1.000000</td>\n",
              "      <td>0.000000</td>\n",
              "      <td>31.000000</td>\n",
              "    </tr>\n",
              "    <tr>\n",
              "      <th>max</th>\n",
              "      <td>891.000000</td>\n",
              "      <td>1.000000</td>\n",
              "      <td>3.000000</td>\n",
              "      <td>80.000000</td>\n",
              "      <td>8.000000</td>\n",
              "      <td>6.000000</td>\n",
              "      <td>512.329200</td>\n",
              "    </tr>\n",
              "  </tbody>\n",
              "</table>\n",
              "</div>\n",
              "      <button class=\"colab-df-convert\" onclick=\"convertToInteractive('df-92284551-d18c-4859-8b7f-36bb332c653a')\"\n",
              "              title=\"Convert this dataframe to an interactive table.\"\n",
              "              style=\"display:none;\">\n",
              "        \n",
              "  <svg xmlns=\"http://www.w3.org/2000/svg\" height=\"24px\"viewBox=\"0 0 24 24\"\n",
              "       width=\"24px\">\n",
              "    <path d=\"M0 0h24v24H0V0z\" fill=\"none\"/>\n",
              "    <path d=\"M18.56 5.44l.94 2.06.94-2.06 2.06-.94-2.06-.94-.94-2.06-.94 2.06-2.06.94zm-11 1L8.5 8.5l.94-2.06 2.06-.94-2.06-.94L8.5 2.5l-.94 2.06-2.06.94zm10 10l.94 2.06.94-2.06 2.06-.94-2.06-.94-.94-2.06-.94 2.06-2.06.94z\"/><path d=\"M17.41 7.96l-1.37-1.37c-.4-.4-.92-.59-1.43-.59-.52 0-1.04.2-1.43.59L10.3 9.45l-7.72 7.72c-.78.78-.78 2.05 0 2.83L4 21.41c.39.39.9.59 1.41.59.51 0 1.02-.2 1.41-.59l7.78-7.78 2.81-2.81c.8-.78.8-2.07 0-2.86zM5.41 20L4 18.59l7.72-7.72 1.47 1.35L5.41 20z\"/>\n",
              "  </svg>\n",
              "      </button>\n",
              "      \n",
              "  <style>\n",
              "    .colab-df-container {\n",
              "      display:flex;\n",
              "      flex-wrap:wrap;\n",
              "      gap: 12px;\n",
              "    }\n",
              "\n",
              "    .colab-df-convert {\n",
              "      background-color: #E8F0FE;\n",
              "      border: none;\n",
              "      border-radius: 50%;\n",
              "      cursor: pointer;\n",
              "      display: none;\n",
              "      fill: #1967D2;\n",
              "      height: 32px;\n",
              "      padding: 0 0 0 0;\n",
              "      width: 32px;\n",
              "    }\n",
              "\n",
              "    .colab-df-convert:hover {\n",
              "      background-color: #E2EBFA;\n",
              "      box-shadow: 0px 1px 2px rgba(60, 64, 67, 0.3), 0px 1px 3px 1px rgba(60, 64, 67, 0.15);\n",
              "      fill: #174EA6;\n",
              "    }\n",
              "\n",
              "    [theme=dark] .colab-df-convert {\n",
              "      background-color: #3B4455;\n",
              "      fill: #D2E3FC;\n",
              "    }\n",
              "\n",
              "    [theme=dark] .colab-df-convert:hover {\n",
              "      background-color: #434B5C;\n",
              "      box-shadow: 0px 1px 3px 1px rgba(0, 0, 0, 0.15);\n",
              "      filter: drop-shadow(0px 1px 2px rgba(0, 0, 0, 0.3));\n",
              "      fill: #FFFFFF;\n",
              "    }\n",
              "  </style>\n",
              "\n",
              "      <script>\n",
              "        const buttonEl =\n",
              "          document.querySelector('#df-92284551-d18c-4859-8b7f-36bb332c653a button.colab-df-convert');\n",
              "        buttonEl.style.display =\n",
              "          google.colab.kernel.accessAllowed ? 'block' : 'none';\n",
              "\n",
              "        async function convertToInteractive(key) {\n",
              "          const element = document.querySelector('#df-92284551-d18c-4859-8b7f-36bb332c653a');\n",
              "          const dataTable =\n",
              "            await google.colab.kernel.invokeFunction('convertToInteractive',\n",
              "                                                     [key], {});\n",
              "          if (!dataTable) return;\n",
              "\n",
              "          const docLinkHtml = 'Like what you see? Visit the ' +\n",
              "            '<a target=\"_blank\" href=https://colab.research.google.com/notebooks/data_table.ipynb>data table notebook</a>'\n",
              "            + ' to learn more about interactive tables.';\n",
              "          element.innerHTML = '';\n",
              "          dataTable['output_type'] = 'display_data';\n",
              "          await google.colab.output.renderOutput(dataTable, element);\n",
              "          const docLink = document.createElement('div');\n",
              "          docLink.innerHTML = docLinkHtml;\n",
              "          element.appendChild(docLink);\n",
              "        }\n",
              "      </script>\n",
              "    </div>\n",
              "  </div>\n",
              "  "
            ]
          },
          "metadata": {},
          "execution_count": 71
        }
      ],
      "source": [
        "df.describe()"
      ]
    },
    {
      "cell_type": "markdown",
      "metadata": {
        "tags": [],
        "id": "UPkaG_9RfnOu"
      },
      "source": [
        "## Task 1\n",
        "**Description:** What percentage of passangers survived in different pclass?"
      ]
    },
    {
      "cell_type": "markdown",
      "metadata": {
        "id": "YSjb6QKSfnOv"
      },
      "source": [
        "First we need to calculate number of passengers for pclass and survived category."
      ]
    },
    {
      "cell_type": "code",
      "execution_count": 72,
      "metadata": {
        "colab": {
          "base_uri": "https://localhost:8080/"
        },
        "id": "IB-pKXhwfnOw",
        "outputId": "06b33f5a-a1e3-4a4e-f636-5f888965ada5"
      },
      "outputs": [
        {
          "output_type": "execute_result",
          "data": {
            "text/plain": [
              "Pclass  Survived\n",
              "1       0            80\n",
              "        1           136\n",
              "2       0            97\n",
              "        1            87\n",
              "3       0           372\n",
              "        1           119\n",
              "Name: PassengerId, dtype: int64"
            ]
          },
          "metadata": {},
          "execution_count": 72
        }
      ],
      "source": [
        "agg_pclass_survived = df.groupby(['Pclass', 'Survived']).PassengerId.count()\n",
        "agg_pclass_survived"
      ]
    },
    {
      "cell_type": "markdown",
      "metadata": {
        "id": "NO9Zo27ifnOx"
      },
      "source": [
        "To calculate percentage ration of survivors in different class we need to calculate total for each class before calculation.\n",
        "\n",
        "For example for first row we would calculate percentage on paper by calculcation $\\frac{80}{80+136} = \\frac{80}{216} = 0.370$"
      ]
    },
    {
      "cell_type": "code",
      "execution_count": 73,
      "metadata": {
        "colab": {
          "base_uri": "https://localhost:8080/"
        },
        "id": "A0p2H6EKfnOx",
        "outputId": "78eaa4bf-ad95-4343-ad52-1fe2d4911567"
      },
      "outputs": [
        {
          "output_type": "execute_result",
          "data": {
            "text/plain": [
              "Pclass\n",
              "1    216\n",
              "2    184\n",
              "3    491\n",
              "Name: PassengerId, dtype: int64"
            ]
          },
          "metadata": {},
          "execution_count": 73
        }
      ],
      "source": [
        "agg_pclass = df.groupby('Pclass').PassengerId.count()\n",
        "agg_pclass"
      ]
    },
    {
      "cell_type": "markdown",
      "metadata": {
        "id": "fZf0-HItfnOy"
      },
      "source": [
        "We let previous variables as type pandas.Series, which include index (first row, indetifier). We can use this index for mathematical calculations :-). Position with matching index will be used for calculation."
      ]
    },
    {
      "cell_type": "code",
      "execution_count": 74,
      "metadata": {
        "colab": {
          "base_uri": "https://localhost:8080/"
        },
        "id": "yJeKsUgrfnOy",
        "outputId": "5b1b63fb-405c-4e71-f405-fed62d34f595"
      },
      "outputs": [
        {
          "output_type": "execute_result",
          "data": {
            "text/plain": [
              "Pclass  Survived\n",
              "1       0           0.370370\n",
              "        1           0.629630\n",
              "2       0           0.527174\n",
              "        1           0.472826\n",
              "3       0           0.757637\n",
              "        1           0.242363\n",
              "Name: PassengerId, dtype: float64"
            ]
          },
          "metadata": {},
          "execution_count": 74
        }
      ],
      "source": [
        "agg_pclass_survived / agg_pclass"
      ]
    },
    {
      "cell_type": "code",
      "execution_count": 75,
      "metadata": {
        "colab": {
          "base_uri": "https://localhost:8080/",
          "height": 238
        },
        "id": "YiR1sDw4fnOz",
        "outputId": "9c0ba729-642b-4762-a329-648526b51f0d"
      },
      "outputs": [
        {
          "output_type": "execute_result",
          "data": {
            "text/plain": [
              "   Pclass  Survived     Ratio\n",
              "0       1         0  0.370370\n",
              "1       1         1  0.629630\n",
              "2       2         0  0.527174\n",
              "3       2         1  0.472826\n",
              "4       3         0  0.757637\n",
              "5       3         1  0.242363"
            ],
            "text/html": [
              "\n",
              "  <div id=\"df-922efe51-2980-4d7c-a1a0-5e80a772a8d3\">\n",
              "    <div class=\"colab-df-container\">\n",
              "      <div>\n",
              "<style scoped>\n",
              "    .dataframe tbody tr th:only-of-type {\n",
              "        vertical-align: middle;\n",
              "    }\n",
              "\n",
              "    .dataframe tbody tr th {\n",
              "        vertical-align: top;\n",
              "    }\n",
              "\n",
              "    .dataframe thead th {\n",
              "        text-align: right;\n",
              "    }\n",
              "</style>\n",
              "<table border=\"1\" class=\"dataframe\">\n",
              "  <thead>\n",
              "    <tr style=\"text-align: right;\">\n",
              "      <th></th>\n",
              "      <th>Pclass</th>\n",
              "      <th>Survived</th>\n",
              "      <th>Ratio</th>\n",
              "    </tr>\n",
              "  </thead>\n",
              "  <tbody>\n",
              "    <tr>\n",
              "      <th>0</th>\n",
              "      <td>1</td>\n",
              "      <td>0</td>\n",
              "      <td>0.370370</td>\n",
              "    </tr>\n",
              "    <tr>\n",
              "      <th>1</th>\n",
              "      <td>1</td>\n",
              "      <td>1</td>\n",
              "      <td>0.629630</td>\n",
              "    </tr>\n",
              "    <tr>\n",
              "      <th>2</th>\n",
              "      <td>2</td>\n",
              "      <td>0</td>\n",
              "      <td>0.527174</td>\n",
              "    </tr>\n",
              "    <tr>\n",
              "      <th>3</th>\n",
              "      <td>2</td>\n",
              "      <td>1</td>\n",
              "      <td>0.472826</td>\n",
              "    </tr>\n",
              "    <tr>\n",
              "      <th>4</th>\n",
              "      <td>3</td>\n",
              "      <td>0</td>\n",
              "      <td>0.757637</td>\n",
              "    </tr>\n",
              "    <tr>\n",
              "      <th>5</th>\n",
              "      <td>3</td>\n",
              "      <td>1</td>\n",
              "      <td>0.242363</td>\n",
              "    </tr>\n",
              "  </tbody>\n",
              "</table>\n",
              "</div>\n",
              "      <button class=\"colab-df-convert\" onclick=\"convertToInteractive('df-922efe51-2980-4d7c-a1a0-5e80a772a8d3')\"\n",
              "              title=\"Convert this dataframe to an interactive table.\"\n",
              "              style=\"display:none;\">\n",
              "        \n",
              "  <svg xmlns=\"http://www.w3.org/2000/svg\" height=\"24px\"viewBox=\"0 0 24 24\"\n",
              "       width=\"24px\">\n",
              "    <path d=\"M0 0h24v24H0V0z\" fill=\"none\"/>\n",
              "    <path d=\"M18.56 5.44l.94 2.06.94-2.06 2.06-.94-2.06-.94-.94-2.06-.94 2.06-2.06.94zm-11 1L8.5 8.5l.94-2.06 2.06-.94-2.06-.94L8.5 2.5l-.94 2.06-2.06.94zm10 10l.94 2.06.94-2.06 2.06-.94-2.06-.94-.94-2.06-.94 2.06-2.06.94z\"/><path d=\"M17.41 7.96l-1.37-1.37c-.4-.4-.92-.59-1.43-.59-.52 0-1.04.2-1.43.59L10.3 9.45l-7.72 7.72c-.78.78-.78 2.05 0 2.83L4 21.41c.39.39.9.59 1.41.59.51 0 1.02-.2 1.41-.59l7.78-7.78 2.81-2.81c.8-.78.8-2.07 0-2.86zM5.41 20L4 18.59l7.72-7.72 1.47 1.35L5.41 20z\"/>\n",
              "  </svg>\n",
              "      </button>\n",
              "      \n",
              "  <style>\n",
              "    .colab-df-container {\n",
              "      display:flex;\n",
              "      flex-wrap:wrap;\n",
              "      gap: 12px;\n",
              "    }\n",
              "\n",
              "    .colab-df-convert {\n",
              "      background-color: #E8F0FE;\n",
              "      border: none;\n",
              "      border-radius: 50%;\n",
              "      cursor: pointer;\n",
              "      display: none;\n",
              "      fill: #1967D2;\n",
              "      height: 32px;\n",
              "      padding: 0 0 0 0;\n",
              "      width: 32px;\n",
              "    }\n",
              "\n",
              "    .colab-df-convert:hover {\n",
              "      background-color: #E2EBFA;\n",
              "      box-shadow: 0px 1px 2px rgba(60, 64, 67, 0.3), 0px 1px 3px 1px rgba(60, 64, 67, 0.15);\n",
              "      fill: #174EA6;\n",
              "    }\n",
              "\n",
              "    [theme=dark] .colab-df-convert {\n",
              "      background-color: #3B4455;\n",
              "      fill: #D2E3FC;\n",
              "    }\n",
              "\n",
              "    [theme=dark] .colab-df-convert:hover {\n",
              "      background-color: #434B5C;\n",
              "      box-shadow: 0px 1px 3px 1px rgba(0, 0, 0, 0.15);\n",
              "      filter: drop-shadow(0px 1px 2px rgba(0, 0, 0, 0.3));\n",
              "      fill: #FFFFFF;\n",
              "    }\n",
              "  </style>\n",
              "\n",
              "      <script>\n",
              "        const buttonEl =\n",
              "          document.querySelector('#df-922efe51-2980-4d7c-a1a0-5e80a772a8d3 button.colab-df-convert');\n",
              "        buttonEl.style.display =\n",
              "          google.colab.kernel.accessAllowed ? 'block' : 'none';\n",
              "\n",
              "        async function convertToInteractive(key) {\n",
              "          const element = document.querySelector('#df-922efe51-2980-4d7c-a1a0-5e80a772a8d3');\n",
              "          const dataTable =\n",
              "            await google.colab.kernel.invokeFunction('convertToInteractive',\n",
              "                                                     [key], {});\n",
              "          if (!dataTable) return;\n",
              "\n",
              "          const docLinkHtml = 'Like what you see? Visit the ' +\n",
              "            '<a target=\"_blank\" href=https://colab.research.google.com/notebooks/data_table.ipynb>data table notebook</a>'\n",
              "            + ' to learn more about interactive tables.';\n",
              "          element.innerHTML = '';\n",
              "          dataTable['output_type'] = 'display_data';\n",
              "          await google.colab.output.renderOutput(dataTable, element);\n",
              "          const docLink = document.createElement('div');\n",
              "          docLink.innerHTML = docLinkHtml;\n",
              "          element.appendChild(docLink);\n",
              "        }\n",
              "      </script>\n",
              "    </div>\n",
              "  </div>\n",
              "  "
            ]
          },
          "metadata": {},
          "execution_count": 75
        }
      ],
      "source": [
        "df_agg = (agg_pclass_survived / agg_pclass).reset_index(name='Ratio')\n",
        "df_agg"
      ]
    },
    {
      "cell_type": "markdown",
      "metadata": {
        "id": "8gkGfnw3fnO0"
      },
      "source": [
        "Lets visualize our result using seaborn.barplot"
      ]
    },
    {
      "cell_type": "code",
      "execution_count": 76,
      "metadata": {
        "colab": {
          "base_uri": "https://localhost:8080/",
          "height": 297
        },
        "id": "yO0iwieNfnO1",
        "outputId": "624681e3-fde8-40dc-9922-c687cc43eebc"
      },
      "outputs": [
        {
          "output_type": "execute_result",
          "data": {
            "text/plain": [
              "<matplotlib.axes._subplots.AxesSubplot at 0x7f61eb47e090>"
            ]
          },
          "metadata": {},
          "execution_count": 76
        },
        {
          "output_type": "display_data",
          "data": {
            "text/plain": [
              "<Figure size 432x288 with 1 Axes>"
            ],
            "image/png": "[encoded data removed]"
          },
          "metadata": {
            "needs_background": "light"
          }
        }
      ],
      "source": [
        "sns.barplot(data=df_agg, x='Pclass', y='Ratio', hue='Survived')"
      ]
    },
    {
      "cell_type": "markdown",
      "metadata": {
        "id": "5bBdzii_fnO1"
      },
      "source": [
        "We can notice that higher percentage of survived is in 1st class - over 60%."
      ]
    },
    {
      "cell_type": "markdown",
      "metadata": {
        "id": "KKxTlz8OfnO1"
      },
      "source": [
        "**Better visualization can be done in form of stacked bar plot. However, there is no easy way to do this in seaborn. Following is small example from internet for stacked bar plot using Matplotlib.**"
      ]
    },
    {
      "cell_type": "code",
      "execution_count": 77,
      "metadata": {
        "colab": {
          "base_uri": "https://localhost:8080/",
          "height": 283
        },
        "id": "bPJJV8A1fnO2",
        "outputId": "19b7ea60-938a-4405-c5a3-7cc3afa1c0ae"
      },
      "outputs": [
        {
          "output_type": "execute_result",
          "data": {
            "text/plain": [
              "<BarContainer object of 3 artists>"
            ]
          },
          "metadata": {},
          "execution_count": 77
        },
        {
          "output_type": "display_data",
          "data": {
            "text/plain": [
              "<Figure size 432x288 with 1 Axes>"
            ],
            "image/png": "[encoded data removed]"
          },
          "metadata": {
            "needs_background": "light"
          }
        }
      ],
      "source": [
        "df_sur0 = df_agg[df_agg.Survived==0]\n",
        "df_sur1 = df_agg[df_agg.Survived==1]\n",
        "plt.bar(df_sur0.Pclass, df_sur0.Ratio, color='red')\n",
        "plt.bar(df_sur1.Pclass, df_sur1.Ratio, color='green', bottom=df_sur0.Ratio)"
      ]
    },
    {
      "cell_type": "markdown",
      "metadata": {
        "id": "kTTMTFhifnO2"
      },
      "source": [
        "Higher chance for survival had passangers from 1st class."
      ]
    },
    {
      "cell_type": "markdown",
      "metadata": {
        "tags": [],
        "id": "qdBSn4OufnO3"
      },
      "source": [
        "## Task 2\n",
        "**Description:** Is there any effect caused by ... on ...?\n",
        "\n",
        "**Insight gained:** ......"
      ]
    },
    {
      "cell_type": "markdown",
      "source": [
        "# Did women travel without an adult male companion (and vice versa)"
      ],
      "metadata": {
        "id": "UOZzOFwaB0Ub"
      }
    },
    {
      "cell_type": "code",
      "execution_count": 78,
      "metadata": {
        "colab": {
          "base_uri": "https://localhost:8080/",
          "height": 283
        },
        "id": "dUJOeAUpfnO3",
        "outputId": "389b7819-f53d-41b6-9b03-98e4b562d35e"
      },
      "outputs": [
        {
          "output_type": "execute_result",
          "data": {
            "text/plain": [
              "(577, 334, 314, 145)"
            ]
          },
          "metadata": {},
          "execution_count": 78
        },
        {
          "output_type": "display_data",
          "data": {
            "text/plain": [
              "<Figure size 432x288 with 1 Axes>"
            ],
            "image/png": "[encoded data removed]"
          },
          "metadata": {
            "needs_background": "light"
          }
        }
      ],
      "source": [
        "from dataclasses import dataclass\n",
        "\n",
        "\n",
        "@dataclass\n",
        "class Person:\n",
        "    name: str\n",
        "    age: float\n",
        "    parch: int\n",
        "    sex: str\n",
        "    survived: bool\n",
        "\n",
        "\n",
        "def parse_last_name(name):\n",
        "    return name[:name.find(',')]\n",
        "\n",
        "\n",
        "def to_dict(dataframe):\n",
        "    names = list(dataframe['Name'])\n",
        "    parch = list(dataframe['Parch'])\n",
        "    age = list(dataframe['Age'])\n",
        "    sex = list(dataframe['Sex'])\n",
        "    survived = list(dataframe['Survived'])\n",
        "\n",
        "    result = dict()\n",
        "\n",
        "    for n, p, a, s, sur in zip(names, parch, age, sex, survived):\n",
        "        person = Person(name=n, age=a, parch=p, sex=s, survived=sur)\n",
        "        last_name = parse_last_name(person.name)\n",
        "        lst = result.get(last_name, [])\n",
        "        lst.append(person)\n",
        "        result[last_name] = lst\n",
        "\n",
        "    return result\n",
        "\n",
        "\n",
        "def find(rec, sex):\n",
        "    opposite = ['male', 'female'][sex == 'male']\n",
        "    total = 0\n",
        "    for name, family in rec.items():\n",
        "        determinable = all(map(lambda p: p.sex == sex or (p.sex == opposite and p.age is not None), family))\n",
        "\n",
        "        if not determinable:\n",
        "          continue\n",
        "\n",
        "        adult_desired = sum(map(lambda p: p.sex == sex and p.age >= 18.0, family))\n",
        "        adult_opposites = any(map(lambda p: p.sex == opposite and p.age >= 18.0, family))\n",
        "        if not adult_opposites:\n",
        "            total += adult_desired\n",
        "    return total\n",
        "\n",
        "\n",
        "def process(rec):\n",
        "    return find(rec, 'male'), find(rec, 'female')\n",
        "\n",
        "\n",
        "def count(rec):\n",
        "    women = 0\n",
        "    men = 0\n",
        "    for name, family in rec.items():\n",
        "        for person in family:\n",
        "            men += person.sex == 'male'\n",
        "            women += person.sex == 'female'\n",
        "    return men, women\n",
        "\n",
        "\n",
        "dct = to_dict(df)\n",
        "\n",
        "total_men, total_women = count(dct)\n",
        "men_alone, women_alone = process(dct)\n",
        "\n",
        "men_ratio = men_alone / total_men\n",
        "women_ratio = women_alone / total_women\n",
        "\n",
        "plt.bar(['men', 'women'], [men_ratio, women_ratio], color='green')\n",
        "plt.bar(['men', 'women'], [1 - men_ratio, 1 - women_ratio], color='red', bottom=[men_ratio, women_ratio])\n",
        "\n",
        "total_men, men_alone, total_women, women_alone\n"
      ]
    },
    {
      "cell_type": "markdown",
      "source": [
        "The graph would suggest men travelled alone more than women did. The graph also suggest a surprisingly large number of women travelled alone on the Titanic (at least relative to the sociological situation of those times), however, the dataset is incomplete and we can't really tell much due to missing data."
      ],
      "metadata": {
        "id": "cCQD6OJJ8iQ8"
      }
    },
    {
      "cell_type": "markdown",
      "source": [
        "# Effect of port on ticket price and travel class"
      ],
      "metadata": {
        "id": "f4nkNbFJBe4u"
      }
    },
    {
      "cell_type": "code",
      "execution_count": 79,
      "metadata": {
        "id": "w7WFXz8efnO3",
        "colab": {
          "base_uri": "https://localhost:8080/",
          "height": 910
        },
        "outputId": "59fb23e8-671f-4fe8-a464-d8eae85b3513"
      },
      "outputs": [
        {
          "output_type": "stream",
          "name": "stderr",
          "text": [
            "/usr/local/lib/python3.7/dist-packages/seaborn/categorical.py:1296: UserWarning: 22.1% of the points cannot be placed; you may want to decrease the size of the markers or use stripplot.\n",
            "  warnings.warn(msg, UserWarning)\n"
          ]
        },
        {
          "output_type": "display_data",
          "data": {
            "text/plain": [
              "<Figure size 2160x864 with 6 Axes>"
            ],
            "image/png": "[encoded data removed]"
          },
          "metadata": {
            "needs_background": "light"
          }
        }
      ],
      "source": [
        "price_known = df[df['Fare'].notna()]\n",
        "price_known = df[df['Fare'] > 0]\n",
        "\n",
        "classes = price_known['Pclass'].unique().tolist()\n",
        "\n",
        "fig, axes = plt.subplots(2, len(classes), figsize=(30, 12))\n",
        "\n",
        "for i, cls in enumerate(classes):\n",
        "    filtered = price_known[price_known['Pclass'] == cls]\n",
        "    ax = fig.axes[i]\n",
        "    sns.violinplot(data=filtered, x='Embarked', y='Fare', size=2, ax=ax, label=cls).set(title=cls)\n",
        "\n",
        "    ax.set_xticklabels(ax.xaxis.get_majorticklabels(), rotation=60)\n",
        "        \n",
        "for i, cls in enumerate(classes):\n",
        "    idx = 3 + i\n",
        "    filtered = price_known[price_known['Pclass'] == cls]\n",
        "    ax = fig.axes[idx]\n",
        "    sns.swarmplot(data=filtered, x='Embarked', y='Fare', size=2, ax=ax, label=cls).set(title=cls)\n",
        "\n",
        "    ax.set_xticklabels(ax.xaxis.get_majorticklabels(), rotation=60)\n",
        "\n",
        "fig.tight_layout()"
      ]
    },
    {
      "cell_type": "markdown",
      "source": [
        "Median price for third class was roughly the same across all ports, however, Southampton saw the sales of both the most and the least expensive tickets.\n",
        "\n",
        "Only a few first and second class tickets were sold in Queenstown, which\n",
        "could imply Queenstown is a city with a less affluent population.\n",
        "\n",
        "Cost of first class tickets varies greatly in Cherbourg. Cherbourg recorded sales of the most expensive first class tickets. Since a rather insignificant\n",
        "amount of third class tickets was sold in Cherbourg, we can assume the population of Cherbourg was quite wealthy.\n",
        "\n",
        "The majority of the passengers boarded the vessel in Southampton. Southampton saw a large amount of sales for tickets of all three classes.\n",
        "\n"
      ],
      "metadata": {
        "id": "efJ0TTh9DGbG"
      }
    },
    {
      "cell_type": "markdown",
      "source": [
        "# Did family members help one another survive\n"
      ],
      "metadata": {
        "id": "QDm-EPCRBWn_"
      }
    },
    {
      "cell_type": "code",
      "source": [
        "families = {name: family for name, family in dct.items() if len(family) > 1}\n",
        "\n",
        "non_families = {name: family for name, family in dct.items() if len(family) == 1}\n",
        "\n",
        "total_pax_with_families_on_board = 0\n",
        "all_survived = 0\n",
        "survived_with_family = 0\n",
        "half_survived = 0\n",
        "alone_survived = 0\n",
        "\n",
        "for family in families.values():\n",
        "    total_pax_with_families_on_board += len(family)\n",
        "    survived = sum(map(lambda x: x.survived, family))\n",
        "    survived_with_family += survived\n",
        "    all_survived += (survived == len(family))\n",
        "    half_survived += (survived >= len(family)/2)\n",
        "\n",
        "for family in non_families.values():\n",
        "    alone_survived += sum(map(lambda x: x.survived, family))\n",
        "\n",
        "survived_ratio = all_survived / len(families)\n",
        "survived_with_family_ratio = survived_with_family / total_pax_with_families_on_board\n",
        "half_survived_ratio = half_survived / len(families)\n",
        "alone_survived_ratio = alone_survived / len(non_families)\n",
        "\n",
        "plt.bar(['all survived', 'half survived', 'survived with family members on board', 'alone and survived'], [survived_ratio, half_survived_ratio, survived_with_family_ratio, alone_survived_ratio], color='green')\n",
        "plt.bar(['all survived', 'half survived', 'survived with family members on board', 'alone and survived'], [1 - survived_ratio, 1 - half_survived_ratio, 1 - survived_with_family_ratio ,1 - alone_survived_ratio], color='red', bottom=[survived_ratio, half_survived_ratio, survived_with_family_ratio, alone_survived_ratio])\n"
      ],
      "metadata": {
        "colab": {
          "base_uri": "https://localhost:8080/",
          "height": 283
        },
        "id": "7Zb0gfZi2686",
        "outputId": "b3f94800-a979-4507-f5d0-bbf2cb243cef"
      },
      "execution_count": 80,
      "outputs": [
        {
          "output_type": "execute_result",
          "data": {
            "text/plain": [
              "<BarContainer object of 4 artists>"
            ]
          },
          "metadata": {},
          "execution_count": 80
        },
        {
          "output_type": "display_data",
          "data": {
            "text/plain": [
              "<Figure size 432x288 with 1 Axes>"
            ],
            "image/png": "[encoded data removed]"
          },
          "metadata": {
            "needs_background": "light"
          }
        }
      ]
    },
    {
      "cell_type": "markdown",
      "source": [
        "Due to the incompleteness of the dataset, we cannot be sure the results are truly accurate, however, the graph suggests very few families survived unharmed,\n",
        "however, majority of families escaped with half or more family members alive.\n",
        "\n",
        "By comparing the last two graphs, which display how many people had family members on board and managed to escape, and how many people were travelling alone and survived, we can see the data points slightly in favor of people with families on board. However, the difference is so slight that it may just be\n",
        "nothing more than noise."
      ],
      "metadata": {
        "id": "ReMBAfvL8LMO"
      }
    },
    {
      "cell_type": "markdown",
      "source": [
        "# Correlation between age and travel class"
      ],
      "metadata": {
        "id": "OEIAUri2NbJn"
      }
    },
    {
      "cell_type": "code",
      "source": [
        "adults = df[df['Age'].notna()]\n",
        "adults = df[df['Pclass'].notna()]\n",
        "adults = adults[adults['Age'] >= 18.0]\n",
        "adults['Pclass'] = 3 - adults['Pclass']\n",
        "\n",
        "corr = adults['Pclass'].corr(adults['Age'])\n",
        "\n",
        "corr"
      ],
      "metadata": {
        "colab": {
          "base_uri": "https://localhost:8080/"
        },
        "id": "vpprHpzaMvvs",
        "outputId": "2508f04f-3bf4-4682-8f0e-99f5462d4159"
      },
      "execution_count": 81,
      "outputs": [
        {
          "output_type": "execute_result",
          "data": {
            "text/plain": [
              "0.3577736906895085"
            ]
          },
          "metadata": {},
          "execution_count": 81
        }
      ]
    },
    {
      "cell_type": "markdown",
      "source": [
        "There appears to be a slight correlation implying older people are more affluent."
      ],
      "metadata": {
        "id": "A_ix0aRKR-wA"
      }
    },
    {
      "cell_type": "markdown",
      "source": [
        "# Effect of age on survival rates"
      ],
      "metadata": {
        "id": "bwlaA9u3Sia1"
      }
    },
    {
      "cell_type": "code",
      "source": [
        "survivors = df[df['Age'].notna()]\n",
        "\n",
        "pax = []\n",
        "\n",
        "for family in to_dict(survivors).values():\n",
        "    pax += family\n",
        "\n",
        "for p in pax:\n",
        "    p.age = int(p.age)\n",
        "\n",
        "total = dict()\n",
        "survived = dict()\n",
        "\n",
        "for p in pax:\n",
        "    total[p.age] = total.get(p.age, 0) + 1\n",
        "    survived[p.age] = survived.get(p.age, 0) + p.survived\n",
        "\n",
        "ratios = dict()\n",
        "\n",
        "for age, count in survived.items():\n",
        "    total_of_age = total[age]\n",
        "    ratios[age] = count / total_of_age\n",
        "\n",
        "sns.lineplot([key for key in ratios.keys()], [value for value in ratios.values()])"
      ],
      "metadata": {
        "colab": {
          "base_uri": "https://localhost:8080/",
          "height": 320
        },
        "id": "QS6TUYaESh_O",
        "outputId": "19186205-d98b-4ffd-cea7-81d4b604e2bf"
      },
      "execution_count": 82,
      "outputs": [
        {
          "output_type": "stream",
          "name": "stderr",
          "text": [
            "/usr/local/lib/python3.7/dist-packages/seaborn/_decorators.py:43: FutureWarning: Pass the following variables as keyword args: x, y. From version 0.12, the only valid positional argument will be `data`, and passing other arguments without an explicit keyword will result in an error or misinterpretation.\n",
            "  FutureWarning\n"
          ]
        },
        {
          "output_type": "execute_result",
          "data": {
            "text/plain": [
              "<matplotlib.axes._subplots.AxesSubplot at 0x7f61e37a4e90>"
            ]
          },
          "metadata": {},
          "execution_count": 82
        },
        {
          "output_type": "display_data",
          "data": {
            "text/plain": [
              "<Figure size 432x288 with 1 Axes>"
            ],
            "image/png": "[encoded data removed]"
          },
          "metadata": {
            "needs_background": "light"
          }
        }
      ]
    },
    {
      "cell_type": "code",
      "source": [
        "\n",
        "total = dict()\n",
        "survived = dict()\n",
        "\n",
        "for p in pax:\n",
        "    adj_age = (p.age // 10) * 10\n",
        "    total[adj_age] = total.get(adj_age, 0) + 1\n",
        "    survived[adj_age] = survived.get(adj_age, 0) + p.survived\n",
        "\n",
        "ratios = dict()\n",
        "\n",
        "for age, count in survived.items():\n",
        "    total_of_age = total[age]\n",
        "    ratios[age] = count / total_of_age\n",
        "\n",
        "sns.lineplot([key for key in ratios.keys()], [value for value in ratios.values()])"
      ],
      "metadata": {
        "colab": {
          "base_uri": "https://localhost:8080/",
          "height": 320
        },
        "id": "K-P3Go4OYQTb",
        "outputId": "eb3d3b3b-3d92-4251-ccfd-51892cf8aeb5"
      },
      "execution_count": 83,
      "outputs": [
        {
          "output_type": "stream",
          "name": "stderr",
          "text": [
            "/usr/local/lib/python3.7/dist-packages/seaborn/_decorators.py:43: FutureWarning: Pass the following variables as keyword args: x, y. From version 0.12, the only valid positional argument will be `data`, and passing other arguments without an explicit keyword will result in an error or misinterpretation.\n",
            "  FutureWarning\n"
          ]
        },
        {
          "output_type": "execute_result",
          "data": {
            "text/plain": [
              "<matplotlib.axes._subplots.AxesSubplot at 0x7f61e3748690>"
            ]
          },
          "metadata": {},
          "execution_count": 83
        },
        {
          "output_type": "display_data",
          "data": {
            "text/plain": [
              "<Figure size 432x288 with 1 Axes>"
            ],
            "image/png": "[encoded data removed]"
          },
          "metadata": {
            "needs_background": "light"
          }
        }
      ]
    },
    {
      "cell_type": "markdown",
      "source": [
        "Children seem to have higher survival rates than adults. Survival rates dropped sharply after the age of 50. There seems to be one odd 80 year old survivor\n",
        "skewing the graph."
      ],
      "metadata": {
        "id": "eFbJAFuUYljy"
      }
    },
    {
      "cell_type": "markdown",
      "source": [
        "* Effect of age and gender on survival rates\n",
        "* Difference between ticket prices\n",
        "* Number m/f travelling w/o a partner\n",
        "* Effect of port on class and ticket price\n",
        "* Did family members help one another survive, how many families survived without a single family member dying\n",
        "* m/f ratio in each travel class\n",
        "* Correlation between age and travel class"
      ],
      "metadata": {
        "id": "uteMa9GGmaK7"
      }
    }
  ],
  "metadata": {
    "colab": {
      "collapsed_sections": [],
      "provenance": []
    },
    "kernelspec": {
      "display_name": "Python 3 (ipykernel)",
      "language": "python",
      "name": "python3"
    },
    "language_info": {
      "codemirror_mode": {
        "name": "ipython",
        "version": 3
      },
      "file_extension": ".py",
      "mimetype": "text/x-python",
      "name": "python",
      "nbconvert_exporter": "python",
      "pygments_lexer": "ipython3",
      "version": "3.7.4"
    }
  },
  "nbformat": 4,
  "nbformat_minor": 0
}