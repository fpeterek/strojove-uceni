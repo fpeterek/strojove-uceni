{
  "cells": [
    {
      "cell_type": "code",
      "execution_count": 239,
      "metadata": {
        "id": "x6XOUhvFa-wT"
      },
      "outputs": [],
      "source": [
        "import numpy as np\n",
        "import pandas as pd\n",
        "import sklearn.preprocessing, sklearn.cluster, sklearn.metrics\n",
        "import scipy.spatial\n",
        "import matplotlib.pyplot as plt\n",
        "import seaborn as sns"
      ]
    },
    {
      "cell_type": "markdown",
      "metadata": {
        "id": "5YY32KWompmM"
      },
      "source": [
        "# Data description\n",
        "\n",
        "Data source: https://www.kaggle.com/datasets/subhajitnayak/country-data?resource=download&select=Country-data.csv\n",
        "\n",
        "|Attribute|Description|\n",
        "|:-------|:-------|\n",
        "|country | Name of the country |\n",
        "|child_mort | Death of children under 5 years of age per 1000 live births |\n",
        "|exports | Exports of goods and services. Given as %age of the Total GDP |\n",
        "|health | Total health spending as %age of Total GDP |\n",
        "|imports | Imports of goods and services. Given as %age of the Total GDP |\n",
        "|Income | Net income per person |\n",
        "|Inflation | The measurement of the annual growth rate of the Total GDP |\n",
        "|life_expec | The average number of years a new born child would live if the current mortality patterns are to rem... |\n",
        "|total_fer | The number of children that would be born to each woman if the current age-fertility rates remain th... |\n",
        "|gdpp | The GDP per capita. Calculated as the Total GDP divided by the total population. |"
      ]
    },
    {
      "cell_type": "markdown",
      "metadata": {
        "id": "jnVdiTTxmpmP"
      },
      "source": [
        "# Data loading"
      ]
    },
    {
      "cell_type": "code",
      "execution_count": 240,
      "metadata": {
        "colab": {
          "base_uri": "https://localhost:8080/",
          "height": 424
        },
        "id": "lS1YBZQ_mpmQ",
        "outputId": "0916fb27-d67d-424b-cb4e-26a3bc493220"
      },
      "outputs": [
        {
          "output_type": "execute_result",
          "data": {
            "text/plain": [
              "                 country  child_mort  exports  health  imports  income  \\\n",
              "0            Afghanistan        90.2     10.0    7.58     44.9    1610   \n",
              "1                Albania        16.6     28.0    6.55     48.6    9930   \n",
              "2                Algeria        27.3     38.4    4.17     31.4   12900   \n",
              "3                 Angola       119.0     62.3    2.85     42.9    5900   \n",
              "4    Antigua and Barbuda        10.3     45.5    6.03     58.9   19100   \n",
              "..                   ...         ...      ...     ...      ...     ...   \n",
              "162              Vanuatu        29.2     46.6    5.25     52.7    2950   \n",
              "163            Venezuela        17.1     28.5    4.91     17.6   16500   \n",
              "164              Vietnam        23.3     72.0    6.84     80.2    4490   \n",
              "165                Yemen        56.3     30.0    5.18     34.4    4480   \n",
              "166               Zambia        83.1     37.0    5.89     30.9    3280   \n",
              "\n",
              "     inflation  life_expec  total_fer   gdpp  \n",
              "0         9.44        56.2       5.82    553  \n",
              "1         4.49        76.3       1.65   4090  \n",
              "2        16.10        76.5       2.89   4460  \n",
              "3        22.40        60.1       6.16   3530  \n",
              "4         1.44        76.8       2.13  12200  \n",
              "..         ...         ...        ...    ...  \n",
              "162       2.62        63.0       3.50   2970  \n",
              "163      45.90        75.4       2.47  13500  \n",
              "164      12.10        73.1       1.95   1310  \n",
              "165      23.60        67.5       4.67   1310  \n",
              "166      14.00        52.0       5.40   1460  \n",
              "\n",
              "[167 rows x 10 columns]"
            ],
            "text/html": [
              "\n",
              "  <div id=\"df-ec7652a8-a69f-40df-a088-e8463fe48886\">\n",
              "    <div class=\"colab-df-container\">\n",
              "      <div>\n",
              "<style scoped>\n",
              "    .dataframe tbody tr th:only-of-type {\n",
              "        vertical-align: middle;\n",
              "    }\n",
              "\n",
              "    .dataframe tbody tr th {\n",
              "        vertical-align: top;\n",
              "    }\n",
              "\n",
              "    .dataframe thead th {\n",
              "        text-align: right;\n",
              "    }\n",
              "</style>\n",
              "<table border=\"1\" class=\"dataframe\">\n",
              "  <thead>\n",
              "    <tr style=\"text-align: right;\">\n",
              "      <th></th>\n",
              "      <th>country</th>\n",
              "      <th>child_mort</th>\n",
              "      <th>exports</th>\n",
              "      <th>health</th>\n",
              "      <th>imports</th>\n",
              "      <th>income</th>\n",
              "      <th>inflation</th>\n",
              "      <th>life_expec</th>\n",
              "      <th>total_fer</th>\n",
              "      <th>gdpp</th>\n",
              "    </tr>\n",
              "  </thead>\n",
              "  <tbody>\n",
              "    <tr>\n",
              "      <th>0</th>\n",
              "      <td>Afghanistan</td>\n",
              "      <td>90.2</td>\n",
              "      <td>10.0</td>\n",
              "      <td>7.58</td>\n",
              "      <td>44.9</td>\n",
              "      <td>1610</td>\n",
              "      <td>9.44</td>\n",
              "      <td>56.2</td>\n",
              "      <td>5.82</td>\n",
              "      <td>553</td>\n",
              "    </tr>\n",
              "    <tr>\n",
              "      <th>1</th>\n",
              "      <td>Albania</td>\n",
              "      <td>16.6</td>\n",
              "      <td>28.0</td>\n",
              "      <td>6.55</td>\n",
              "      <td>48.6</td>\n",
              "      <td>9930</td>\n",
              "      <td>4.49</td>\n",
              "      <td>76.3</td>\n",
              "      <td>1.65</td>\n",
              "      <td>4090</td>\n",
              "    </tr>\n",
              "    <tr>\n",
              "      <th>2</th>\n",
              "      <td>Algeria</td>\n",
              "      <td>27.3</td>\n",
              "      <td>38.4</td>\n",
              "      <td>4.17</td>\n",
              "      <td>31.4</td>\n",
              "      <td>12900</td>\n",
              "      <td>16.10</td>\n",
              "      <td>76.5</td>\n",
              "      <td>2.89</td>\n",
              "      <td>4460</td>\n",
              "    </tr>\n",
              "    <tr>\n",
              "      <th>3</th>\n",
              "      <td>Angola</td>\n",
              "      <td>119.0</td>\n",
              "      <td>62.3</td>\n",
              "      <td>2.85</td>\n",
              "      <td>42.9</td>\n",
              "      <td>5900</td>\n",
              "      <td>22.40</td>\n",
              "      <td>60.1</td>\n",
              "      <td>6.16</td>\n",
              "      <td>3530</td>\n",
              "    </tr>\n",
              "    <tr>\n",
              "      <th>4</th>\n",
              "      <td>Antigua and Barbuda</td>\n",
              "      <td>10.3</td>\n",
              "      <td>45.5</td>\n",
              "      <td>6.03</td>\n",
              "      <td>58.9</td>\n",
              "      <td>19100</td>\n",
              "      <td>1.44</td>\n",
              "      <td>76.8</td>\n",
              "      <td>2.13</td>\n",
              "      <td>12200</td>\n",
              "    </tr>\n",
              "    <tr>\n",
              "      <th>...</th>\n",
              "      <td>...</td>\n",
              "      <td>...</td>\n",
              "      <td>...</td>\n",
              "      <td>...</td>\n",
              "      <td>...</td>\n",
              "      <td>...</td>\n",
              "      <td>...</td>\n",
              "      <td>...</td>\n",
              "      <td>...</td>\n",
              "      <td>...</td>\n",
              "    </tr>\n",
              "    <tr>\n",
              "      <th>162</th>\n",
              "      <td>Vanuatu</td>\n",
              "      <td>29.2</td>\n",
              "      <td>46.6</td>\n",
              "      <td>5.25</td>\n",
              "      <td>52.7</td>\n",
              "      <td>2950</td>\n",
              "      <td>2.62</td>\n",
              "      <td>63.0</td>\n",
              "      <td>3.50</td>\n",
              "      <td>2970</td>\n",
              "    </tr>\n",
              "    <tr>\n",
              "      <th>163</th>\n",
              "      <td>Venezuela</td>\n",
              "      <td>17.1</td>\n",
              "      <td>28.5</td>\n",
              "      <td>4.91</td>\n",
              "      <td>17.6</td>\n",
              "      <td>16500</td>\n",
              "      <td>45.90</td>\n",
              "      <td>75.4</td>\n",
              "      <td>2.47</td>\n",
              "      <td>13500</td>\n",
              "    </tr>\n",
              "    <tr>\n",
              "      <th>164</th>\n",
              "      <td>Vietnam</td>\n",
              "      <td>23.3</td>\n",
              "      <td>72.0</td>\n",
              "      <td>6.84</td>\n",
              "      <td>80.2</td>\n",
              "      <td>4490</td>\n",
              "      <td>12.10</td>\n",
              "      <td>73.1</td>\n",
              "      <td>1.95</td>\n",
              "      <td>1310</td>\n",
              "    </tr>\n",
              "    <tr>\n",
              "      <th>165</th>\n",
              "      <td>Yemen</td>\n",
              "      <td>56.3</td>\n",
              "      <td>30.0</td>\n",
              "      <td>5.18</td>\n",
              "      <td>34.4</td>\n",
              "      <td>4480</td>\n",
              "      <td>23.60</td>\n",
              "      <td>67.5</td>\n",
              "      <td>4.67</td>\n",
              "      <td>1310</td>\n",
              "    </tr>\n",
              "    <tr>\n",
              "      <th>166</th>\n",
              "      <td>Zambia</td>\n",
              "      <td>83.1</td>\n",
              "      <td>37.0</td>\n",
              "      <td>5.89</td>\n",
              "      <td>30.9</td>\n",
              "      <td>3280</td>\n",
              "      <td>14.00</td>\n",
              "      <td>52.0</td>\n",
              "      <td>5.40</td>\n",
              "      <td>1460</td>\n",
              "    </tr>\n",
              "  </tbody>\n",
              "</table>\n",
              "<p>167 rows × 10 columns</p>\n",
              "</div>\n",
              "      <button class=\"colab-df-convert\" onclick=\"convertToInteractive('df-ec7652a8-a69f-40df-a088-e8463fe48886')\"\n",
              "              title=\"Convert this dataframe to an interactive table.\"\n",
              "              style=\"display:none;\">\n",
              "        \n",
              "  <svg xmlns=\"http://www.w3.org/2000/svg\" height=\"24px\"viewBox=\"0 0 24 24\"\n",
              "       width=\"24px\">\n",
              "    <path d=\"M0 0h24v24H0V0z\" fill=\"none\"/>\n",
              "    <path d=\"M18.56 5.44l.94 2.06.94-2.06 2.06-.94-2.06-.94-.94-2.06-.94 2.06-2.06.94zm-11 1L8.5 8.5l.94-2.06 2.06-.94-2.06-.94L8.5 2.5l-.94 2.06-2.06.94zm10 10l.94 2.06.94-2.06 2.06-.94-2.06-.94-.94-2.06-.94 2.06-2.06.94z\"/><path d=\"M17.41 7.96l-1.37-1.37c-.4-.4-.92-.59-1.43-.59-.52 0-1.04.2-1.43.59L10.3 9.45l-7.72 7.72c-.78.78-.78 2.05 0 2.83L4 21.41c.39.39.9.59 1.41.59.51 0 1.02-.2 1.41-.59l7.78-7.78 2.81-2.81c.8-.78.8-2.07 0-2.86zM5.41 20L4 18.59l7.72-7.72 1.47 1.35L5.41 20z\"/>\n",
              "  </svg>\n",
              "      </button>\n",
              "      \n",
              "  <style>\n",
              "    .colab-df-container {\n",
              "      display:flex;\n",
              "      flex-wrap:wrap;\n",
              "      gap: 12px;\n",
              "    }\n",
              "\n",
              "    .colab-df-convert {\n",
              "      background-color: #E8F0FE;\n",
              "      border: none;\n",
              "      border-radius: 50%;\n",
              "      cursor: pointer;\n",
              "      display: none;\n",
              "      fill: #1967D2;\n",
              "      height: 32px;\n",
              "      padding: 0 0 0 0;\n",
              "      width: 32px;\n",
              "    }\n",
              "\n",
              "    .colab-df-convert:hover {\n",
              "      background-color: #E2EBFA;\n",
              "      box-shadow: 0px 1px 2px rgba(60, 64, 67, 0.3), 0px 1px 3px 1px rgba(60, 64, 67, 0.15);\n",
              "      fill: #174EA6;\n",
              "    }\n",
              "\n",
              "    [theme=dark] .colab-df-convert {\n",
              "      background-color: #3B4455;\n",
              "      fill: #D2E3FC;\n",
              "    }\n",
              "\n",
              "    [theme=dark] .colab-df-convert:hover {\n",
              "      background-color: #434B5C;\n",
              "      box-shadow: 0px 1px 3px 1px rgba(0, 0, 0, 0.15);\n",
              "      filter: drop-shadow(0px 1px 2px rgba(0, 0, 0, 0.3));\n",
              "      fill: #FFFFFF;\n",
              "    }\n",
              "  </style>\n",
              "\n",
              "      <script>\n",
              "        const buttonEl =\n",
              "          document.querySelector('#df-ec7652a8-a69f-40df-a088-e8463fe48886 button.colab-df-convert');\n",
              "        buttonEl.style.display =\n",
              "          google.colab.kernel.accessAllowed ? 'block' : 'none';\n",
              "\n",
              "        async function convertToInteractive(key) {\n",
              "          const element = document.querySelector('#df-ec7652a8-a69f-40df-a088-e8463fe48886');\n",
              "          const dataTable =\n",
              "            await google.colab.kernel.invokeFunction('convertToInteractive',\n",
              "                                                     [key], {});\n",
              "          if (!dataTable) return;\n",
              "\n",
              "          const docLinkHtml = 'Like what you see? Visit the ' +\n",
              "            '<a target=\"_blank\" href=https://colab.research.google.com/notebooks/data_table.ipynb>data table notebook</a>'\n",
              "            + ' to learn more about interactive tables.';\n",
              "          element.innerHTML = '';\n",
              "          dataTable['output_type'] = 'display_data';\n",
              "          await google.colab.output.renderOutput(dataTable, element);\n",
              "          const docLink = document.createElement('div');\n",
              "          docLink.innerHTML = docLinkHtml;\n",
              "          element.appendChild(docLink);\n",
              "        }\n",
              "      </script>\n",
              "    </div>\n",
              "  </div>\n",
              "  "
            ]
          },
          "metadata": {},
          "execution_count": 240
        }
      ],
      "source": [
        "# df = pd.read_csv('data_clustering/country-data.csv')\n",
        "df = pd.read_csv('https://homel.vsb.cz/~svo0175/country-data.csv')\n",
        "df"
      ]
    },
    {
      "cell_type": "code",
      "execution_count": 241,
      "metadata": {
        "colab": {
          "base_uri": "https://localhost:8080/",
          "height": 300
        },
        "id": "2IMQPqSgmpmS",
        "outputId": "72122112-1619-4589-be77-899703247ae1"
      },
      "outputs": [
        {
          "output_type": "execute_result",
          "data": {
            "text/plain": [
              "       child_mort     exports      health     imports         income  \\\n",
              "count  167.000000  167.000000  167.000000  167.000000     167.000000   \n",
              "mean    38.270060   41.108976    6.815689   46.890215   17144.688623   \n",
              "std     40.328931   27.412010    2.746837   24.209589   19278.067698   \n",
              "min      2.600000    0.109000    1.810000    0.065900     609.000000   \n",
              "25%      8.250000   23.800000    4.920000   30.200000    3355.000000   \n",
              "50%     19.300000   35.000000    6.320000   43.300000    9960.000000   \n",
              "75%     62.100000   51.350000    8.600000   58.750000   22800.000000   \n",
              "max    208.000000  200.000000   17.900000  174.000000  125000.000000   \n",
              "\n",
              "        inflation  life_expec   total_fer           gdpp  \n",
              "count  167.000000  167.000000  167.000000     167.000000  \n",
              "mean     7.781832   70.555689    2.947964   12964.155689  \n",
              "std     10.570704    8.893172    1.513848   18328.704809  \n",
              "min     -4.210000   32.100000    1.150000     231.000000  \n",
              "25%      1.810000   65.300000    1.795000    1330.000000  \n",
              "50%      5.390000   73.100000    2.410000    4660.000000  \n",
              "75%     10.750000   76.800000    3.880000   14050.000000  \n",
              "max    104.000000   82.800000    7.490000  105000.000000  "
            ],
            "text/html": [
              "\n",
              "  <div id=\"df-c8d64ec8-16b1-4a66-977d-25ea894dcaa6\">\n",
              "    <div class=\"colab-df-container\">\n",
              "      <div>\n",
              "<style scoped>\n",
              "    .dataframe tbody tr th:only-of-type {\n",
              "        vertical-align: middle;\n",
              "    }\n",
              "\n",
              "    .dataframe tbody tr th {\n",
              "        vertical-align: top;\n",
              "    }\n",
              "\n",
              "    .dataframe thead th {\n",
              "        text-align: right;\n",
              "    }\n",
              "</style>\n",
              "<table border=\"1\" class=\"dataframe\">\n",
              "  <thead>\n",
              "    <tr style=\"text-align: right;\">\n",
              "      <th></th>\n",
              "      <th>child_mort</th>\n",
              "      <th>exports</th>\n",
              "      <th>health</th>\n",
              "      <th>imports</th>\n",
              "      <th>income</th>\n",
              "      <th>inflation</th>\n",
              "      <th>life_expec</th>\n",
              "      <th>total_fer</th>\n",
              "      <th>gdpp</th>\n",
              "    </tr>\n",
              "  </thead>\n",
              "  <tbody>\n",
              "    <tr>\n",
              "      <th>count</th>\n",
              "      <td>167.000000</td>\n",
              "      <td>167.000000</td>\n",
              "      <td>167.000000</td>\n",
              "      <td>167.000000</td>\n",
              "      <td>167.000000</td>\n",
              "      <td>167.000000</td>\n",
              "      <td>167.000000</td>\n",
              "      <td>167.000000</td>\n",
              "      <td>167.000000</td>\n",
              "    </tr>\n",
              "    <tr>\n",
              "      <th>mean</th>\n",
              "      <td>38.270060</td>\n",
              "      <td>41.108976</td>\n",
              "      <td>6.815689</td>\n",
              "      <td>46.890215</td>\n",
              "      <td>17144.688623</td>\n",
              "      <td>7.781832</td>\n",
              "      <td>70.555689</td>\n",
              "      <td>2.947964</td>\n",
              "      <td>12964.155689</td>\n",
              "    </tr>\n",
              "    <tr>\n",
              "      <th>std</th>\n",
              "      <td>40.328931</td>\n",
              "      <td>27.412010</td>\n",
              "      <td>2.746837</td>\n",
              "      <td>24.209589</td>\n",
              "      <td>19278.067698</td>\n",
              "      <td>10.570704</td>\n",
              "      <td>8.893172</td>\n",
              "      <td>1.513848</td>\n",
              "      <td>18328.704809</td>\n",
              "    </tr>\n",
              "    <tr>\n",
              "      <th>min</th>\n",
              "      <td>2.600000</td>\n",
              "      <td>0.109000</td>\n",
              "      <td>1.810000</td>\n",
              "      <td>0.065900</td>\n",
              "      <td>609.000000</td>\n",
              "      <td>-4.210000</td>\n",
              "      <td>32.100000</td>\n",
              "      <td>1.150000</td>\n",
              "      <td>231.000000</td>\n",
              "    </tr>\n",
              "    <tr>\n",
              "      <th>25%</th>\n",
              "      <td>8.250000</td>\n",
              "      <td>23.800000</td>\n",
              "      <td>4.920000</td>\n",
              "      <td>30.200000</td>\n",
              "      <td>3355.000000</td>\n",
              "      <td>1.810000</td>\n",
              "      <td>65.300000</td>\n",
              "      <td>1.795000</td>\n",
              "      <td>1330.000000</td>\n",
              "    </tr>\n",
              "    <tr>\n",
              "      <th>50%</th>\n",
              "      <td>19.300000</td>\n",
              "      <td>35.000000</td>\n",
              "      <td>6.320000</td>\n",
              "      <td>43.300000</td>\n",
              "      <td>9960.000000</td>\n",
              "      <td>5.390000</td>\n",
              "      <td>73.100000</td>\n",
              "      <td>2.410000</td>\n",
              "      <td>4660.000000</td>\n",
              "    </tr>\n",
              "    <tr>\n",
              "      <th>75%</th>\n",
              "      <td>62.100000</td>\n",
              "      <td>51.350000</td>\n",
              "      <td>8.600000</td>\n",
              "      <td>58.750000</td>\n",
              "      <td>22800.000000</td>\n",
              "      <td>10.750000</td>\n",
              "      <td>76.800000</td>\n",
              "      <td>3.880000</td>\n",
              "      <td>14050.000000</td>\n",
              "    </tr>\n",
              "    <tr>\n",
              "      <th>max</th>\n",
              "      <td>208.000000</td>\n",
              "      <td>200.000000</td>\n",
              "      <td>17.900000</td>\n",
              "      <td>174.000000</td>\n",
              "      <td>125000.000000</td>\n",
              "      <td>104.000000</td>\n",
              "      <td>82.800000</td>\n",
              "      <td>7.490000</td>\n",
              "      <td>105000.000000</td>\n",
              "    </tr>\n",
              "  </tbody>\n",
              "</table>\n",
              "</div>\n",
              "      <button class=\"colab-df-convert\" onclick=\"convertToInteractive('df-c8d64ec8-16b1-4a66-977d-25ea894dcaa6')\"\n",
              "              title=\"Convert this dataframe to an interactive table.\"\n",
              "              style=\"display:none;\">\n",
              "        \n",
              "  <svg xmlns=\"http://www.w3.org/2000/svg\" height=\"24px\"viewBox=\"0 0 24 24\"\n",
              "       width=\"24px\">\n",
              "    <path d=\"M0 0h24v24H0V0z\" fill=\"none\"/>\n",
              "    <path d=\"M18.56 5.44l.94 2.06.94-2.06 2.06-.94-2.06-.94-.94-2.06-.94 2.06-2.06.94zm-11 1L8.5 8.5l.94-2.06 2.06-.94-2.06-.94L8.5 2.5l-.94 2.06-2.06.94zm10 10l.94 2.06.94-2.06 2.06-.94-2.06-.94-.94-2.06-.94 2.06-2.06.94z\"/><path d=\"M17.41 7.96l-1.37-1.37c-.4-.4-.92-.59-1.43-.59-.52 0-1.04.2-1.43.59L10.3 9.45l-7.72 7.72c-.78.78-.78 2.05 0 2.83L4 21.41c.39.39.9.59 1.41.59.51 0 1.02-.2 1.41-.59l7.78-7.78 2.81-2.81c.8-.78.8-2.07 0-2.86zM5.41 20L4 18.59l7.72-7.72 1.47 1.35L5.41 20z\"/>\n",
              "  </svg>\n",
              "      </button>\n",
              "      \n",
              "  <style>\n",
              "    .colab-df-container {\n",
              "      display:flex;\n",
              "      flex-wrap:wrap;\n",
              "      gap: 12px;\n",
              "    }\n",
              "\n",
              "    .colab-df-convert {\n",
              "      background-color: #E8F0FE;\n",
              "      border: none;\n",
              "      border-radius: 50%;\n",
              "      cursor: pointer;\n",
              "      display: none;\n",
              "      fill: #1967D2;\n",
              "      height: 32px;\n",
              "      padding: 0 0 0 0;\n",
              "      width: 32px;\n",
              "    }\n",
              "\n",
              "    .colab-df-convert:hover {\n",
              "      background-color: #E2EBFA;\n",
              "      box-shadow: 0px 1px 2px rgba(60, 64, 67, 0.3), 0px 1px 3px 1px rgba(60, 64, 67, 0.15);\n",
              "      fill: #174EA6;\n",
              "    }\n",
              "\n",
              "    [theme=dark] .colab-df-convert {\n",
              "      background-color: #3B4455;\n",
              "      fill: #D2E3FC;\n",
              "    }\n",
              "\n",
              "    [theme=dark] .colab-df-convert:hover {\n",
              "      background-color: #434B5C;\n",
              "      box-shadow: 0px 1px 3px 1px rgba(0, 0, 0, 0.15);\n",
              "      filter: drop-shadow(0px 1px 2px rgba(0, 0, 0, 0.3));\n",
              "      fill: #FFFFFF;\n",
              "    }\n",
              "  </style>\n",
              "\n",
              "      <script>\n",
              "        const buttonEl =\n",
              "          document.querySelector('#df-c8d64ec8-16b1-4a66-977d-25ea894dcaa6 button.colab-df-convert');\n",
              "        buttonEl.style.display =\n",
              "          google.colab.kernel.accessAllowed ? 'block' : 'none';\n",
              "\n",
              "        async function convertToInteractive(key) {\n",
              "          const element = document.querySelector('#df-c8d64ec8-16b1-4a66-977d-25ea894dcaa6');\n",
              "          const dataTable =\n",
              "            await google.colab.kernel.invokeFunction('convertToInteractive',\n",
              "                                                     [key], {});\n",
              "          if (!dataTable) return;\n",
              "\n",
              "          const docLinkHtml = 'Like what you see? Visit the ' +\n",
              "            '<a target=\"_blank\" href=https://colab.research.google.com/notebooks/data_table.ipynb>data table notebook</a>'\n",
              "            + ' to learn more about interactive tables.';\n",
              "          element.innerHTML = '';\n",
              "          dataTable['output_type'] = 'display_data';\n",
              "          await google.colab.output.renderOutput(dataTable, element);\n",
              "          const docLink = document.createElement('div');\n",
              "          docLink.innerHTML = docLinkHtml;\n",
              "          element.appendChild(docLink);\n",
              "        }\n",
              "      </script>\n",
              "    </div>\n",
              "  </div>\n",
              "  "
            ]
          },
          "metadata": {},
          "execution_count": 241
        }
      ],
      "source": [
        "df.describe()"
      ]
    },
    {
      "cell_type": "code",
      "execution_count": 242,
      "metadata": {
        "colab": {
          "base_uri": "https://localhost:8080/",
          "height": 405
        },
        "id": "cb6X6YyampmT",
        "outputId": "8293da5f-074b-48df-9e10-203fb462e690"
      },
      "outputs": [
        {
          "output_type": "display_data",
          "data": {
            "text/plain": [
              "<Figure size 2880x432 with 9 Axes>"
            ],
            "image/png": "[encoded data removed]"
          },
          "metadata": {
            "needs_background": "light"
          }
        }
      ],
      "source": [
        "df_only_numeric = df.select_dtypes(np.number)\n",
        "\n",
        "# Create the subplots\n",
        "n_rows, n_cols = df_only_numeric.shape\n",
        "fig, axes = plt.subplots(nrows=1, ncols=n_cols, figsize=(40, 6))\n",
        "for i, column in enumerate(df_only_numeric):\n",
        "    sns.histplot(data=df_only_numeric, x=column, ax=axes[i]).set_title(column)"
      ]
    },
    {
      "cell_type": "markdown",
      "metadata": {
        "id": "f-kA394EmpmV"
      },
      "source": [
        "# Data preprocessing\n",
        "- Why do we need to preprocess the data?"
      ]
    },
    {
      "cell_type": "code",
      "execution_count": 243,
      "metadata": {
        "id": "Gi_IdUubmpmW"
      },
      "outputs": [],
      "source": [
        "X = df_only_numeric.values"
      ]
    },
    {
      "cell_type": "code",
      "execution_count": 244,
      "metadata": {
        "colab": {
          "base_uri": "https://localhost:8080/"
        },
        "id": "Liptj-GrmpmY",
        "outputId": "afc65138-d60d-49bc-e384-e9eaf0576c3b"
      },
      "outputs": [
        {
          "output_type": "execute_result",
          "data": {
            "text/plain": [
              "array([[0.42648491, 0.04948197, 0.35860783, ..., 0.47534517, 0.73659306,\n",
              "        0.00307343],\n",
              "       [0.06815969, 0.13953104, 0.29459291, ..., 0.87179487, 0.07886435,\n",
              "        0.03683341],\n",
              "       [0.12025316, 0.1915594 , 0.14667495, ..., 0.87573964, 0.27444795,\n",
              "        0.04036499],\n",
              "       ...,\n",
              "       [0.10077897, 0.35965101, 0.31261653, ..., 0.8086785 , 0.12618297,\n",
              "        0.01029885],\n",
              "       [0.26144109, 0.1495365 , 0.20944686, ..., 0.69822485, 0.55520505,\n",
              "        0.01029885],\n",
              "       [0.39191821, 0.18455558, 0.25357365, ..., 0.39250493, 0.670347  ,\n",
              "        0.01173057]])"
            ]
          },
          "metadata": {},
          "execution_count": 244
        }
      ],
      "source": [
        "scaler = sklearn.preprocessing.MinMaxScaler()\n",
        "X_min_max_scaled = scaler.fit_transform(X)\n",
        "X_min_max_scaled"
      ]
    },
    {
      "cell_type": "markdown",
      "metadata": {
        "id": "RqGga1eumpmb"
      },
      "source": [
        "# Clustering"
      ]
    },
    {
      "cell_type": "markdown",
      "metadata": {
        "id": "uMuH_M_seYZ2"
      },
      "source": [
        "## KMeans + clustering quality\n",
        "- https://scikit-learn.org/stable/modules/generated/sklearn.cluster.KMeans.html\n",
        "- Do you know any technique to determine the best number of clusters?"
      ]
    },
    {
      "cell_type": "code",
      "execution_count": 245,
      "metadata": {
        "colab": {
          "base_uri": "https://localhost:8080/"
        },
        "id": "cKYJ6tFDcwaO",
        "outputId": "f444bbd5-cf6b-414e-d046-55fb105eabc1"
      },
      "outputs": [
        {
          "output_type": "execute_result",
          "data": {
            "text/plain": [
              "KMeans(n_clusters=5)"
            ]
          },
          "metadata": {},
          "execution_count": 245
        }
      ],
      "source": [
        "clustering = sklearn.cluster.KMeans(n_clusters=5)\n",
        "clustering.fit(X_min_max_scaled)"
      ]
    },
    {
      "cell_type": "code",
      "execution_count": 246,
      "metadata": {
        "colab": {
          "base_uri": "https://localhost:8080/"
        },
        "id": "Rt4pOlIKmpme",
        "outputId": "454a8718-d37d-489b-ef59-b3ead480ab19"
      },
      "outputs": [
        {
          "output_type": "execute_result",
          "data": {
            "text/plain": [
              "array([3, 0, 0, 3, 0, 0, 0, 1, 1, 0, 0, 0, 2, 0, 0, 1, 0, 3, 0, 2, 0, 2,\n",
              "       0, 1, 0, 3, 3, 2, 3, 1, 0, 3, 3, 0, 0, 0, 3, 3, 2, 0, 3, 0, 1, 0,\n",
              "       1, 0, 0, 2, 0, 3, 2, 0, 2, 1, 1, 2, 3, 0, 1, 2, 1, 0, 2, 3, 3, 2,\n",
              "       3, 0, 1, 2, 2, 0, 2, 1, 1, 1, 0, 1, 0, 0, 2, 2, 1, 2, 2, 0, 0, 3,\n",
              "       3, 0, 0, 4, 0, 2, 3, 0, 0, 3, 4, 3, 0, 2, 0, 2, 0, 0, 3, 2, 2, 2,\n",
              "       1, 1, 3, 3, 1, 0, 2, 0, 0, 0, 2, 0, 1, 1, 0, 0, 2, 2, 0, 3, 0, 0,\n",
              "       3, 4, 0, 1, 2, 2, 0, 1, 0, 0, 3, 0, 1, 1, 2, 3, 0, 3, 3, 2, 0, 0,\n",
              "       2, 3, 0, 1, 1, 1, 0, 2, 2, 0, 0, 2, 3], dtype=int32)"
            ]
          },
          "metadata": {},
          "execution_count": 246
        }
      ],
      "source": [
        "clustering.labels_"
      ]
    },
    {
      "cell_type": "code",
      "execution_count": 247,
      "metadata": {
        "colab": {
          "base_uri": "https://localhost:8080/"
        },
        "id": "ritmC4N3mpme",
        "outputId": "35d71809-3847-4835-9d1a-05778e24b993"
      },
      "outputs": [
        {
          "output_type": "execute_result",
          "data": {
            "text/plain": [
              "0    66\n",
              "2    37\n",
              "3    32\n",
              "1    29\n",
              "4     3\n",
              "dtype: int64"
            ]
          },
          "metadata": {},
          "execution_count": 247
        }
      ],
      "source": [
        "pd.Series(clustering.labels_).value_counts()"
      ]
    },
    {
      "cell_type": "code",
      "execution_count": 248,
      "metadata": {
        "colab": {
          "base_uri": "https://localhost:8080/"
        },
        "id": "6OJQETQxc7RP",
        "outputId": "3ee06f5e-09ad-4eba-bc33-28a87c3e352b"
      },
      "outputs": [
        {
          "output_type": "execute_result",
          "data": {
            "text/plain": [
              "14.966814843024189"
            ]
          },
          "metadata": {},
          "execution_count": 248
        }
      ],
      "source": [
        "clustering.inertia_"
      ]
    },
    {
      "cell_type": "code",
      "execution_count": 249,
      "metadata": {
        "colab": {
          "base_uri": "https://localhost:8080/"
        },
        "id": "BCQ0FcUGdv8-",
        "outputId": "500a36d2-33e9-4d85-cf2a-253dd3031267"
      },
      "outputs": [
        {
          "output_type": "execute_result",
          "data": {
            "text/plain": [
              "0.2548635488285297"
            ]
          },
          "metadata": {},
          "execution_count": 249
        }
      ],
      "source": [
        "sklearn.metrics.silhouette_score(X_min_max_scaled, clustering.labels_)"
      ]
    },
    {
      "cell_type": "markdown",
      "metadata": {
        "id": "srrTrHLsmpmg"
      },
      "source": [
        "## Elbow method"
      ]
    },
    {
      "cell_type": "markdown",
      "metadata": {
        "id": "3UF17i8pmpmh"
      },
      "source": [
        "#### Calculate SSE and Silhouette for differenet parameters of clusters $k \\in <2, 15>$. Create visualization for both of clustering quality criteria"
      ]
    },
    {
      "cell_type": "code",
      "execution_count": 250,
      "metadata": {
        "colab": {
          "base_uri": "https://localhost:8080/",
          "height": 332
        },
        "id": "E_7s0eVWdfjS",
        "outputId": "e0b90ce2-4f3e-4d89-8c59-92995b9a46d2"
      },
      "outputs": [
        {
          "output_type": "execute_result",
          "data": {
            "text/plain": [
              "    k        sse  silhouette\n",
              "0   2  25.939571    0.379254\n",
              "1   3  19.345622    0.342655\n",
              "2   4  16.784453    0.346002\n",
              "3   5  15.066145    0.241532\n",
              "4   6  13.640866    0.260360\n",
              "5   7  12.369069    0.229248\n",
              "6   8  11.402875    0.231154\n",
              "7   9  11.024659    0.238718\n",
              "8  10  10.089289    0.210647"
            ],
            "text/html": [
              "\n",
              "  <div id=\"df-d9afc0cf-cb82-4ffa-b80c-ee27f3935852\">\n",
              "    <div class=\"colab-df-container\">\n",
              "      <div>\n",
              "<style scoped>\n",
              "    .dataframe tbody tr th:only-of-type {\n",
              "        vertical-align: middle;\n",
              "    }\n",
              "\n",
              "    .dataframe tbody tr th {\n",
              "        vertical-align: top;\n",
              "    }\n",
              "\n",
              "    .dataframe thead th {\n",
              "        text-align: right;\n",
              "    }\n",
              "</style>\n",
              "<table border=\"1\" class=\"dataframe\">\n",
              "  <thead>\n",
              "    <tr style=\"text-align: right;\">\n",
              "      <th></th>\n",
              "      <th>k</th>\n",
              "      <th>sse</th>\n",
              "      <th>silhouette</th>\n",
              "    </tr>\n",
              "  </thead>\n",
              "  <tbody>\n",
              "    <tr>\n",
              "      <th>0</th>\n",
              "      <td>2</td>\n",
              "      <td>25.939571</td>\n",
              "      <td>0.379254</td>\n",
              "    </tr>\n",
              "    <tr>\n",
              "      <th>1</th>\n",
              "      <td>3</td>\n",
              "      <td>19.345622</td>\n",
              "      <td>0.342655</td>\n",
              "    </tr>\n",
              "    <tr>\n",
              "      <th>2</th>\n",
              "      <td>4</td>\n",
              "      <td>16.784453</td>\n",
              "      <td>0.346002</td>\n",
              "    </tr>\n",
              "    <tr>\n",
              "      <th>3</th>\n",
              "      <td>5</td>\n",
              "      <td>15.066145</td>\n",
              "      <td>0.241532</td>\n",
              "    </tr>\n",
              "    <tr>\n",
              "      <th>4</th>\n",
              "      <td>6</td>\n",
              "      <td>13.640866</td>\n",
              "      <td>0.260360</td>\n",
              "    </tr>\n",
              "    <tr>\n",
              "      <th>5</th>\n",
              "      <td>7</td>\n",
              "      <td>12.369069</td>\n",
              "      <td>0.229248</td>\n",
              "    </tr>\n",
              "    <tr>\n",
              "      <th>6</th>\n",
              "      <td>8</td>\n",
              "      <td>11.402875</td>\n",
              "      <td>0.231154</td>\n",
              "    </tr>\n",
              "    <tr>\n",
              "      <th>7</th>\n",
              "      <td>9</td>\n",
              "      <td>11.024659</td>\n",
              "      <td>0.238718</td>\n",
              "    </tr>\n",
              "    <tr>\n",
              "      <th>8</th>\n",
              "      <td>10</td>\n",
              "      <td>10.089289</td>\n",
              "      <td>0.210647</td>\n",
              "    </tr>\n",
              "  </tbody>\n",
              "</table>\n",
              "</div>\n",
              "      <button class=\"colab-df-convert\" onclick=\"convertToInteractive('df-d9afc0cf-cb82-4ffa-b80c-ee27f3935852')\"\n",
              "              title=\"Convert this dataframe to an interactive table.\"\n",
              "              style=\"display:none;\">\n",
              "        \n",
              "  <svg xmlns=\"http://www.w3.org/2000/svg\" height=\"24px\"viewBox=\"0 0 24 24\"\n",
              "       width=\"24px\">\n",
              "    <path d=\"M0 0h24v24H0V0z\" fill=\"none\"/>\n",
              "    <path d=\"M18.56 5.44l.94 2.06.94-2.06 2.06-.94-2.06-.94-.94-2.06-.94 2.06-2.06.94zm-11 1L8.5 8.5l.94-2.06 2.06-.94-2.06-.94L8.5 2.5l-.94 2.06-2.06.94zm10 10l.94 2.06.94-2.06 2.06-.94-2.06-.94-.94-2.06-.94 2.06-2.06.94z\"/><path d=\"M17.41 7.96l-1.37-1.37c-.4-.4-.92-.59-1.43-.59-.52 0-1.04.2-1.43.59L10.3 9.45l-7.72 7.72c-.78.78-.78 2.05 0 2.83L4 21.41c.39.39.9.59 1.41.59.51 0 1.02-.2 1.41-.59l7.78-7.78 2.81-2.81c.8-.78.8-2.07 0-2.86zM5.41 20L4 18.59l7.72-7.72 1.47 1.35L5.41 20z\"/>\n",
              "  </svg>\n",
              "      </button>\n",
              "      \n",
              "  <style>\n",
              "    .colab-df-container {\n",
              "      display:flex;\n",
              "      flex-wrap:wrap;\n",
              "      gap: 12px;\n",
              "    }\n",
              "\n",
              "    .colab-df-convert {\n",
              "      background-color: #E8F0FE;\n",
              "      border: none;\n",
              "      border-radius: 50%;\n",
              "      cursor: pointer;\n",
              "      display: none;\n",
              "      fill: #1967D2;\n",
              "      height: 32px;\n",
              "      padding: 0 0 0 0;\n",
              "      width: 32px;\n",
              "    }\n",
              "\n",
              "    .colab-df-convert:hover {\n",
              "      background-color: #E2EBFA;\n",
              "      box-shadow: 0px 1px 2px rgba(60, 64, 67, 0.3), 0px 1px 3px 1px rgba(60, 64, 67, 0.15);\n",
              "      fill: #174EA6;\n",
              "    }\n",
              "\n",
              "    [theme=dark] .colab-df-convert {\n",
              "      background-color: #3B4455;\n",
              "      fill: #D2E3FC;\n",
              "    }\n",
              "\n",
              "    [theme=dark] .colab-df-convert:hover {\n",
              "      background-color: #434B5C;\n",
              "      box-shadow: 0px 1px 3px 1px rgba(0, 0, 0, 0.15);\n",
              "      filter: drop-shadow(0px 1px 2px rgba(0, 0, 0, 0.3));\n",
              "      fill: #FFFFFF;\n",
              "    }\n",
              "  </style>\n",
              "\n",
              "      <script>\n",
              "        const buttonEl =\n",
              "          document.querySelector('#df-d9afc0cf-cb82-4ffa-b80c-ee27f3935852 button.colab-df-convert');\n",
              "        buttonEl.style.display =\n",
              "          google.colab.kernel.accessAllowed ? 'block' : 'none';\n",
              "\n",
              "        async function convertToInteractive(key) {\n",
              "          const element = document.querySelector('#df-d9afc0cf-cb82-4ffa-b80c-ee27f3935852');\n",
              "          const dataTable =\n",
              "            await google.colab.kernel.invokeFunction('convertToInteractive',\n",
              "                                                     [key], {});\n",
              "          if (!dataTable) return;\n",
              "\n",
              "          const docLinkHtml = 'Like what you see? Visit the ' +\n",
              "            '<a target=\"_blank\" href=https://colab.research.google.com/notebooks/data_table.ipynb>data table notebook</a>'\n",
              "            + ' to learn more about interactive tables.';\n",
              "          element.innerHTML = '';\n",
              "          dataTable['output_type'] = 'display_data';\n",
              "          await google.colab.output.renderOutput(dataTable, element);\n",
              "          const docLink = document.createElement('div');\n",
              "          docLink.innerHTML = docLinkHtml;\n",
              "          element.appendChild(docLink);\n",
              "        }\n",
              "      </script>\n",
              "    </div>\n",
              "  </div>\n",
              "  "
            ]
          },
          "metadata": {},
          "execution_count": 250
        }
      ],
      "source": [
        "clustering_scores = []\n",
        "for k in range(2, 11):\n",
        "    clustering = sklearn.cluster.KMeans(n_clusters=k).fit(X_min_max_scaled)\n",
        "    clustering_scores.append({\n",
        "        'k': k,\n",
        "        'sse': clustering.inertia_,\n",
        "        'silhouette': sklearn.metrics.silhouette_score(X_min_max_scaled, clustering.labels_)\n",
        "    })\n",
        "df_clustering_scores = pd.DataFrame.from_dict(clustering_scores, orient='columns')\n",
        "df_clustering_scores"
      ]
    },
    {
      "cell_type": "code",
      "execution_count": 251,
      "metadata": {
        "colab": {
          "base_uri": "https://localhost:8080/",
          "height": 297
        },
        "id": "dgnGGOHumpmi",
        "outputId": "79c34b6a-afaa-4535-c4a3-3abe4dde0103"
      },
      "outputs": [
        {
          "output_type": "execute_result",
          "data": {
            "text/plain": [
              "<matplotlib.axes._subplots.AxesSubplot at 0x7fbc3aa48050>"
            ]
          },
          "metadata": {},
          "execution_count": 251
        },
        {
          "output_type": "display_data",
          "data": {
            "text/plain": [
              "<Figure size 432x288 with 1 Axes>"
            ],
            "image/png": "[encoded data removed]"
          },
          "metadata": {
            "needs_background": "light"
          }
        }
      ],
      "source": [
        "sns.lineplot(data=df_clustering_scores, x='k', y='sse')"
      ]
    },
    {
      "cell_type": "code",
      "execution_count": 252,
      "metadata": {
        "colab": {
          "base_uri": "https://localhost:8080/",
          "height": 297
        },
        "id": "g9eSPsuZmpmj",
        "outputId": "7e0f540e-ef5a-4ad4-b74c-b1c506f25e9f"
      },
      "outputs": [
        {
          "output_type": "execute_result",
          "data": {
            "text/plain": [
              "<matplotlib.axes._subplots.AxesSubplot at 0x7fbc3a7bb790>"
            ]
          },
          "metadata": {},
          "execution_count": 252
        },
        {
          "output_type": "display_data",
          "data": {
            "text/plain": [
              "<Figure size 432x288 with 1 Axes>"
            ],
            "image/png": "[encoded data removed]"
          },
          "metadata": {
            "needs_background": "light"
          }
        }
      ],
      "source": [
        "sns.lineplot(data=df_clustering_scores, x='k', y='silhouette')"
      ]
    },
    {
      "cell_type": "markdown",
      "metadata": {
        "id": "mGES1AEompmk"
      },
      "source": [
        "#### How many cluster do you see ?"
      ]
    },
    {
      "cell_type": "markdown",
      "metadata": {
        "id": "1fyQ9f61mpmk"
      },
      "source": [
        "#### Can you imagine other quality criteria to use over some real dataset? Do you know difference between external and internal criteria?"
      ]
    },
    {
      "cell_type": "markdown",
      "metadata": {
        "id": "qHmotsTcmpml"
      },
      "source": [
        "## Clustering interpretation"
      ]
    },
    {
      "cell_type": "code",
      "execution_count": 253,
      "metadata": {
        "colab": {
          "base_uri": "https://localhost:8080/"
        },
        "id": "w0Xe9NpVmpml",
        "outputId": "ce48d9b2-1b60-4096-a1e5-3d29afc0b1d4"
      },
      "outputs": [
        {
          "output_type": "execute_result",
          "data": {
            "text/plain": [
              "KMeans(n_clusters=4, random_state=13)"
            ]
          },
          "metadata": {},
          "execution_count": 253
        }
      ],
      "source": [
        "clustering = sklearn.cluster.KMeans(n_clusters=4, random_state=13)\n",
        "clustering.fit(X_min_max_scaled)"
      ]
    },
    {
      "cell_type": "code",
      "execution_count": 254,
      "metadata": {
        "id": "VxGsSPu7mpmm"
      },
      "outputs": [],
      "source": [
        "df['cluster_id'] = clustering.labels_"
      ]
    },
    {
      "cell_type": "code",
      "execution_count": 255,
      "metadata": {
        "colab": {
          "base_uri": "https://localhost:8080/",
          "height": 298
        },
        "id": "q1fSU-zFmpmn",
        "outputId": "7578c1ed-e0b5-4d3b-99fb-a5282c4b9b1a"
      },
      "outputs": [
        {
          "output_type": "execute_result",
          "data": {
            "text/plain": [
              "<matplotlib.axes._subplots.AxesSubplot at 0x7fbc3a71fc90>"
            ]
          },
          "metadata": {},
          "execution_count": 255
        },
        {
          "output_type": "display_data",
          "data": {
            "text/plain": [
              "<Figure size 432x288 with 1 Axes>"
            ],
            "image/png": "[encoded data removed]"
          },
          "metadata": {
            "needs_background": "light"
          }
        }
      ],
      "source": [
        "sns.countplot(data=df, x='cluster_id')"
      ]
    },
    {
      "cell_type": "markdown",
      "metadata": {
        "id": "Mq7u2Do_mpmn"
      },
      "source": [
        "#### Use describe() for quick inspection of numeric values in dataset."
      ]
    },
    {
      "cell_type": "code",
      "execution_count": 256,
      "metadata": {
        "colab": {
          "base_uri": "https://localhost:8080/",
          "height": 302
        },
        "id": "bTEWN1vFmpmo",
        "outputId": "04a7de55-272e-44f2-91c0-2ac969d341bb"
      },
      "outputs": [
        {
          "output_type": "display_data",
          "data": {
            "text/plain": [
              "           child_mort                                                      \\\n",
              "                count       mean        std   min     25%    50%      75%   \n",
              "cluster_id                                                                  \n",
              "0                 3.0   4.133333   2.309401   2.8   2.800   2.80    4.800   \n",
              "1                46.0  93.284783  34.079410  28.1  64.625  90.25  111.000   \n",
              "2                30.0   4.953333   2.159140   2.6   3.825   4.20    5.100   \n",
              "3                88.0  22.034091  14.526653   3.4  11.100  18.10   29.125   \n",
              "\n",
              "                  exports                                                   \\\n",
              "              max   count        mean        std      min      25%     50%   \n",
              "cluster_id                                                                   \n",
              "0             6.8     3.0  176.000000  23.515952  153.000  164.000  175.00   \n",
              "1           208.0    46.0   29.287174  18.479530    2.200   16.875   23.80   \n",
              "2            10.8    30.0   45.826667  21.736255   12.400   28.425   44.25   \n",
              "3            64.4    88.0   41.081693  19.439713    0.109   26.900   37.65   \n",
              "\n",
              "                           health                                           \\\n",
              "                75%    max  count      mean       std   min     25%    50%   \n",
              "cluster_id                                                                   \n",
              "0           187.500  200.0    3.0  6.793333  2.492877  3.96  5.8650  7.770   \n",
              "1            38.800   85.8   46.0  6.338478  2.668183  2.20  4.5150  5.480   \n",
              "2            63.575  103.0   30.0  9.168667  3.266299  1.81  8.7850  9.535   \n",
              "3            51.825   93.8   88.0  6.263750  2.162703  1.97  4.8975  5.990   \n",
              "\n",
              "                           imports                                            \\\n",
              "                75%    max   count        mean        std       min      25%   \n",
              "cluster_id                                                                     \n",
              "0            8.2100   8.65     3.0  156.666667  16.165808  142.0000  148.000   \n",
              "1            7.8450  13.10    46.0   43.297826  18.636362   17.2000   30.225   \n",
              "2           11.0000  17.90    30.0   39.736667  17.455134   13.6000   28.025   \n",
              "3            7.6225  14.20    88.0   47.464385  19.767404    0.0659   32.150   \n",
              "\n",
              "                                   income                              \\\n",
              "               50%      75%    max  count          mean           std   \n",
              "cluster_id                                                              \n",
              "0           154.00  164.000  174.0    3.0  64033.333333  32460.642836   \n",
              "1            41.50   49.525  101.0   46.0   3516.804348   5391.402727   \n",
              "2            35.00   47.400   86.5   30.0  45250.000000  19785.308900   \n",
              "3            48.95   60.425  108.0   88.0  13088.522727   8737.148794   \n",
              "\n",
              "                                                         inflation             \\\n",
              "                min      25%      50%      75%       max     count       mean   \n",
              "cluster_id                                                                      \n",
              "0           28300.0  50200.0  72100.0  81900.0   91700.0       3.0   2.468000   \n",
              "1             609.0   1390.0   1835.0   3310.0   33700.0      46.0  12.097065   \n",
              "2           27200.0  34375.0  40550.0  45650.0  125000.0      30.0   2.742200   \n",
              "3            1990.0   6725.0  11000.0  17500.0   45400.0      88.0   7.425352   \n",
              "\n",
              "                                                             life_expec  \\\n",
              "                  std    min     25%    50%      75%     max      count   \n",
              "cluster_id                                                                \n",
              "0            2.179718 -0.046  1.7870  3.620   3.7250    3.83        3.0   \n",
              "1           15.670791  0.885  3.9400  8.995  16.6000  104.00       46.0   \n",
              "2            4.266366 -3.220  0.6505  1.190   3.2050   16.70       30.0   \n",
              "3            7.765399 -4.210  2.3250  5.805   9.8575   45.90       88.0   \n",
              "\n",
              "                                                                   total_fer  \\\n",
              "                 mean       std   min     25%    50%     75%   max     count   \n",
              "cluster_id                                                                     \n",
              "0           81.433333  1.205543  80.3  80.800  81.30  82.000  82.7       3.0   \n",
              "1           59.393478  6.473859  32.1  56.925  60.25  62.875  71.1      46.0   \n",
              "2           80.376667  1.440231  76.5  79.825  80.40  81.400  82.8      30.0   \n",
              "3           72.671591  4.555884  54.3  70.200  73.75  76.100  80.4      88.0   \n",
              "\n",
              "                                                                   gdpp  \\\n",
              "                mean       std   min     25%    50%     75%   max count   \n",
              "cluster_id                                                                \n",
              "0           1.380000  0.240624  1.15  1.2550  1.360  1.4950  1.63   3.0   \n",
              "1           5.090217  0.940327  3.15  4.5700  5.085  5.6725  7.49  46.0   \n",
              "2           1.795333  0.369293  1.23  1.4650  1.865  1.9725  3.03  30.0   \n",
              "3           2.274545  0.663692  1.25  1.7125  2.215  2.6525  4.34  88.0   \n",
              "\n",
              "                                                                            \\\n",
              "                    mean           std      min      25%      50%      75%   \n",
              "cluster_id                                                                   \n",
              "0           57566.666667  43011.665084  21100.0  33850.0  46600.0  75800.0   \n",
              "1            1695.913043   2795.655748    231.0    548.5    833.0   1310.0   \n",
              "2           43333.333333  15040.114942  22100.0  34025.0  41850.0  48625.0   \n",
              "3            6980.704545   5388.936995    592.0   2985.0   5245.0  10400.0   \n",
              "\n",
              "                      \n",
              "                 max  \n",
              "cluster_id            \n",
              "0           105000.0  \n",
              "1            17100.0  \n",
              "2            87800.0  \n",
              "3            28000.0  "
            ],
            "text/html": [
              "\n",
              "  <div id=\"df-88624c07-4f6a-4b10-bb64-05c7484f1ac5\">\n",
              "    <div class=\"colab-df-container\">\n",
              "      <div>\n",
              "<style scoped>\n",
              "    .dataframe tbody tr th:only-of-type {\n",
              "        vertical-align: middle;\n",
              "    }\n",
              "\n",
              "    .dataframe tbody tr th {\n",
              "        vertical-align: top;\n",
              "    }\n",
              "\n",
              "    .dataframe thead tr th {\n",
              "        text-align: left;\n",
              "    }\n",
              "\n",
              "    .dataframe thead tr:last-of-type th {\n",
              "        text-align: right;\n",
              "    }\n",
              "</style>\n",
              "<table border=\"1\" class=\"dataframe\">\n",
              "  <thead>\n",
              "    <tr>\n",
              "      <th></th>\n",
              "      <th colspan=\"8\" halign=\"left\">child_mort</th>\n",
              "      <th colspan=\"8\" halign=\"left\">exports</th>\n",
              "      <th colspan=\"8\" halign=\"left\">health</th>\n",
              "      <th colspan=\"8\" halign=\"left\">imports</th>\n",
              "      <th colspan=\"8\" halign=\"left\">income</th>\n",
              "      <th colspan=\"8\" halign=\"left\">inflation</th>\n",
              "      <th colspan=\"8\" halign=\"left\">life_expec</th>\n",
              "      <th colspan=\"8\" halign=\"left\">total_fer</th>\n",
              "      <th colspan=\"8\" halign=\"left\">gdpp</th>\n",
              "    </tr>\n",
              "    <tr>\n",
              "      <th></th>\n",
              "      <th>count</th>\n",
              "      <th>mean</th>\n",
              "      <th>std</th>\n",
              "      <th>min</th>\n",
              "      <th>25%</th>\n",
              "      <th>50%</th>\n",
              "      <th>75%</th>\n",
              "      <th>max</th>\n",
              "      <th>count</th>\n",
              "      <th>mean</th>\n",
              "      <th>std</th>\n",
              "      <th>min</th>\n",
              "      <th>25%</th>\n",
              "      <th>50%</th>\n",
              "      <th>75%</th>\n",
              "      <th>max</th>\n",
              "      <th>count</th>\n",
              "      <th>mean</th>\n",
              "      <th>std</th>\n",
              "      <th>min</th>\n",
              "      <th>25%</th>\n",
              "      <th>50%</th>\n",
              "      <th>75%</th>\n",
              "      <th>max</th>\n",
              "      <th>count</th>\n",
              "      <th>mean</th>\n",
              "      <th>std</th>\n",
              "      <th>min</th>\n",
              "      <th>25%</th>\n",
              "      <th>50%</th>\n",
              "      <th>75%</th>\n",
              "      <th>max</th>\n",
              "      <th>count</th>\n",
              "      <th>mean</th>\n",
              "      <th>std</th>\n",
              "      <th>min</th>\n",
              "      <th>25%</th>\n",
              "      <th>50%</th>\n",
              "      <th>75%</th>\n",
              "      <th>max</th>\n",
              "      <th>count</th>\n",
              "      <th>mean</th>\n",
              "      <th>std</th>\n",
              "      <th>min</th>\n",
              "      <th>25%</th>\n",
              "      <th>50%</th>\n",
              "      <th>75%</th>\n",
              "      <th>max</th>\n",
              "      <th>count</th>\n",
              "      <th>mean</th>\n",
              "      <th>std</th>\n",
              "      <th>min</th>\n",
              "      <th>25%</th>\n",
              "      <th>50%</th>\n",
              "      <th>75%</th>\n",
              "      <th>max</th>\n",
              "      <th>count</th>\n",
              "      <th>mean</th>\n",
              "      <th>std</th>\n",
              "      <th>min</th>\n",
              "      <th>25%</th>\n",
              "      <th>50%</th>\n",
              "      <th>75%</th>\n",
              "      <th>max</th>\n",
              "      <th>count</th>\n",
              "      <th>mean</th>\n",
              "      <th>std</th>\n",
              "      <th>min</th>\n",
              "      <th>25%</th>\n",
              "      <th>50%</th>\n",
              "      <th>75%</th>\n",
              "      <th>max</th>\n",
              "    </tr>\n",
              "    <tr>\n",
              "      <th>cluster_id</th>\n",
              "      <th></th>\n",
              "      <th></th>\n",
              "      <th></th>\n",
              "      <th></th>\n",
              "      <th></th>\n",
              "      <th></th>\n",
              "      <th></th>\n",
              "      <th></th>\n",
              "      <th></th>\n",
              "      <th></th>\n",
              "      <th></th>\n",
              "      <th></th>\n",
              "      <th></th>\n",
              "      <th></th>\n",
              "      <th></th>\n",
              "      <th></th>\n",
              "      <th></th>\n",
              "      <th></th>\n",
              "      <th></th>\n",
              "      <th></th>\n",
              "      <th></th>\n",
              "      <th></th>\n",
              "      <th></th>\n",
              "      <th></th>\n",
              "      <th></th>\n",
              "      <th></th>\n",
              "      <th></th>\n",
              "      <th></th>\n",
              "      <th></th>\n",
              "      <th></th>\n",
              "      <th></th>\n",
              "      <th></th>\n",
              "      <th></th>\n",
              "      <th></th>\n",
              "      <th></th>\n",
              "      <th></th>\n",
              "      <th></th>\n",
              "      <th></th>\n",
              "      <th></th>\n",
              "      <th></th>\n",
              "      <th></th>\n",
              "      <th></th>\n",
              "      <th></th>\n",
              "      <th></th>\n",
              "      <th></th>\n",
              "      <th></th>\n",
              "      <th></th>\n",
              "      <th></th>\n",
              "      <th></th>\n",
              "      <th></th>\n",
              "      <th></th>\n",
              "      <th></th>\n",
              "      <th></th>\n",
              "      <th></th>\n",
              "      <th></th>\n",
              "      <th></th>\n",
              "      <th></th>\n",
              "      <th></th>\n",
              "      <th></th>\n",
              "      <th></th>\n",
              "      <th></th>\n",
              "      <th></th>\n",
              "      <th></th>\n",
              "      <th></th>\n",
              "      <th></th>\n",
              "      <th></th>\n",
              "      <th></th>\n",
              "      <th></th>\n",
              "      <th></th>\n",
              "      <th></th>\n",
              "      <th></th>\n",
              "      <th></th>\n",
              "    </tr>\n",
              "  </thead>\n",
              "  <tbody>\n",
              "    <tr>\n",
              "      <th>0</th>\n",
              "      <td>3.0</td>\n",
              "      <td>4.133333</td>\n",
              "      <td>2.309401</td>\n",
              "      <td>2.8</td>\n",
              "      <td>2.800</td>\n",
              "      <td>2.80</td>\n",
              "      <td>4.800</td>\n",
              "      <td>6.8</td>\n",
              "      <td>3.0</td>\n",
              "      <td>176.000000</td>\n",
              "      <td>23.515952</td>\n",
              "      <td>153.000</td>\n",
              "      <td>164.000</td>\n",
              "      <td>175.00</td>\n",
              "      <td>187.500</td>\n",
              "      <td>200.0</td>\n",
              "      <td>3.0</td>\n",
              "      <td>6.793333</td>\n",
              "      <td>2.492877</td>\n",
              "      <td>3.96</td>\n",
              "      <td>5.8650</td>\n",
              "      <td>7.770</td>\n",
              "      <td>8.2100</td>\n",
              "      <td>8.65</td>\n",
              "      <td>3.0</td>\n",
              "      <td>156.666667</td>\n",
              "      <td>16.165808</td>\n",
              "      <td>142.0000</td>\n",
              "      <td>148.000</td>\n",
              "      <td>154.00</td>\n",
              "      <td>164.000</td>\n",
              "      <td>174.0</td>\n",
              "      <td>3.0</td>\n",
              "      <td>64033.333333</td>\n",
              "      <td>32460.642836</td>\n",
              "      <td>28300.0</td>\n",
              "      <td>50200.0</td>\n",
              "      <td>72100.0</td>\n",
              "      <td>81900.0</td>\n",
              "      <td>91700.0</td>\n",
              "      <td>3.0</td>\n",
              "      <td>2.468000</td>\n",
              "      <td>2.179718</td>\n",
              "      <td>-0.046</td>\n",
              "      <td>1.7870</td>\n",
              "      <td>3.620</td>\n",
              "      <td>3.7250</td>\n",
              "      <td>3.83</td>\n",
              "      <td>3.0</td>\n",
              "      <td>81.433333</td>\n",
              "      <td>1.205543</td>\n",
              "      <td>80.3</td>\n",
              "      <td>80.800</td>\n",
              "      <td>81.30</td>\n",
              "      <td>82.000</td>\n",
              "      <td>82.7</td>\n",
              "      <td>3.0</td>\n",
              "      <td>1.380000</td>\n",
              "      <td>0.240624</td>\n",
              "      <td>1.15</td>\n",
              "      <td>1.2550</td>\n",
              "      <td>1.360</td>\n",
              "      <td>1.4950</td>\n",
              "      <td>1.63</td>\n",
              "      <td>3.0</td>\n",
              "      <td>57566.666667</td>\n",
              "      <td>43011.665084</td>\n",
              "      <td>21100.0</td>\n",
              "      <td>33850.0</td>\n",
              "      <td>46600.0</td>\n",
              "      <td>75800.0</td>\n",
              "      <td>105000.0</td>\n",
              "    </tr>\n",
              "    <tr>\n",
              "      <th>1</th>\n",
              "      <td>46.0</td>\n",
              "      <td>93.284783</td>\n",
              "      <td>34.079410</td>\n",
              "      <td>28.1</td>\n",
              "      <td>64.625</td>\n",
              "      <td>90.25</td>\n",
              "      <td>111.000</td>\n",
              "      <td>208.0</td>\n",
              "      <td>46.0</td>\n",
              "      <td>29.287174</td>\n",
              "      <td>18.479530</td>\n",
              "      <td>2.200</td>\n",
              "      <td>16.875</td>\n",
              "      <td>23.80</td>\n",
              "      <td>38.800</td>\n",
              "      <td>85.8</td>\n",
              "      <td>46.0</td>\n",
              "      <td>6.338478</td>\n",
              "      <td>2.668183</td>\n",
              "      <td>2.20</td>\n",
              "      <td>4.5150</td>\n",
              "      <td>5.480</td>\n",
              "      <td>7.8450</td>\n",
              "      <td>13.10</td>\n",
              "      <td>46.0</td>\n",
              "      <td>43.297826</td>\n",
              "      <td>18.636362</td>\n",
              "      <td>17.2000</td>\n",
              "      <td>30.225</td>\n",
              "      <td>41.50</td>\n",
              "      <td>49.525</td>\n",
              "      <td>101.0</td>\n",
              "      <td>46.0</td>\n",
              "      <td>3516.804348</td>\n",
              "      <td>5391.402727</td>\n",
              "      <td>609.0</td>\n",
              "      <td>1390.0</td>\n",
              "      <td>1835.0</td>\n",
              "      <td>3310.0</td>\n",
              "      <td>33700.0</td>\n",
              "      <td>46.0</td>\n",
              "      <td>12.097065</td>\n",
              "      <td>15.670791</td>\n",
              "      <td>0.885</td>\n",
              "      <td>3.9400</td>\n",
              "      <td>8.995</td>\n",
              "      <td>16.6000</td>\n",
              "      <td>104.00</td>\n",
              "      <td>46.0</td>\n",
              "      <td>59.393478</td>\n",
              "      <td>6.473859</td>\n",
              "      <td>32.1</td>\n",
              "      <td>56.925</td>\n",
              "      <td>60.25</td>\n",
              "      <td>62.875</td>\n",
              "      <td>71.1</td>\n",
              "      <td>46.0</td>\n",
              "      <td>5.090217</td>\n",
              "      <td>0.940327</td>\n",
              "      <td>3.15</td>\n",
              "      <td>4.5700</td>\n",
              "      <td>5.085</td>\n",
              "      <td>5.6725</td>\n",
              "      <td>7.49</td>\n",
              "      <td>46.0</td>\n",
              "      <td>1695.913043</td>\n",
              "      <td>2795.655748</td>\n",
              "      <td>231.0</td>\n",
              "      <td>548.5</td>\n",
              "      <td>833.0</td>\n",
              "      <td>1310.0</td>\n",
              "      <td>17100.0</td>\n",
              "    </tr>\n",
              "    <tr>\n",
              "      <th>2</th>\n",
              "      <td>30.0</td>\n",
              "      <td>4.953333</td>\n",
              "      <td>2.159140</td>\n",
              "      <td>2.6</td>\n",
              "      <td>3.825</td>\n",
              "      <td>4.20</td>\n",
              "      <td>5.100</td>\n",
              "      <td>10.8</td>\n",
              "      <td>30.0</td>\n",
              "      <td>45.826667</td>\n",
              "      <td>21.736255</td>\n",
              "      <td>12.400</td>\n",
              "      <td>28.425</td>\n",
              "      <td>44.25</td>\n",
              "      <td>63.575</td>\n",
              "      <td>103.0</td>\n",
              "      <td>30.0</td>\n",
              "      <td>9.168667</td>\n",
              "      <td>3.266299</td>\n",
              "      <td>1.81</td>\n",
              "      <td>8.7850</td>\n",
              "      <td>9.535</td>\n",
              "      <td>11.0000</td>\n",
              "      <td>17.90</td>\n",
              "      <td>30.0</td>\n",
              "      <td>39.736667</td>\n",
              "      <td>17.455134</td>\n",
              "      <td>13.6000</td>\n",
              "      <td>28.025</td>\n",
              "      <td>35.00</td>\n",
              "      <td>47.400</td>\n",
              "      <td>86.5</td>\n",
              "      <td>30.0</td>\n",
              "      <td>45250.000000</td>\n",
              "      <td>19785.308900</td>\n",
              "      <td>27200.0</td>\n",
              "      <td>34375.0</td>\n",
              "      <td>40550.0</td>\n",
              "      <td>45650.0</td>\n",
              "      <td>125000.0</td>\n",
              "      <td>30.0</td>\n",
              "      <td>2.742200</td>\n",
              "      <td>4.266366</td>\n",
              "      <td>-3.220</td>\n",
              "      <td>0.6505</td>\n",
              "      <td>1.190</td>\n",
              "      <td>3.2050</td>\n",
              "      <td>16.70</td>\n",
              "      <td>30.0</td>\n",
              "      <td>80.376667</td>\n",
              "      <td>1.440231</td>\n",
              "      <td>76.5</td>\n",
              "      <td>79.825</td>\n",
              "      <td>80.40</td>\n",
              "      <td>81.400</td>\n",
              "      <td>82.8</td>\n",
              "      <td>30.0</td>\n",
              "      <td>1.795333</td>\n",
              "      <td>0.369293</td>\n",
              "      <td>1.23</td>\n",
              "      <td>1.4650</td>\n",
              "      <td>1.865</td>\n",
              "      <td>1.9725</td>\n",
              "      <td>3.03</td>\n",
              "      <td>30.0</td>\n",
              "      <td>43333.333333</td>\n",
              "      <td>15040.114942</td>\n",
              "      <td>22100.0</td>\n",
              "      <td>34025.0</td>\n",
              "      <td>41850.0</td>\n",
              "      <td>48625.0</td>\n",
              "      <td>87800.0</td>\n",
              "    </tr>\n",
              "    <tr>\n",
              "      <th>3</th>\n",
              "      <td>88.0</td>\n",
              "      <td>22.034091</td>\n",
              "      <td>14.526653</td>\n",
              "      <td>3.4</td>\n",
              "      <td>11.100</td>\n",
              "      <td>18.10</td>\n",
              "      <td>29.125</td>\n",
              "      <td>64.4</td>\n",
              "      <td>88.0</td>\n",
              "      <td>41.081693</td>\n",
              "      <td>19.439713</td>\n",
              "      <td>0.109</td>\n",
              "      <td>26.900</td>\n",
              "      <td>37.65</td>\n",
              "      <td>51.825</td>\n",
              "      <td>93.8</td>\n",
              "      <td>88.0</td>\n",
              "      <td>6.263750</td>\n",
              "      <td>2.162703</td>\n",
              "      <td>1.97</td>\n",
              "      <td>4.8975</td>\n",
              "      <td>5.990</td>\n",
              "      <td>7.6225</td>\n",
              "      <td>14.20</td>\n",
              "      <td>88.0</td>\n",
              "      <td>47.464385</td>\n",
              "      <td>19.767404</td>\n",
              "      <td>0.0659</td>\n",
              "      <td>32.150</td>\n",
              "      <td>48.95</td>\n",
              "      <td>60.425</td>\n",
              "      <td>108.0</td>\n",
              "      <td>88.0</td>\n",
              "      <td>13088.522727</td>\n",
              "      <td>8737.148794</td>\n",
              "      <td>1990.0</td>\n",
              "      <td>6725.0</td>\n",
              "      <td>11000.0</td>\n",
              "      <td>17500.0</td>\n",
              "      <td>45400.0</td>\n",
              "      <td>88.0</td>\n",
              "      <td>7.425352</td>\n",
              "      <td>7.765399</td>\n",
              "      <td>-4.210</td>\n",
              "      <td>2.3250</td>\n",
              "      <td>5.805</td>\n",
              "      <td>9.8575</td>\n",
              "      <td>45.90</td>\n",
              "      <td>88.0</td>\n",
              "      <td>72.671591</td>\n",
              "      <td>4.555884</td>\n",
              "      <td>54.3</td>\n",
              "      <td>70.200</td>\n",
              "      <td>73.75</td>\n",
              "      <td>76.100</td>\n",
              "      <td>80.4</td>\n",
              "      <td>88.0</td>\n",
              "      <td>2.274545</td>\n",
              "      <td>0.663692</td>\n",
              "      <td>1.25</td>\n",
              "      <td>1.7125</td>\n",
              "      <td>2.215</td>\n",
              "      <td>2.6525</td>\n",
              "      <td>4.34</td>\n",
              "      <td>88.0</td>\n",
              "      <td>6980.704545</td>\n",
              "      <td>5388.936995</td>\n",
              "      <td>592.0</td>\n",
              "      <td>2985.0</td>\n",
              "      <td>5245.0</td>\n",
              "      <td>10400.0</td>\n",
              "      <td>28000.0</td>\n",
              "    </tr>\n",
              "  </tbody>\n",
              "</table>\n",
              "</div>\n",
              "      <button class=\"colab-df-convert\" onclick=\"convertToInteractive('df-88624c07-4f6a-4b10-bb64-05c7484f1ac5')\"\n",
              "              title=\"Convert this dataframe to an interactive table.\"\n",
              "              style=\"display:none;\">\n",
              "        \n",
              "  <svg xmlns=\"http://www.w3.org/2000/svg\" height=\"24px\"viewBox=\"0 0 24 24\"\n",
              "       width=\"24px\">\n",
              "    <path d=\"M0 0h24v24H0V0z\" fill=\"none\"/>\n",
              "    <path d=\"M18.56 5.44l.94 2.06.94-2.06 2.06-.94-2.06-.94-.94-2.06-.94 2.06-2.06.94zm-11 1L8.5 8.5l.94-2.06 2.06-.94-2.06-.94L8.5 2.5l-.94 2.06-2.06.94zm10 10l.94 2.06.94-2.06 2.06-.94-2.06-.94-.94-2.06-.94 2.06-2.06.94z\"/><path d=\"M17.41 7.96l-1.37-1.37c-.4-.4-.92-.59-1.43-.59-.52 0-1.04.2-1.43.59L10.3 9.45l-7.72 7.72c-.78.78-.78 2.05 0 2.83L4 21.41c.39.39.9.59 1.41.59.51 0 1.02-.2 1.41-.59l7.78-7.78 2.81-2.81c.8-.78.8-2.07 0-2.86zM5.41 20L4 18.59l7.72-7.72 1.47 1.35L5.41 20z\"/>\n",
              "  </svg>\n",
              "      </button>\n",
              "      \n",
              "  <style>\n",
              "    .colab-df-container {\n",
              "      display:flex;\n",
              "      flex-wrap:wrap;\n",
              "      gap: 12px;\n",
              "    }\n",
              "\n",
              "    .colab-df-convert {\n",
              "      background-color: #E8F0FE;\n",
              "      border: none;\n",
              "      border-radius: 50%;\n",
              "      cursor: pointer;\n",
              "      display: none;\n",
              "      fill: #1967D2;\n",
              "      height: 32px;\n",
              "      padding: 0 0 0 0;\n",
              "      width: 32px;\n",
              "    }\n",
              "\n",
              "    .colab-df-convert:hover {\n",
              "      background-color: #E2EBFA;\n",
              "      box-shadow: 0px 1px 2px rgba(60, 64, 67, 0.3), 0px 1px 3px 1px rgba(60, 64, 67, 0.15);\n",
              "      fill: #174EA6;\n",
              "    }\n",
              "\n",
              "    [theme=dark] .colab-df-convert {\n",
              "      background-color: #3B4455;\n",
              "      fill: #D2E3FC;\n",
              "    }\n",
              "\n",
              "    [theme=dark] .colab-df-convert:hover {\n",
              "      background-color: #434B5C;\n",
              "      box-shadow: 0px 1px 3px 1px rgba(0, 0, 0, 0.15);\n",
              "      filter: drop-shadow(0px 1px 2px rgba(0, 0, 0, 0.3));\n",
              "      fill: #FFFFFF;\n",
              "    }\n",
              "  </style>\n",
              "\n",
              "      <script>\n",
              "        const buttonEl =\n",
              "          document.querySelector('#df-88624c07-4f6a-4b10-bb64-05c7484f1ac5 button.colab-df-convert');\n",
              "        buttonEl.style.display =\n",
              "          google.colab.kernel.accessAllowed ? 'block' : 'none';\n",
              "\n",
              "        async function convertToInteractive(key) {\n",
              "          const element = document.querySelector('#df-88624c07-4f6a-4b10-bb64-05c7484f1ac5');\n",
              "          const dataTable =\n",
              "            await google.colab.kernel.invokeFunction('convertToInteractive',\n",
              "                                                     [key], {});\n",
              "          if (!dataTable) return;\n",
              "\n",
              "          const docLinkHtml = 'Like what you see? Visit the ' +\n",
              "            '<a target=\"_blank\" href=https://colab.research.google.com/notebooks/data_table.ipynb>data table notebook</a>'\n",
              "            + ' to learn more about interactive tables.';\n",
              "          element.innerHTML = '';\n",
              "          dataTable['output_type'] = 'display_data';\n",
              "          await google.colab.output.renderOutput(dataTable, element);\n",
              "          const docLink = document.createElement('div');\n",
              "          docLink.innerHTML = docLinkHtml;\n",
              "          element.appendChild(docLink);\n",
              "        }\n",
              "      </script>\n",
              "    </div>\n",
              "  </div>\n",
              "  "
            ]
          },
          "metadata": {}
        }
      ],
      "source": [
        "with pd.option_context('display.max_columns', None):\n",
        "    display(df.groupby('cluster_id').describe())"
      ]
    },
    {
      "cell_type": "code",
      "source": [
        "df[df['cluster_id'] == 0]['country'].head()"
      ],
      "metadata": {
        "colab": {
          "base_uri": "https://localhost:8080/"
        },
        "id": "SGlJPDOAnTn6",
        "outputId": "16d230e1-56f8-425c-fdf2-22526bd1f6f2"
      },
      "execution_count": 257,
      "outputs": [
        {
          "output_type": "execute_result",
          "data": {
            "text/plain": [
              "91     Luxembourg\n",
              "98          Malta\n",
              "133     Singapore\n",
              "Name: country, dtype: object"
            ]
          },
          "metadata": {},
          "execution_count": 257
        }
      ]
    },
    {
      "cell_type": "code",
      "execution_count": 258,
      "metadata": {
        "colab": {
          "base_uri": "https://localhost:8080/",
          "height": 298
        },
        "id": "Y95ASZlImpmo",
        "outputId": "bb75c8f0-ecf9-43c4-c139-3de63410620e"
      },
      "outputs": [
        {
          "output_type": "execute_result",
          "data": {
            "text/plain": [
              "<matplotlib.axes._subplots.AxesSubplot at 0x7fbc3a715a90>"
            ]
          },
          "metadata": {},
          "execution_count": 258
        },
        {
          "output_type": "display_data",
          "data": {
            "text/plain": [
              "<Figure size 432x288 with 1 Axes>"
            ],
            "image/png": "[encoded data removed]"
          },
          "metadata": {
            "needs_background": "light"
          }
        }
      ],
      "source": [
        "sns.boxplot(data=df, y='income', x='cluster_id')"
      ]
    },
    {
      "cell_type": "code",
      "source": [
        "sns.boxplot(data=df, y='health', x='cluster_id')"
      ],
      "metadata": {
        "colab": {
          "base_uri": "https://localhost:8080/",
          "height": 298
        },
        "id": "VFzIKtNemh-Y",
        "outputId": "b81f1fc6-8242-4602-e997-abac17c5cfc2"
      },
      "execution_count": 259,
      "outputs": [
        {
          "output_type": "execute_result",
          "data": {
            "text/plain": [
              "<matplotlib.axes._subplots.AxesSubplot at 0x7fbc3a639790>"
            ]
          },
          "metadata": {},
          "execution_count": 259
        },
        {
          "output_type": "display_data",
          "data": {
            "text/plain": [
              "<Figure size 432x288 with 1 Axes>"
            ],
            "image/png": "[encoded data removed]"
          },
          "metadata": {
            "needs_background": "light"
          }
        }
      ]
    },
    {
      "cell_type": "code",
      "source": [
        "sns.boxplot(data=df, y='exports', x='cluster_id')"
      ],
      "metadata": {
        "colab": {
          "base_uri": "https://localhost:8080/",
          "height": 298
        },
        "id": "NgeQWCKdmmZR",
        "outputId": "48a2708b-977c-4a4c-e2e1-2dd41e582689"
      },
      "execution_count": 260,
      "outputs": [
        {
          "output_type": "execute_result",
          "data": {
            "text/plain": [
              "<matplotlib.axes._subplots.AxesSubplot at 0x7fbc3a55b990>"
            ]
          },
          "metadata": {},
          "execution_count": 260
        },
        {
          "output_type": "display_data",
          "data": {
            "text/plain": [
              "<Figure size 432x288 with 1 Axes>"
            ],
            "image/png": "[encoded data removed]"
          },
          "metadata": {
            "needs_background": "light"
          }
        }
      ]
    },
    {
      "cell_type": "code",
      "source": [
        "sns.boxplot(data=df, y='imports', x='cluster_id')"
      ],
      "metadata": {
        "colab": {
          "base_uri": "https://localhost:8080/",
          "height": 298
        },
        "id": "lpi3FTmEmpZG",
        "outputId": "5c3bc794-8855-4261-ab86-6f578a39a1e4"
      },
      "execution_count": 261,
      "outputs": [
        {
          "output_type": "execute_result",
          "data": {
            "text/plain": [
              "<matplotlib.axes._subplots.AxesSubplot at 0x7fbc3c2194d0>"
            ]
          },
          "metadata": {},
          "execution_count": 261
        },
        {
          "output_type": "display_data",
          "data": {
            "text/plain": [
              "<Figure size 432x288 with 1 Axes>"
            ],
            "image/png": "[encoded data removed]"
          },
          "metadata": {
            "needs_background": "light"
          }
        }
      ]
    },
    {
      "cell_type": "markdown",
      "metadata": {
        "id": "hvwuEYSgmpmo"
      },
      "source": [
        "#### Are there any differences attributes for different clusters?\n",
        "Clusters with id 1 and 3 contain countries with lower income. High income countries are mostly placed in small cluster with cluster_id 0, other countries with relative high income are in group 2."
      ]
    },
    {
      "cell_type": "markdown",
      "metadata": {
        "id": "C6iPjMlimpmp"
      },
      "source": [
        "#### Continue with description of detected clusters"
      ]
    },
    {
      "cell_type": "markdown",
      "source": [
        "# **\\#1**\n",
        "\n",
        "Countries in cluster zero both import and export a lot more than other countries. Which makes sense as all three countries are quite small, and, in the\n",
        "case of Singapore and Luxembourg, very rich. It is quite surprising that Malta was grouped among these two countries, because, whilst Malta isn't poor by any\n",
        "means, it is in no way incredibely rich, quite unlike the other two countries in this group.\n",
        "\n",
        "We can also see that whilst countries in group no. 1 are much poorer than other\n",
        "countries, they are not inherently that much unhealthier, and whilst the median\n",
        "is the lowest among all four clusters, it is basically on par with cluster 3\n",
        "and still better than outliers from cluster 2."
      ],
      "metadata": {
        "id": "E6TO-3-mn3Ux"
      }
    },
    {
      "cell_type": "markdown",
      "metadata": {
        "id": "OWYkNVogep3k"
      },
      "source": [
        "## DBSCAN + distance analysis\n",
        "- https://scikit-learn.org/stable/modules/generated/sklearn.cluster.DBSCAN.html\n",
        "- https://www.kdnuggets.com/2020/04/dbscan-clustering-algorithm-machine-learning.html"
      ]
    },
    {
      "cell_type": "code",
      "execution_count": 262,
      "metadata": {
        "colab": {
          "base_uri": "https://localhost:8080/"
        },
        "id": "07ZgpmO8epPt",
        "outputId": "5a598f14-e97b-4706-8755-ad9f1295a252"
      },
      "outputs": [
        {
          "output_type": "execute_result",
          "data": {
            "text/plain": [
              "DBSCAN()"
            ]
          },
          "metadata": {},
          "execution_count": 262
        }
      ],
      "source": [
        "clustering = sklearn.cluster.DBSCAN()\n",
        "clustering.fit(X_min_max_scaled)"
      ]
    },
    {
      "cell_type": "code",
      "execution_count": 263,
      "metadata": {
        "colab": {
          "base_uri": "https://localhost:8080/"
        },
        "id": "W1ug3oUcd3Pv",
        "outputId": "c0636f56-1315-4e2b-d463-0f7d131c3ecb"
      },
      "outputs": [
        {
          "output_type": "execute_result",
          "data": {
            "text/plain": [
              " 0    161\n",
              "-1      6\n",
              "dtype: int64"
            ]
          },
          "metadata": {},
          "execution_count": 263
        }
      ],
      "source": [
        "pd.Series(clustering.labels_).value_counts()"
      ]
    },
    {
      "cell_type": "markdown",
      "metadata": {
        "id": "F8fr2pwcmpmr"
      },
      "source": [
        "What does the number -1 means?\n",
        "#### Find better parameters *eps* and *min_pts* and visualize you result"
      ]
    },
    {
      "cell_type": "code",
      "execution_count": 264,
      "metadata": {
        "colab": {
          "base_uri": "https://localhost:8080/"
        },
        "id": "0Q2O8L5ifB0N",
        "outputId": "29b80e4b-fc2d-4bb5-f73e-d560a8ffcdff"
      },
      "outputs": [
        {
          "output_type": "execute_result",
          "data": {
            "text/plain": [
              " 1    75\n",
              "-1    54\n",
              " 0    21\n",
              " 2    17\n",
              "dtype: int64"
            ]
          },
          "metadata": {},
          "execution_count": 264
        }
      ],
      "source": [
        "clustering = sklearn.cluster.DBSCAN(eps=0.2, min_samples=5).fit(X_min_max_scaled)\n",
        "pd.Series(clustering.labels_).value_counts()"
      ]
    },
    {
      "cell_type": "markdown",
      "metadata": {
        "id": "2xJIBo69mpms"
      },
      "source": [
        "#### Lets get insight into distances in our dataset and be able to configure our parameters for DBSCAN"
      ]
    },
    {
      "cell_type": "code",
      "execution_count": 265,
      "metadata": {
        "colab": {
          "base_uri": "https://localhost:8080/"
        },
        "id": "OQSSZzO6f4aA",
        "outputId": "e49d7a88-e423-45b1-db24-f10c4bf76ee2"
      },
      "outputs": [
        {
          "output_type": "execute_result",
          "data": {
            "text/plain": [
              "array([[0.        , 0.85938446, 0.74311097, ..., 0.8546914 , 0.40426303,\n",
              "        0.22412638],\n",
              "       [0.85938446, 0.        , 0.2957055 , ..., 0.31085967, 0.58498839,\n",
              "        0.84241764],\n",
              "       [0.74311097, 0.2957055 , 0.        , ..., 0.41013299, 0.38283615,\n",
              "        0.69477761],\n",
              "       ...,\n",
              "       [0.8546914 , 0.31085967, 0.41013299, ..., 0.        , 0.59790897,\n",
              "        0.81790284],\n",
              "       [0.40426303, 0.58498839, 0.38283615, ..., 0.59790897, 0.        ,\n",
              "        0.36781892],\n",
              "       [0.22412638, 0.84241764, 0.69477761, ..., 0.81790284, 0.36781892,\n",
              "        0.        ]])"
            ]
          },
          "metadata": {},
          "execution_count": 265
        }
      ],
      "source": [
        "distance_matrix = scipy.spatial.distance_matrix(X_min_max_scaled, X_min_max_scaled)\n",
        "distance_matrix"
      ]
    },
    {
      "cell_type": "code",
      "execution_count": 266,
      "metadata": {
        "colab": {
          "base_uri": "https://localhost:8080/",
          "height": 283
        },
        "id": "u5wcx6Fampms",
        "outputId": "bf28ab4c-70df-4a81-bc3e-ea5132694e84"
      },
      "outputs": [
        {
          "output_type": "execute_result",
          "data": {
            "text/plain": [
              "<matplotlib.axes._subplots.AxesSubplot at 0x7fbc3b2381d0>"
            ]
          },
          "metadata": {},
          "execution_count": 266
        },
        {
          "output_type": "display_data",
          "data": {
            "text/plain": [
              "<Figure size 432x288 with 1 Axes>"
            ],
            "image/png": "[encoded data removed]"
          },
          "metadata": {
            "needs_background": "light"
          }
        }
      ],
      "source": [
        "sns.histplot(distance_matrix.flatten())"
      ]
    },
    {
      "cell_type": "code",
      "execution_count": 267,
      "metadata": {
        "colab": {
          "base_uri": "https://localhost:8080/"
        },
        "id": "2xS100K_gy8T",
        "outputId": "3894a6ed-0872-4910-abec-036ac5472423"
      },
      "outputs": [
        {
          "output_type": "execute_result",
          "data": {
            "text/plain": [
              "array([[0.        , 0.14842545, 0.15137223, ..., 1.535181  , 1.73891415,\n",
              "        1.83776206],\n",
              "       [0.        , 0.1097279 , 0.11452457, ..., 1.31412931, 1.3148987 ,\n",
              "        1.48628607],\n",
              "       [0.        , 0.15065842, 0.1712165 , ..., 1.28222406, 1.35681504,\n",
              "        1.52301869],\n",
              "       ...,\n",
              "       [0.        , 0.18710912, 0.21453506, ..., 1.26599787, 1.27534801,\n",
              "        1.3823712 ],\n",
              "       [0.        , 0.17442501, 0.17785416, ..., 1.32168729, 1.53925858,\n",
              "        1.67687246],\n",
              "       [0.        , 0.10082188, 0.15766287, ..., 1.47501506, 1.68334477,\n",
              "        1.79717218]])"
            ]
          },
          "metadata": {},
          "execution_count": 267
        }
      ],
      "source": [
        "distance_matrix = scipy.spatial.distance_matrix(X_min_max_scaled, X_min_max_scaled)\n",
        "distance_matrix.sort(axis=1)\n",
        "distance_matrix"
      ]
    },
    {
      "cell_type": "code",
      "execution_count": 268,
      "metadata": {
        "colab": {
          "base_uri": "https://localhost:8080/",
          "height": 283
        },
        "id": "Px6BLtDXhhrN",
        "outputId": "fccc2627-1090-43e6-b297-54768cd12cf2"
      },
      "outputs": [
        {
          "output_type": "execute_result",
          "data": {
            "text/plain": [
              "<matplotlib.axes._subplots.AxesSubplot at 0x7fbc3c3175d0>"
            ]
          },
          "metadata": {},
          "execution_count": 268
        },
        {
          "output_type": "display_data",
          "data": {
            "text/plain": [
              "<Figure size 432x288 with 1 Axes>"
            ],
            "image/png": "[encoded data removed]"
          },
          "metadata": {
            "needs_background": "light"
          }
        }
      ],
      "source": [
        "sns.histplot(distance_matrix[:, 1])"
      ]
    },
    {
      "cell_type": "code",
      "execution_count": 269,
      "metadata": {
        "colab": {
          "base_uri": "https://localhost:8080/",
          "height": 286
        },
        "id": "WD4_2WCdhx72",
        "outputId": "1bcca981-4a0e-4268-af7e-a3f066167bda"
      },
      "outputs": [
        {
          "output_type": "execute_result",
          "data": {
            "text/plain": [
              "<matplotlib.axes._subplots.AxesSubplot at 0x7fbc3bbb5290>"
            ]
          },
          "metadata": {},
          "execution_count": 269
        },
        {
          "output_type": "display_data",
          "data": {
            "text/plain": [
              "<Figure size 432x288 with 1 Axes>"
            ],
            "image/png": "[encoded data removed]"
          },
          "metadata": {
            "needs_background": "light"
          }
        }
      ],
      "source": [
        "sns.histplot(distance_matrix[:, 10], bins=50)"
      ]
    },
    {
      "cell_type": "markdown",
      "metadata": {
        "id": "T6S3XU8Mmpmt"
      },
      "source": [
        "#### What can we notice in previous visualizations?"
      ]
    },
    {
      "cell_type": "code",
      "execution_count": 270,
      "metadata": {
        "colab": {
          "base_uri": "https://localhost:8080/"
        },
        "id": "63CXrkqWmpmu",
        "outputId": "cf045b74-8e48-407e-c99a-8ecbaaefa53b"
      },
      "outputs": [
        {
          "output_type": "execute_result",
          "data": {
            "text/plain": [
              " 1    102\n",
              "-1     38\n",
              " 0     27\n",
              "dtype: int64"
            ]
          },
          "metadata": {},
          "execution_count": 270
        }
      ],
      "source": [
        "clustering = sklearn.cluster.DBSCAN(eps=0.25, min_samples=10).fit(X_min_max_scaled)\n",
        "pd.Series(clustering.labels_).value_counts()"
      ]
    },
    {
      "cell_type": "markdown",
      "metadata": {
        "id": "vi9lJQqtmpmu"
      },
      "source": [
        "#### Description of clusters (and probably noise points too)"
      ]
    },
    {
      "cell_type": "code",
      "execution_count": 271,
      "metadata": {
        "id": "5qVQQVUNmpmv"
      },
      "outputs": [],
      "source": [
        "df['cluster_id'] = clustering.labels_"
      ]
    },
    {
      "cell_type": "code",
      "execution_count": 272,
      "metadata": {
        "colab": {
          "base_uri": "https://localhost:8080/"
        },
        "id": "rG_28dSAmpmv",
        "outputId": "2f0c811e-4ea0-4707-82fc-c2d4edb19cbb"
      },
      "outputs": [
        {
          "output_type": "execute_result",
          "data": {
            "text/plain": [
              "array(['Angola', 'Botswana', 'Brunei', 'Burundi',\n",
              "       'Central African Republic', 'Chad', 'Congo, Rep.',\n",
              "       'Equatorial Guinea', 'Gabon', 'Haiti', 'Iraq', 'Ireland',\n",
              "       'Kiribati', 'Kuwait', 'Lesotho', 'Liberia', 'Luxembourg', 'Malta',\n",
              "       'Micronesia, Fed. Sts.', 'Mongolia', 'Niger', 'Nigeria', 'Norway',\n",
              "       'Oman', 'Pakistan', 'Qatar', 'Rwanda', 'Saudi Arabia',\n",
              "       'Seychelles', 'Sierra Leone', 'Singapore', 'Solomon Islands',\n",
              "       'South Africa', 'Timor-Leste', 'Turkmenistan',\n",
              "       'United Arab Emirates', 'United States', 'Venezuela'], dtype=object)"
            ]
          },
          "metadata": {},
          "execution_count": 272
        }
      ],
      "source": [
        "df[df.cluster_id == -1].country.values"
      ]
    },
    {
      "cell_type": "code",
      "execution_count": 273,
      "metadata": {
        "colab": {
          "base_uri": "https://localhost:8080/"
        },
        "id": "wZIS5sOompmw",
        "outputId": "e0a5a294-2dc0-4d51-b0b0-97e9a8f66d96"
      },
      "outputs": [
        {
          "output_type": "execute_result",
          "data": {
            "text/plain": [
              "array(['Afghanistan', 'Benin', 'Burkina Faso', 'Cameroon', 'Comoros',\n",
              "       'Congo, Dem. Rep.', \"Cote d'Ivoire\", 'Eritrea', 'Gambia', 'Ghana',\n",
              "       'Guinea', 'Guinea-Bissau', 'Kenya', 'Lao', 'Madagascar', 'Malawi',\n",
              "       'Mali', 'Mauritania', 'Mozambique', 'Senegal', 'Sudan',\n",
              "       'Tajikistan', 'Tanzania', 'Togo', 'Uganda', 'Yemen', 'Zambia'],\n",
              "      dtype=object)"
            ]
          },
          "metadata": {},
          "execution_count": 273
        }
      ],
      "source": [
        "df[df.cluster_id == 0].country.values"
      ]
    },
    {
      "cell_type": "code",
      "execution_count": 274,
      "metadata": {
        "colab": {
          "base_uri": "https://localhost:8080/"
        },
        "id": "BauUv43Tmpmw",
        "outputId": "008f4a69-c5b9-4f40-ed36-a4b3f21e1931"
      },
      "outputs": [
        {
          "output_type": "execute_result",
          "data": {
            "text/plain": [
              "array(['Albania', 'Algeria', 'Antigua and Barbuda', 'Argentina',\n",
              "       'Armenia', 'Australia', 'Austria', 'Azerbaijan', 'Bahamas',\n",
              "       'Bahrain', 'Bangladesh', 'Barbados', 'Belarus', 'Belgium',\n",
              "       'Belize', 'Bhutan', 'Bolivia', 'Bosnia and Herzegovina', 'Brazil',\n",
              "       'Bulgaria', 'Cambodia', 'Canada', 'Cape Verde', 'Chile', 'China',\n",
              "       'Colombia', 'Costa Rica', 'Croatia', 'Cyprus', 'Czech Republic',\n",
              "       'Denmark', 'Dominican Republic', 'Ecuador', 'Egypt', 'El Salvador',\n",
              "       'Estonia', 'Fiji', 'Finland', 'France', 'Georgia', 'Germany',\n",
              "       'Greece', 'Grenada', 'Guatemala', 'Guyana', 'Hungary', 'Iceland',\n",
              "       'India', 'Indonesia', 'Iran', 'Israel', 'Italy', 'Jamaica',\n",
              "       'Japan', 'Jordan', 'Kazakhstan', 'Kyrgyz Republic', 'Latvia',\n",
              "       'Lebanon', 'Libya', 'Lithuania', 'Macedonia, FYR', 'Malaysia',\n",
              "       'Maldives', 'Mauritius', 'Moldova', 'Montenegro', 'Morocco',\n",
              "       'Myanmar', 'Namibia', 'Nepal', 'Netherlands', 'New Zealand',\n",
              "       'Panama', 'Paraguay', 'Peru', 'Philippines', 'Poland', 'Portugal',\n",
              "       'Romania', 'Russia', 'Samoa', 'Serbia', 'Slovak Republic',\n",
              "       'Slovenia', 'South Korea', 'Spain', 'Sri Lanka',\n",
              "       'St. Vincent and the Grenadines', 'Suriname', 'Sweden',\n",
              "       'Switzerland', 'Thailand', 'Tonga', 'Tunisia', 'Turkey', 'Ukraine',\n",
              "       'United Kingdom', 'Uruguay', 'Uzbekistan', 'Vanuatu', 'Vietnam'],\n",
              "      dtype=object)"
            ]
          },
          "metadata": {},
          "execution_count": 274
        }
      ],
      "source": [
        "df[df.cluster_id == 1].country.values"
      ]
    },
    {
      "cell_type": "code",
      "execution_count": 275,
      "metadata": {
        "colab": {
          "base_uri": "https://localhost:8080/",
          "height": 298
        },
        "id": "bsekAn6Xmpmx",
        "outputId": "2d5552b3-f36a-4cf6-f15b-c8cd3e55162f"
      },
      "outputs": [
        {
          "output_type": "execute_result",
          "data": {
            "text/plain": [
              "<matplotlib.axes._subplots.AxesSubplot at 0x7fbc3e6f7d50>"
            ]
          },
          "metadata": {},
          "execution_count": 275
        },
        {
          "output_type": "display_data",
          "data": {
            "text/plain": [
              "<Figure size 432x288 with 1 Axes>"
            ],
            "image/png": "[encoded data removed]"
          },
          "metadata": {
            "needs_background": "light"
          }
        }
      ],
      "source": [
        "sns.boxplot(data=df, y='income', x='cluster_id')"
      ]
    },
    {
      "cell_type": "code",
      "execution_count": 275,
      "metadata": {
        "id": "OrAEwRw-mpmx"
      },
      "outputs": [],
      "source": []
    },
    {
      "cell_type": "markdown",
      "metadata": {
        "id": "EePLKGMtmpmx"
      },
      "source": [
        "### How would you treat non-numerical attributes?"
      ]
    },
    {
      "cell_type": "markdown",
      "metadata": {
        "id": "rRrCGr1impmy"
      },
      "source": [
        "### For more info about Sklearn clustering, take a look into documentation https://scikit-learn.org/stable/modules/clustering.html#clustering"
      ]
    },
    {
      "cell_type": "markdown",
      "metadata": {
        "id": "Lg1dt4WGmpmy"
      },
      "source": [
        "# Task (2p)\n",
        "\n",
        "Continue with clustering analysis:\n",
        "1. Let's add more information for already detected clusters (code above). Choose one of already used method (k-means or DBSCAN) and add more description for clusters.\n",
        "\n",
        "MinMax scaling is not the only best possibility for scaling of numerical attributes.\n",
        "\n",
        "2. Take a look into documentation (https://scikit-learn.org/stable/modules/classes.html?highlight=preprocessing#module-sklearn.preprocessing) and choose other method for scaling your features.\n",
        "\n",
        "3. Apply clustering method of your choice (https://scikit-learn.org/stable/modules/clustering.html) for differently scaled data.\n",
        "\n",
        "4. Describe detected clusters.\n",
        "\n",
        "As a bonus, it may be interesting to combine differently scaled features - e.g. feature1 scaled using MinMax, feature2 scaled using PowerTransform etc. And used this dataset for clustering."
      ]
    },
    {
      "cell_type": "markdown",
      "source": [
        "# **\\#1**\n",
        "\n",
        "Countries in cluster zero both import and export a lot more than other countries. Which makes sense as all three countries are quite small, and, in the\n",
        "case of Singapore and Luxembourg, very rich. It is quite surprising that Malta was grouped among these two countries, because, whilst Malta isn't poor by any\n",
        "means, it is in no way incredibely rich, quite unlike the other two countries in this group.\n",
        "\n",
        "We can also see that whilst countries in group no. 1 are much poorer than other\n",
        "countries, they are not inherently that much unhealthier, and whilst the median\n",
        "is the lowest among all four clusters, it is basically on par with cluster 3\n",
        "and still better than outliers from cluster 2."
      ],
      "metadata": {
        "id": "shyHg6ZQqt2A"
      }
    },
    {
      "cell_type": "code",
      "source": [
        "df = pd.read_csv('https://homel.vsb.cz/~svo0175/country-data.csv')\n",
        "\n",
        "minmax = sklearn.preprocessing.MinMaxScaler()\n",
        "power = sklearn.preprocessing.PowerTransformer()\n",
        "\n",
        "num_only = df.select_dtypes(np.number).copy()\n",
        "\n",
        "num_only['child_mort'] = power.fit_transform(num_only[['child_mort']])\n",
        "num_only['income'] = power.fit_transform(num_only[['income']])\n",
        "\n",
        "num_only['imports'] = power.fit_transform(num_only[['imports']])\n",
        "num_only['exports'] = power.fit_transform(num_only[['exports']])\n",
        "num_only['inflation'] = power.fit_transform(num_only[['inflation']])\n",
        "num_only['gdpp'] = power.fit_transform(num_only[['gdpp']])\n",
        "\n",
        "num_only['life_expec'] = power.fit_transform(num_only[['life_expec']])\n",
        "num_only['total_fer'] = power.fit_transform(num_only[['total_fer']])\n",
        "\n",
        "num_only['health'] = power.fit_transform(num_only[['health']])"
      ],
      "metadata": {
        "id": "9WqXU___qtLB"
      },
      "execution_count": 276,
      "outputs": []
    },
    {
      "cell_type": "code",
      "source": [
        "# Create the subplots\n",
        "n_rows, n_cols = num_only.shape\n",
        "fig, axes = plt.subplots(nrows=1, ncols=n_cols, figsize=(40, 6))\n",
        "for i, column in enumerate(num_only):\n",
        "    sns.histplot(data=num_only, x=column, ax=axes[i]).set_title(column)"
      ],
      "metadata": {
        "colab": {
          "base_uri": "https://localhost:8080/",
          "height": 405
        },
        "id": "Wx-Q7SuVtnLI",
        "outputId": "e7cdf8cf-4d8d-4bf7-c252-2fcf01c7f732"
      },
      "execution_count": 277,
      "outputs": [
        {
          "output_type": "display_data",
          "data": {
            "text/plain": [
              "<Figure size 2880x432 with 9 Axes>"
            ],
            "image/png": "[encoded data removed]"
          },
          "metadata": {
            "needs_background": "light"
          }
        }
      ]
    },
    {
      "cell_type": "code",
      "execution_count": 278,
      "metadata": {
        "id": "XSWTBlXBmpmz",
        "colab": {
          "base_uri": "https://localhost:8080/"
        },
        "outputId": "416e72d7-7369-49b5-b884-08512c2293eb"
      },
      "outputs": [
        {
          "output_type": "execute_result",
          "data": {
            "text/plain": [
              "KMeans(n_clusters=4, random_state=13)"
            ]
          },
          "metadata": {},
          "execution_count": 278
        }
      ],
      "source": [
        "clustering = sklearn.cluster.KMeans(n_clusters=4, random_state=13)\n",
        "clustering.fit(num_only)"
      ]
    },
    {
      "cell_type": "code",
      "source": [
        "df['cluster_id'] = clustering.labels_"
      ],
      "metadata": {
        "id": "u_wPb0guvYhO"
      },
      "execution_count": 279,
      "outputs": []
    },
    {
      "cell_type": "code",
      "source": [
        "print(df[df.cluster_id == 0]['country'].values, end='\\n\\n')\n",
        "print(df[df.cluster_id == 1]['country'].values, end='\\n\\n')\n",
        "print(df[df.cluster_id == 2]['country'].values, end='\\n\\n')\n",
        "print(df[df.cluster_id == 3]['country'].values, end='\\n\\n')"
      ],
      "metadata": {
        "colab": {
          "base_uri": "https://localhost:8080/"
        },
        "id": "OHztgE7Kvsko",
        "outputId": "718db023-3836-4c18-83b0-f71f234804a5"
      },
      "execution_count": 280,
      "outputs": [
        {
          "output_type": "stream",
          "name": "stdout",
          "text": [
            "['Albania' 'Algeria' 'Argentina' 'Armenia' 'Azerbaijan' 'Belize' 'Bhutan'\n",
            " 'Bolivia' 'Botswana' 'Cape Verde' 'China' 'Colombia' 'Congo, Rep.'\n",
            " 'Dominican Republic' 'Ecuador' 'Egypt' 'El Salvador' 'Equatorial Guinea'\n",
            " 'Fiji' 'Gabon' 'Georgia' 'Grenada' 'Guatemala' 'Guyana' 'Indonesia'\n",
            " 'Iran' 'Iraq' 'Jamaica' 'Jordan' 'Kazakhstan' 'Kyrgyz Republic' 'Libya'\n",
            " 'Moldova' 'Mongolia' 'Morocco' 'Namibia' 'Oman' 'Paraguay' 'Peru'\n",
            " 'Philippines' 'Romania' 'Russia' 'Samoa' 'Saudi Arabia' 'South Africa'\n",
            " 'Sri Lanka' 'St. Vincent and the Grenadines' 'Suriname' 'Tonga' 'Tunisia'\n",
            " 'Turkey' 'Turkmenistan' 'Ukraine' 'Uzbekistan' 'Vanuatu' 'Venezuela'\n",
            " 'Vietnam']\n",
            "\n",
            "['Australia' 'Austria' 'Bahamas' 'Barbados' 'Bosnia and Herzegovina'\n",
            " 'Brazil' 'Canada' 'Chile' 'Costa Rica' 'Croatia' 'Denmark' 'Finland'\n",
            " 'France' 'Germany' 'Greece' 'Iceland' 'Israel' 'Italy' 'Japan'\n",
            " 'Netherlands' 'New Zealand' 'Norway' 'Poland' 'Portugal' 'Serbia' 'Spain'\n",
            " 'Sweden' 'Switzerland' 'United Kingdom' 'United States' 'Uruguay']\n",
            "\n",
            "['Antigua and Barbuda' 'Bahrain' 'Belarus' 'Belgium' 'Brunei' 'Bulgaria'\n",
            " 'Cyprus' 'Czech Republic' 'Estonia' 'Hungary' 'Ireland' 'Kuwait' 'Latvia'\n",
            " 'Lebanon' 'Lithuania' 'Luxembourg' 'Macedonia, FYR' 'Malaysia' 'Maldives'\n",
            " 'Malta' 'Mauritius' 'Montenegro' 'Panama' 'Qatar' 'Seychelles'\n",
            " 'Singapore' 'Slovak Republic' 'Slovenia' 'South Korea' 'Thailand'\n",
            " 'United Arab Emirates']\n",
            "\n",
            "['Afghanistan' 'Angola' 'Bangladesh' 'Benin' 'Burkina Faso' 'Burundi'\n",
            " 'Cambodia' 'Cameroon' 'Central African Republic' 'Chad' 'Comoros'\n",
            " 'Congo, Dem. Rep.' \"Cote d'Ivoire\" 'Eritrea' 'Gambia' 'Ghana' 'Guinea'\n",
            " 'Guinea-Bissau' 'Haiti' 'India' 'Kenya' 'Kiribati' 'Lao' 'Lesotho'\n",
            " 'Liberia' 'Madagascar' 'Malawi' 'Mali' 'Mauritania'\n",
            " 'Micronesia, Fed. Sts.' 'Mozambique' 'Myanmar' 'Nepal' 'Niger' 'Nigeria'\n",
            " 'Pakistan' 'Rwanda' 'Senegal' 'Sierra Leone' 'Solomon Islands' 'Sudan'\n",
            " 'Tajikistan' 'Tanzania' 'Timor-Leste' 'Togo' 'Uganda' 'Yemen' 'Zambia']\n",
            "\n"
          ]
        }
      ]
    },
    {
      "cell_type": "code",
      "source": [
        "sns.boxplot(data=df, y='income', x='cluster_id')"
      ],
      "metadata": {
        "colab": {
          "base_uri": "https://localhost:8080/",
          "height": 298
        },
        "id": "V1GqKx4evvhy",
        "outputId": "24727c26-df8f-4532-8cea-4d5119661643"
      },
      "execution_count": 281,
      "outputs": [
        {
          "output_type": "execute_result",
          "data": {
            "text/plain": [
              "<matplotlib.axes._subplots.AxesSubplot at 0x7fbc3a555110>"
            ]
          },
          "metadata": {},
          "execution_count": 281
        },
        {
          "output_type": "display_data",
          "data": {
            "text/plain": [
              "<Figure size 432x288 with 1 Axes>"
            ],
            "image/png": "[encoded data removed]"
          },
          "metadata": {
            "needs_background": "light"
          }
        }
      ]
    },
    {
      "cell_type": "code",
      "source": [
        "sns.boxplot(data=df, y='health', x='cluster_id')"
      ],
      "metadata": {
        "colab": {
          "base_uri": "https://localhost:8080/",
          "height": 298
        },
        "id": "c2QOP-Ab4JOx",
        "outputId": "c5eaa88b-523a-469d-f8b8-111fe10cd632"
      },
      "execution_count": 282,
      "outputs": [
        {
          "output_type": "execute_result",
          "data": {
            "text/plain": [
              "<matplotlib.axes._subplots.AxesSubplot at 0x7fbc3a484810>"
            ]
          },
          "metadata": {},
          "execution_count": 282
        },
        {
          "output_type": "display_data",
          "data": {
            "text/plain": [
              "<Figure size 432x288 with 1 Axes>"
            ],
            "image/png": "[encoded data removed]"
          },
          "metadata": {
            "needs_background": "light"
          }
        }
      ]
    },
    {
      "cell_type": "code",
      "source": [
        "sns.boxplot(data=df, y='exports', x='cluster_id')"
      ],
      "metadata": {
        "colab": {
          "base_uri": "https://localhost:8080/",
          "height": 298
        },
        "id": "EpSY_Qof4JZK",
        "outputId": "8360957d-0a36-4b83-e186-699aff0f89ec"
      },
      "execution_count": 283,
      "outputs": [
        {
          "output_type": "execute_result",
          "data": {
            "text/plain": [
              "<matplotlib.axes._subplots.AxesSubplot at 0x7fbc3a3c24d0>"
            ]
          },
          "metadata": {},
          "execution_count": 283
        },
        {
          "output_type": "display_data",
          "data": {
            "text/plain": [
              "<Figure size 432x288 with 1 Axes>"
            ],
            "image/png": "[encoded data removed]"
          },
          "metadata": {
            "needs_background": "light"
          }
        }
      ]
    },
    {
      "cell_type": "code",
      "source": [
        "sns.boxplot(data=df, y='imports', x='cluster_id')"
      ],
      "metadata": {
        "colab": {
          "base_uri": "https://localhost:8080/",
          "height": 298
        },
        "id": "ecEfmSwI4JoR",
        "outputId": "877e884f-2fdb-43e0-b0fa-243afb53fc3c"
      },
      "execution_count": 284,
      "outputs": [
        {
          "output_type": "execute_result",
          "data": {
            "text/plain": [
              "<matplotlib.axes._subplots.AxesSubplot at 0x7fbc3a3a5f10>"
            ]
          },
          "metadata": {},
          "execution_count": 284
        },
        {
          "output_type": "display_data",
          "data": {
            "text/plain": [
              "<Figure size 432x288 with 1 Axes>"
            ],
            "image/png": "[encoded data removed]"
          },
          "metadata": {
            "needs_background": "light"
          }
        }
      ]
    },
    {
      "cell_type": "markdown",
      "source": [
        "I tried using both minmax and power scaling but using powerscaling for literally all attributes seems to have yielded the best results.\n",
        "\n",
        "Cluster 3 appears to contain the poorest countries - mostly african countries with some less developed asian countries mixed in.\n",
        "\n",
        "Clusters 1 and 2 contain richer countries, mostly Northern American and European Countries, New Zealand, Australia, as well as expensive tourist destinations.\n",
        "\n",
        "Cluster 0 contains many socialist and post-soviet countries, as well as some more developed African countries along some less developed tourist destinations in Asia. Thus, we have mathematically proved the famous Czech limerick `se sovětským svazem přišla bída na zem`.\n",
        "\n",
        "Countries in cluster 2 export and import the most. This cluster contains many smaller countries which aren't really self-sufficient, as well as petroleum exporting Arabic countries located in the desert. As these countries can hardly\n",
        "grow crops, they must resort to exporting oil and importing everything else."
      ],
      "metadata": {
        "id": "kvrAP7Kl4d76"
      }
    }
  ],
  "metadata": {
    "colab": {
      "collapsed_sections": [],
      "provenance": []
    },
    "kernelspec": {
      "display_name": "Python 3 (ipykernel)",
      "language": "python",
      "name": "python3"
    },
    "language_info": {
      "codemirror_mode": {
        "name": "ipython",
        "version": 3
      },
      "file_extension": ".py",
      "mimetype": "text/x-python",
      "name": "python",
      "nbconvert_exporter": "python",
      "pygments_lexer": "ipython3",
      "version": "3.7.4"
    }
  },
  "nbformat": 4,
  "nbformat_minor": 0
}