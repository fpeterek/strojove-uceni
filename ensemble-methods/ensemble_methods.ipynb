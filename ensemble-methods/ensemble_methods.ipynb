{
  "cells": [
    {
      "cell_type": "markdown",
      "id": "30b61190-61c1-4dd2-a9ec-acbadc8a52ef",
      "metadata": {
        "tags": [],
        "id": "30b61190-61c1-4dd2-a9ec-acbadc8a52ef"
      },
      "source": [
        "# Supervised learning - Classification\n",
        "\n",
        "- Imbalanced dataset\n",
        "- Ensamble classifiers"
      ]
    },
    {
      "cell_type": "code",
      "execution_count": 55,
      "id": "a70c5553-ad01-4d43-93fb-50c085f09a64",
      "metadata": {
        "id": "a70c5553-ad01-4d43-93fb-50c085f09a64"
      },
      "outputs": [],
      "source": [
        "import numpy as np\n",
        "import pandas as pd\n",
        "import seaborn as sns\n",
        "import matplotlib.pyplot as plt\n",
        "import math\n",
        "\n",
        "from sklearn.tree import DecisionTreeClassifier\n",
        "from sklearn.neural_network import MLPClassifier\n",
        "from sklearn.svm import LinearSVC\n",
        "from sklearn.linear_model import LogisticRegression\n",
        "from sklearn.neighbors import KNeighborsClassifier\n",
        "from sklearn.model_selection import train_test_split, StratifiedKFold, KFold, cross_val_score\n",
        "from sklearn.ensemble import RandomForestClassifier, AdaBoostClassifier, HistGradientBoostingClassifier, StackingClassifier\n",
        "from sklearn.metrics import accuracy_score, f1_score, recall_score, precision_score, confusion_matrix, auc\n",
        "from sklearn.preprocessing import OrdinalEncoder, StandardScaler, PowerTransformer, MinMaxScaler\n",
        "from sklearn.utils import resample"
      ]
    },
    {
      "cell_type": "markdown",
      "id": "217c97e6-20da-4bcd-be62-6c25508f2492",
      "metadata": {
        "id": "217c97e6-20da-4bcd-be62-6c25508f2492"
      },
      "source": [
        "# Imbalanced dataset"
      ]
    },
    {
      "cell_type": "code",
      "execution_count": 56,
      "id": "a3ea0f9e-0a27-47f5-b393-fc1708429ca9",
      "metadata": {
        "colab": {
          "base_uri": "https://localhost:8080/"
        },
        "id": "a3ea0f9e-0a27-47f5-b393-fc1708429ca9",
        "outputId": "09fe1b6c-5d25-4613-c0c5-a9c3ba0ae159"
      },
      "outputs": [
        {
          "output_type": "stream",
          "name": "stdout",
          "text": [
            "(140, 3)\n",
            "(80, 3)\n"
          ]
        }
      ],
      "source": [
        "df = pd.read_csv('https://homel.vsb.cz/~svo0175/nonsep.csv', sep=';', header=None)\n",
        "df.columns = ['x', 'y', 'class']\n",
        "df_imbalanced = df[df['class'] == -1].copy()\n",
        "df_imbalanced = df_imbalanced.append(df[df['class'] == 1].sample(n=10, random_state=42))\n",
        "print(df.shape)\n",
        "print(df_imbalanced.shape)"
      ]
    },
    {
      "cell_type": "code",
      "execution_count": 57,
      "id": "61be694b-b0c1-48e5-934a-1f1b66f83844",
      "metadata": {
        "colab": {
          "base_uri": "https://localhost:8080/",
          "height": 313
        },
        "id": "61be694b-b0c1-48e5-934a-1f1b66f83844",
        "outputId": "51ebeb38-cd26-4f6b-f04e-e9b25c756739"
      },
      "outputs": [
        {
          "output_type": "execute_result",
          "data": {
            "text/plain": [
              "Text(0.5, 1.0, 'Imbalanced dataset')"
            ]
          },
          "metadata": {},
          "execution_count": 57
        },
        {
          "output_type": "display_data",
          "data": {
            "text/plain": [
              "<Figure size 432x288 with 1 Axes>"
            ],
            "image/png": "[encoded data removed]"
          },
          "metadata": {
            "needs_background": "light"
          }
        }
      ],
      "source": [
        "sns.scatterplot(data=df_imbalanced, x='x', y='y', hue='class')\n",
        "plt.title('Imbalanced dataset')"
      ]
    },
    {
      "cell_type": "markdown",
      "id": "9c7b6e09-42d1-4ca0-851f-6a05c05bb566",
      "metadata": {
        "id": "9c7b6e09-42d1-4ca0-851f-6a05c05bb566"
      },
      "source": [
        "## Train test split for evaluation\n",
        "Be aware to do under/oversampling only for training split. Don't disturb class ratio in you test set of data. U want to have test set isolated from under/oversampling procedures, to mimic real data distribution for classificator evaluation. You add a lot of bias to the evaluation, when using under/oversampling methods for whole dataset."
      ]
    },
    {
      "cell_type": "code",
      "execution_count": 58,
      "id": "d57382ab-81ee-4eba-a706-b60205e6be6f",
      "metadata": {
        "id": "d57382ab-81ee-4eba-a706-b60205e6be6f"
      },
      "outputs": [],
      "source": [
        "df_train, df_test = train_test_split(df_imbalanced, test_size=0.5, stratify=df_imbalanced['class'], random_state=42)\n",
        "X_train, X_test, y_train, y_test = df_train[df_train.columns[df_train.columns != 'class']].values, df_test[df_test.columns[df_test.columns != 'class']].values, df_train['class'].values, df_test['class'].values"
      ]
    },
    {
      "cell_type": "code",
      "execution_count": 59,
      "id": "46d1795f-62c3-4dac-80dd-e0d5b8a85a60",
      "metadata": {
        "colab": {
          "base_uri": "https://localhost:8080/",
          "height": 299
        },
        "id": "46d1795f-62c3-4dac-80dd-e0d5b8a85a60",
        "outputId": "a2b5cbcc-ba3b-4077-b575-a13cad6ac6f6"
      },
      "outputs": [
        {
          "output_type": "execute_result",
          "data": {
            "text/plain": [
              "Text(0.5, 1.0, 'Train set')"
            ]
          },
          "metadata": {},
          "execution_count": 59
        },
        {
          "output_type": "display_data",
          "data": {
            "text/plain": [
              "<Figure size 432x288 with 1 Axes>"
            ],
            "image/png": "[encoded data removed]"
          },
          "metadata": {
            "needs_background": "light"
          }
        }
      ],
      "source": [
        "sns.scatterplot(x=X_train[:, 0], y=X_train[:, 1], hue=y_train)\n",
        "plt.title('Train set')"
      ]
    },
    {
      "cell_type": "markdown",
      "id": "840261e3-9137-4f4f-a808-8a5ee35e3fb0",
      "metadata": {
        "id": "840261e3-9137-4f4f-a808-8a5ee35e3fb0"
      },
      "source": [
        "#### Class distribution in train set:"
      ]
    },
    {
      "cell_type": "code",
      "execution_count": 60,
      "id": "9ac8f232-925a-4625-9a87-14c407a7a565",
      "metadata": {
        "colab": {
          "base_uri": "https://localhost:8080/"
        },
        "id": "9ac8f232-925a-4625-9a87-14c407a7a565",
        "outputId": "e4e47d3a-0290-4c0a-f414-3b1137b4f3a5"
      },
      "outputs": [
        {
          "output_type": "execute_result",
          "data": {
            "text/plain": [
              "-1    35\n",
              " 1     5\n",
              "dtype: int64"
            ]
          },
          "metadata": {},
          "execution_count": 60
        }
      ],
      "source": [
        "pd.Series(y_train).value_counts()"
      ]
    },
    {
      "cell_type": "code",
      "execution_count": 61,
      "id": "17d63783-d2a0-433e-b47c-dafab3eebc23",
      "metadata": {
        "colab": {
          "base_uri": "https://localhost:8080/"
        },
        "id": "17d63783-d2a0-433e-b47c-dafab3eebc23",
        "outputId": "38f2a24a-bc61-4ec4-ea2e-bcc55cb3c080"
      },
      "outputs": [
        {
          "output_type": "stream",
          "name": "stdout",
          "text": [
            "train score is 0.888888888888889\n",
            "test score is 0.7692307692307693\n"
          ]
        }
      ],
      "source": [
        "clf = LinearSVC()\n",
        "clf.fit(X_train, y_train)\n",
        "print(f'train score is {f1_score(y_train, clf.predict(X_train))}')\n",
        "print(f'test score is {f1_score(y_test, clf.predict(X_test))}')"
      ]
    },
    {
      "cell_type": "code",
      "execution_count": 62,
      "id": "1b270630-c650-46dd-af04-0f32f48da1e1",
      "metadata": {
        "colab": {
          "base_uri": "https://localhost:8080/",
          "height": 299
        },
        "id": "1b270630-c650-46dd-af04-0f32f48da1e1",
        "outputId": "f1680ec5-3af7-48d1-93b1-0f85625e08cb"
      },
      "outputs": [
        {
          "output_type": "execute_result",
          "data": {
            "text/plain": [
              "Text(0.5, 1.0, 'Evaluation of predictions on test set')"
            ]
          },
          "metadata": {},
          "execution_count": 62
        },
        {
          "output_type": "display_data",
          "data": {
            "text/plain": [
              "<Figure size 432x288 with 1 Axes>"
            ],
            "image/png": "[encoded data removed]"
          },
          "metadata": {
            "needs_background": "light"
          }
        }
      ],
      "source": [
        "sns.scatterplot(x=X_test[:, 0], y=X_test[:, 1], hue=y_test, style=clf.predict(X_test), markers=['o','s'])\n",
        "plt.title('Evaluation of predictions on test set')"
      ]
    },
    {
      "cell_type": "markdown",
      "id": "2d4416da-630f-455d-a659-d9fa0b078ad4",
      "metadata": {
        "id": "2d4416da-630f-455d-a659-d9fa0b078ad4"
      },
      "source": [
        "## Undersampling"
      ]
    },
    {
      "cell_type": "code",
      "execution_count": 63,
      "id": "19c4fadc-f329-47b8-af2c-49ba248a8dfb",
      "metadata": {
        "colab": {
          "base_uri": "https://localhost:8080/"
        },
        "id": "19c4fadc-f329-47b8-af2c-49ba248a8dfb",
        "outputId": "42dfb6f2-3ae6-4021-b1a3-da344b65c4a4"
      },
      "outputs": [
        {
          "output_type": "execute_result",
          "data": {
            "text/plain": [
              "(10, 3)"
            ]
          },
          "metadata": {},
          "execution_count": 63
        }
      ],
      "source": [
        "df_train_downsample = resample(df_train[df_train['class'] == -1],\n",
        "             replace=True,\n",
        "             n_samples=len(df_train[df_train['class'] == 1]),\n",
        "             random_state=42)\n",
        "df_train_downsample = df_train_downsample.append(df_train[df_train['class'] == 1])\n",
        "df_train_downsample.shape"
      ]
    },
    {
      "cell_type": "code",
      "execution_count": 64,
      "id": "dc9e43c6-18ec-498c-bf3d-3bcbd072f596",
      "metadata": {
        "id": "dc9e43c6-18ec-498c-bf3d-3bcbd072f596"
      },
      "outputs": [],
      "source": [
        "X_train, y_train = df_train_downsample[df_train_downsample.columns[df_train_downsample.columns != 'class']].values, df_train_downsample['class'].values"
      ]
    },
    {
      "cell_type": "code",
      "execution_count": 65,
      "id": "5a034385-6408-4ce1-9846-fdf88b809325",
      "metadata": {
        "colab": {
          "base_uri": "https://localhost:8080/",
          "height": 299
        },
        "id": "5a034385-6408-4ce1-9846-fdf88b809325",
        "outputId": "4cf9e4cd-3672-4766-ac21-ad8ca58117a8"
      },
      "outputs": [
        {
          "output_type": "execute_result",
          "data": {
            "text/plain": [
              "Text(0.5, 1.0, 'Train set after downsampling')"
            ]
          },
          "metadata": {},
          "execution_count": 65
        },
        {
          "output_type": "display_data",
          "data": {
            "text/plain": [
              "<Figure size 432x288 with 1 Axes>"
            ],
            "image/png": "[encoded data removed]"
          },
          "metadata": {
            "needs_background": "light"
          }
        }
      ],
      "source": [
        "sns.scatterplot(x=X_train[:, 0], y=X_train[:, 1], hue=y_train)\n",
        "plt.title('Train set after downsampling')"
      ]
    },
    {
      "cell_type": "markdown",
      "id": "30907231-514b-45a0-8761-fef9f414d0d3",
      "metadata": {
        "id": "30907231-514b-45a0-8761-fef9f414d0d3"
      },
      "source": [
        "#### Class distribution in train set:"
      ]
    },
    {
      "cell_type": "code",
      "execution_count": 66,
      "id": "1dc70aea-45b8-4b0d-a615-4e19714b9297",
      "metadata": {
        "colab": {
          "base_uri": "https://localhost:8080/"
        },
        "id": "1dc70aea-45b8-4b0d-a615-4e19714b9297",
        "outputId": "954255b0-e371-491d-a90a-b6473f42a431"
      },
      "outputs": [
        {
          "output_type": "execute_result",
          "data": {
            "text/plain": [
              "-1    5\n",
              " 1    5\n",
              "dtype: int64"
            ]
          },
          "metadata": {},
          "execution_count": 66
        }
      ],
      "source": [
        "pd.Series(y_train).value_counts()"
      ]
    },
    {
      "cell_type": "code",
      "execution_count": 67,
      "id": "689b663a-d7a4-4e6b-8511-250c93462952",
      "metadata": {
        "colab": {
          "base_uri": "https://localhost:8080/"
        },
        "id": "689b663a-d7a4-4e6b-8511-250c93462952",
        "outputId": "331c8df0-effa-41d2-b3ac-bcaade48d7b2"
      },
      "outputs": [
        {
          "output_type": "stream",
          "name": "stdout",
          "text": [
            "train score is 1.0\n",
            "test score is 0.6666666666666666\n"
          ]
        }
      ],
      "source": [
        "clf = LinearSVC()\n",
        "clf.fit(X_train, y_train)\n",
        "print(f'train score is {f1_score(y_train, clf.predict(X_train))}')\n",
        "print(f'test score is {f1_score(y_test, clf.predict(X_test))}')"
      ]
    },
    {
      "cell_type": "code",
      "execution_count": 68,
      "id": "a91e1cab-80e2-4548-a2cc-d607151a0a2b",
      "metadata": {
        "colab": {
          "base_uri": "https://localhost:8080/",
          "height": 197
        },
        "id": "a91e1cab-80e2-4548-a2cc-d607151a0a2b",
        "outputId": "94bb6069-8b81-48a8-f0a2-9e22ac255375"
      },
      "outputs": [
        {
          "output_type": "execute_result",
          "data": {
            "text/plain": [
              "Text(0.5, 1.0, 'Evaluation of predictions on test set')"
            ]
          },
          "metadata": {},
          "execution_count": 68
        },
        {
          "output_type": "display_data",
          "data": {
            "text/plain": [
              "<Figure size 432x288 with 1 Axes>"
            ],
            "image/png": "[encoded data removed]"
          },
          "metadata": {
            "needs_background": "light"
          }
        }
      ],
      "source": [
        "sns.scatterplot(x=X_test[:, 0], y=X_test[:, 1], hue=y_test, style=clf.predict(X_test), markers=['o','s'])\n",
        "plt.title('Evaluation of predictions on test set')"
      ]
    },
    {
      "cell_type": "markdown",
      "id": "f13ff213-8e11-4d2c-8983-72351b5ebcce",
      "metadata": {
        "id": "f13ff213-8e11-4d2c-8983-72351b5ebcce"
      },
      "source": [
        "## Oversampling"
      ]
    },
    {
      "cell_type": "code",
      "execution_count": 69,
      "id": "7054b623-4764-49e0-aa7e-801aadd91b00",
      "metadata": {
        "colab": {
          "base_uri": "https://localhost:8080/"
        },
        "id": "7054b623-4764-49e0-aa7e-801aadd91b00",
        "outputId": "70271f17-8bd8-4bec-d168-0b94104030f0"
      },
      "outputs": [
        {
          "output_type": "execute_result",
          "data": {
            "text/plain": [
              "(70, 3)"
            ]
          },
          "metadata": {},
          "execution_count": 69
        }
      ],
      "source": [
        "df_train_upsample = resample(df_train[df_train['class'] == 1],\n",
        "             replace=True,\n",
        "             n_samples=len(df_train[df_train['class'] == -1]),\n",
        "             random_state=42)\n",
        "df_train_upsample = df_train_upsample.append(df_train[df_train['class'] == -1])\n",
        "df_train_upsample.shape"
      ]
    },
    {
      "cell_type": "code",
      "execution_count": 70,
      "id": "a9740897-e2fb-4f00-be85-239b66e3943b",
      "metadata": {
        "id": "a9740897-e2fb-4f00-be85-239b66e3943b"
      },
      "outputs": [],
      "source": [
        "X_train, y_train = df_train_upsample[df_train_upsample.columns[df_train_upsample.columns != 'class']].values, df_train_upsample['class'].values"
      ]
    },
    {
      "cell_type": "code",
      "execution_count": 71,
      "id": "3a1277a7-93af-479b-ad71-6b45f1eaacd4",
      "metadata": {
        "colab": {
          "base_uri": "https://localhost:8080/",
          "height": 299
        },
        "id": "3a1277a7-93af-479b-ad71-6b45f1eaacd4",
        "outputId": "0059494c-6196-4228-f3da-9cd0625785d5"
      },
      "outputs": [
        {
          "output_type": "execute_result",
          "data": {
            "text/plain": [
              "Text(0.5, 1.0, 'Train set after upsampling')"
            ]
          },
          "metadata": {},
          "execution_count": 71
        },
        {
          "output_type": "display_data",
          "data": {
            "text/plain": [
              "<Figure size 432x288 with 1 Axes>"
            ],
            "image/png": "[encoded data removed]"
          },
          "metadata": {
            "needs_background": "light"
          }
        }
      ],
      "source": [
        "sns.scatterplot(x=X_train[:, 0], y=X_train[:, 1], hue=y_train)\n",
        "plt.title('Train set after upsampling')"
      ]
    },
    {
      "cell_type": "markdown",
      "id": "59943cef-756c-4860-9dff-b70ddd80f4a0",
      "metadata": {
        "id": "59943cef-756c-4860-9dff-b70ddd80f4a0"
      },
      "source": [
        "#### Class distribution in train set:"
      ]
    },
    {
      "cell_type": "code",
      "execution_count": 72,
      "id": "03eccb58-df86-46a0-963c-817e6252134a",
      "metadata": {
        "colab": {
          "base_uri": "https://localhost:8080/"
        },
        "id": "03eccb58-df86-46a0-963c-817e6252134a",
        "outputId": "6f33e870-6498-432b-e158-44eead36cd12"
      },
      "outputs": [
        {
          "output_type": "execute_result",
          "data": {
            "text/plain": [
              " 1    35\n",
              "-1    35\n",
              "dtype: int64"
            ]
          },
          "metadata": {},
          "execution_count": 72
        }
      ],
      "source": [
        "pd.Series(y_train).value_counts()"
      ]
    },
    {
      "cell_type": "code",
      "execution_count": 73,
      "id": "70a05129-0e52-4799-ae8b-636bf02cf1d9",
      "metadata": {
        "colab": {
          "base_uri": "https://localhost:8080/"
        },
        "id": "70a05129-0e52-4799-ae8b-636bf02cf1d9",
        "outputId": "d1ec3d25-83e0-433f-eabc-c92912a296b1"
      },
      "outputs": [
        {
          "output_type": "stream",
          "name": "stdout",
          "text": [
            "train score is 0.9859154929577464\n",
            "test score is 0.6666666666666666\n"
          ]
        }
      ],
      "source": [
        "clf = LinearSVC()\n",
        "clf.fit(X_train, y_train)\n",
        "print(f'train score is {f1_score(y_train, clf.predict(X_train))}')\n",
        "print(f'test score is {f1_score(y_test, clf.predict(X_test))}')"
      ]
    },
    {
      "cell_type": "code",
      "execution_count": 74,
      "id": "d725866d-a448-400c-8860-8dec408ef7cc",
      "metadata": {
        "colab": {
          "base_uri": "https://localhost:8080/",
          "height": 197
        },
        "id": "d725866d-a448-400c-8860-8dec408ef7cc",
        "outputId": "044f7b8b-ea53-4885-f721-525a54db4da6"
      },
      "outputs": [
        {
          "output_type": "execute_result",
          "data": {
            "text/plain": [
              "Text(0.5, 1.0, 'Evaluation of predictions on test set')"
            ]
          },
          "metadata": {},
          "execution_count": 74
        },
        {
          "output_type": "display_data",
          "data": {
            "text/plain": [
              "<Figure size 432x288 with 1 Axes>"
            ],
            "image/png": "[encoded data removed]"
          },
          "metadata": {
            "needs_background": "light"
          }
        }
      ],
      "source": [
        "sns.scatterplot(x=X_test[:, 0], y=X_test[:, 1], hue=y_test, style=clf.predict(X_test), markers=['o','s'])\n",
        "plt.title('Evaluation of predictions on test set')"
      ]
    },
    {
      "cell_type": "markdown",
      "id": "e46a3712-8a7c-46e2-9f66-8ef49313266e",
      "metadata": {
        "id": "e46a3712-8a7c-46e2-9f66-8ef49313266e"
      },
      "source": [
        "## SMOTE\n",
        "\n",
        "Instalation of Python library with SMOTE:\n",
        "\n",
        "- ``pip install imbalanced-learn``\n",
        "\n",
        "https://towardsdatascience.com/smote-synthetic-data-augmentation-for-tabular-data-1ce28090debc"
      ]
    },
    {
      "cell_type": "code",
      "execution_count": 75,
      "id": "40e550de-6c1c-4dd6-9034-ed47950412f3",
      "metadata": {
        "colab": {
          "base_uri": "https://localhost:8080/"
        },
        "id": "40e550de-6c1c-4dd6-9034-ed47950412f3",
        "outputId": "71af4539-2bac-43fb-f00c-2d36050b7951"
      },
      "outputs": [
        {
          "output_type": "execute_result",
          "data": {
            "text/plain": [
              "((70, 2), (70,))"
            ]
          },
          "metadata": {},
          "execution_count": 75
        }
      ],
      "source": [
        "from imblearn.over_sampling import SMOTE\n",
        "\n",
        "su = SMOTE(random_state=42, k_neighbors=4)\n",
        "X_train, y_train = df_train[df_train.columns[df_train.columns != 'class']].values, df_train['class'].values\n",
        "X_train, y_train = su.fit_resample(X_train, y_train)\n",
        "X_train.shape, y_train.shape"
      ]
    },
    {
      "cell_type": "code",
      "execution_count": 76,
      "id": "79baccd7-bec4-47ed-812d-11a0662d2744",
      "metadata": {
        "colab": {
          "base_uri": "https://localhost:8080/",
          "height": 299
        },
        "id": "79baccd7-bec4-47ed-812d-11a0662d2744",
        "outputId": "f0f6e028-1342-41d4-8fd7-f2f412f0eace"
      },
      "outputs": [
        {
          "output_type": "execute_result",
          "data": {
            "text/plain": [
              "Text(0.5, 1.0, 'Train set after SMOTE')"
            ]
          },
          "metadata": {},
          "execution_count": 76
        },
        {
          "output_type": "display_data",
          "data": {
            "text/plain": [
              "<Figure size 432x288 with 1 Axes>"
            ],
            "image/png": "[encoded data removed]"
          },
          "metadata": {
            "needs_background": "light"
          }
        }
      ],
      "source": [
        "sns.scatterplot(x=X_train[:, 0], y=X_train[:, 1], hue=y_train)\n",
        "plt.title('Train set after SMOTE')"
      ]
    },
    {
      "cell_type": "markdown",
      "id": "23b2ef79-aa1c-43d8-8e48-452fd3cfb76b",
      "metadata": {
        "id": "23b2ef79-aa1c-43d8-8e48-452fd3cfb76b"
      },
      "source": [
        "#### Class distribution in train set:"
      ]
    },
    {
      "cell_type": "code",
      "execution_count": 77,
      "id": "8cd27bfc-420f-4f65-abdd-6a1989a7021d",
      "metadata": {
        "colab": {
          "base_uri": "https://localhost:8080/"
        },
        "id": "8cd27bfc-420f-4f65-abdd-6a1989a7021d",
        "outputId": "03463090-20df-45b5-8eee-e700bbaa23ec"
      },
      "outputs": [
        {
          "output_type": "execute_result",
          "data": {
            "text/plain": [
              "-1    35\n",
              " 1    35\n",
              "dtype: int64"
            ]
          },
          "metadata": {},
          "execution_count": 77
        }
      ],
      "source": [
        "pd.Series(y_train).value_counts()"
      ]
    },
    {
      "cell_type": "code",
      "execution_count": 78,
      "id": "670fd1b7-e9a5-4d36-9955-aa52087830a0",
      "metadata": {
        "colab": {
          "base_uri": "https://localhost:8080/"
        },
        "id": "670fd1b7-e9a5-4d36-9955-aa52087830a0",
        "outputId": "0df9070f-3748-465a-c798-fcbf0e7c274a"
      },
      "outputs": [
        {
          "output_type": "stream",
          "name": "stdout",
          "text": [
            "train score is 0.9859154929577464\n",
            "test score is 0.7692307692307693\n"
          ]
        }
      ],
      "source": [
        "clf = LinearSVC()\n",
        "clf.fit(X_train, y_train)\n",
        "print(f'train score is {f1_score(y_train, clf.predict(X_train))}')\n",
        "print(f'test score is {f1_score(y_test, clf.predict(X_test))}')"
      ]
    },
    {
      "cell_type": "code",
      "execution_count": 79,
      "id": "7d772710-3226-402d-8a18-24e925e8117a",
      "metadata": {
        "colab": {
          "base_uri": "https://localhost:8080/",
          "height": 197
        },
        "id": "7d772710-3226-402d-8a18-24e925e8117a",
        "outputId": "01be4ce9-32cc-4918-9277-a7a0abc5887b"
      },
      "outputs": [
        {
          "output_type": "execute_result",
          "data": {
            "text/plain": [
              "Text(0.5, 1.0, 'Evaluation of predictions on test set')"
            ]
          },
          "metadata": {},
          "execution_count": 79
        },
        {
          "output_type": "display_data",
          "data": {
            "text/plain": [
              "<Figure size 432x288 with 1 Axes>"
            ],
            "image/png": "[encoded data removed]"
          },
          "metadata": {
            "needs_background": "light"
          }
        }
      ],
      "source": [
        "sns.scatterplot(x=X_test[:, 0], y=X_test[:, 1], hue=y_test, style=clf.predict(X_test), markers=['o','s'])\n",
        "plt.title('Evaluation of predictions on test set')"
      ]
    },
    {
      "cell_type": "markdown",
      "id": "c8a6f661-b980-47a6-a8df-657d5467cecf",
      "metadata": {
        "id": "c8a6f661-b980-47a6-a8df-657d5467cecf"
      },
      "source": [
        "### Imbalanced learn library\n",
        "- U can find other methods for under/over sampling in library's documentation: https://imbalanced-learn.org/stable/references/index.html#api\n",
        "- U can find similar methods as SMOTE for over sampling on following page: https://imbalanced-learn.org/stable/references/over_sampling.html"
      ]
    },
    {
      "cell_type": "code",
      "execution_count": 79,
      "id": "d121b659-7e6f-4aff-a708-7718e9e9af2e",
      "metadata": {
        "id": "d121b659-7e6f-4aff-a708-7718e9e9af2e"
      },
      "outputs": [],
      "source": []
    },
    {
      "cell_type": "markdown",
      "id": "fe4e56b7-9be4-4fcb-a84c-551f9d6461d8",
      "metadata": {
        "id": "fe4e56b7-9be4-4fcb-a84c-551f9d6461d8"
      },
      "source": [
        "# Ensamble classifiers\n",
        "\n",
        "Explain following terms:\n",
        "- Bagging\n",
        "- Boosting\n",
        "- Stacking\n",
        "\n",
        "Studing materials:\n",
        "- Lectures - https://homel.vsb.cz/~pla06/\n",
        "- https://quantdare.com/what-is-the-difference-between-bagging-and-boosting/\n",
        "- https://scikit-learn.org/stable/modules/ensemble.html#ensemble\n",
        "- https://scikit-learn.org/stable/modules/classes.html?highlight=ensemble#module-sklearn.ensemble"
      ]
    },
    {
      "cell_type": "markdown",
      "id": "74635874-e503-46a6-ad9c-2f03168fa9f7",
      "metadata": {
        "id": "74635874-e503-46a6-ad9c-2f03168fa9f7"
      },
      "source": [
        "# Individual tasks (3p)\n",
        "\n",
        "## Task 1(2p):\n",
        "Use RandomForestClassifier for prediction of survival class on Titanic dataset.\n",
        "\n",
        "Tune parameters for this classifier, try at least 5 parameter's configurations and produce table or plot.\n"
      ]
    },
    {
      "cell_type": "code",
      "source": [
        "df = pd.read_csv('https://homel.vsb.cz/~svo0175/titanic.csv', index_col=0, sep=',')\n",
        "\n",
        "df = df.drop(['Name', 'Ticket'], axis=1)\n",
        "df.Cabin = df.Cabin.astype(str).apply(lambda x: x[0] if x != 'nan' else 'U').replace({'T': 'A'})\n",
        "\n",
        "cabin_categories = ['A', 'B', 'C', 'D', 'E', 'F', 'G', 'U']\n",
        "enc_cabin = OrdinalEncoder(categories=[cabin_categories])\n",
        "enc_cabin.fit_transform(df[['Cabin']])[:, 0]\n",
        "\n",
        "df['Cabin'] = enc_cabin.fit_transform(df[['Cabin']])[:, 0]\n",
        "\n",
        "sex_categories = ['male', 'female']\n",
        "enc_sex = OrdinalEncoder(categories=[sex_categories])\n",
        "df['Sex'] = enc_sex.fit_transform(df[['Sex']])[:, 0]\n",
        "\n",
        "df.Age = df.Age.fillna(df.Age.mean())\n",
        "\n",
        "df = pd.concat([df, pd.get_dummies(df['Embarked'], prefix='Embarked')], axis=1).drop('Embarked', axis=1)\n",
        "\n"
      ],
      "metadata": {
        "id": "yFeMylGlQL3t"
      },
      "id": "yFeMylGlQL3t",
      "execution_count": 80,
      "outputs": []
    },
    {
      "cell_type": "code",
      "source": [
        "def test_classifier(cls_cons, ds_train, ds_test):\n",
        "    X_train, y_train = ds_train.loc[:, ds_train.columns != 'Survived'], ds_train.loc[:, 'Survived']\n",
        "    X_test, y_test = ds_test.loc[:, ds_test.columns != 'Survived'], ds_test.loc[:, 'Survived']\n",
        "\n",
        "    classifier = cls_cons()\n",
        "    classifier.fit(X_train, y_train)\n",
        "    \n",
        "    pred = classifier.predict(X_test)\n",
        "    return f1_score(y_test, pred)"
      ],
      "metadata": {
        "id": "G3IzPhj1RdrF"
      },
      "id": "G3IzPhj1RdrF",
      "execution_count": 81,
      "outputs": []
    },
    {
      "cell_type": "code",
      "execution_count": 82,
      "id": "a75db713-5b81-4539-8833-b60d02fc2058",
      "metadata": {
        "colab": {
          "base_uri": "https://localhost:8080/",
          "height": 283
        },
        "id": "a75db713-5b81-4539-8833-b60d02fc2058",
        "outputId": "2c6a8912-99ce-4af8-9287-f7e3a5182dfb"
      },
      "outputs": [
        {
          "output_type": "execute_result",
          "data": {
            "text/plain": [
              "[<matplotlib.lines.Line2D at 0x7fe3d9f319a0>]"
            ]
          },
          "metadata": {},
          "execution_count": 82
        },
        {
          "output_type": "display_data",
          "data": {
            "text/plain": [
              "<Figure size 432x288 with 1 Axes>"
            ],
            "image/png": "[encoded data removed]"
          },
          "metadata": {
            "needs_background": "light"
          }
        }
      ],
      "source": [
        "from sklearn.ensemble import RandomForestClassifier\n",
        "\n",
        "df_train, df_test = train_test_split(df, test_size=0.2, random_state=747)\n",
        "\n",
        "params = [\n",
        "    {'n_estimators': 10, 'max_depth': 4},\n",
        "    {'n_estimators': 10, 'max_depth': 6},\n",
        "    {'n_estimators': 10, 'max_depth': None},\n",
        "    \n",
        "    {'n_estimators': 50, 'max_depth': 4},\n",
        "    {'n_estimators': 50, 'max_depth': 6},\n",
        "    {'n_estimators': 50, 'max_depth': None},\n",
        "    \n",
        "    {'n_estimators': 100, 'max_depth': 4},\n",
        "    {'n_estimators': 100, 'max_depth': 6},\n",
        "    {'n_estimators': 100, 'max_depth': None},\n",
        "]\n",
        "\n",
        "res = []\n",
        "\n",
        "for i, p in enumerate(params):\n",
        "    classifier = lambda: RandomForestClassifier(**p)\n",
        "    score = test_classifier(classifier, df_train, df_test)\n",
        "    res.append(score)\n",
        "\n",
        "\n",
        "plt.plot(range(len(res)), res)"
      ]
    },
    {
      "cell_type": "markdown",
      "id": "49e51de3-c311-4a44-86e3-7a55ae07b090",
      "metadata": {
        "id": "49e51de3-c311-4a44-86e3-7a55ae07b090"
      },
      "source": [
        "## Task 2(1p):\n",
        "Do experiments with under or over sampling and decribe experiments results."
      ]
    },
    {
      "cell_type": "code",
      "source": [
        "df_train['Survived'].value_counts()"
      ],
      "metadata": {
        "colab": {
          "base_uri": "https://localhost:8080/"
        },
        "id": "3tLao9nnV_vQ",
        "outputId": "33e6f3da-1613-4cf4-8d3c-5cdf822324ed"
      },
      "id": "3tLao9nnV_vQ",
      "execution_count": 83,
      "outputs": [
        {
          "output_type": "execute_result",
          "data": {
            "text/plain": [
              "0    453\n",
              "1    259\n",
              "Name: Survived, dtype: int64"
            ]
          },
          "metadata": {},
          "execution_count": 83
        }
      ]
    },
    {
      "cell_type": "code",
      "execution_count": 84,
      "id": "a49f171e-22e1-4917-a7f6-4f312a85cdb8",
      "metadata": {
        "colab": {
          "base_uri": "https://localhost:8080/"
        },
        "id": "a49f171e-22e1-4917-a7f6-4f312a85cdb8",
        "outputId": "2cb283c9-94e6-4baa-96ee-40d9df0a9ea3"
      },
      "outputs": [
        {
          "output_type": "execute_result",
          "data": {
            "text/plain": [
              "1    453\n",
              "0    453\n",
              "Name: Survived, dtype: int64"
            ]
          },
          "metadata": {},
          "execution_count": 84
        }
      ],
      "source": [
        "df_train_upsample = resample(df_train[df_train['Survived'] == 1],\n",
        "             replace=True,\n",
        "             n_samples=len(df_train[df_train['Survived'] == 0]),\n",
        "             random_state=42)\n",
        "\n",
        "df_train_upsample = df_train_upsample.append(df_train[df_train['Survived'] == 0])\n",
        "\n",
        "\n",
        "df_train_upsample['Survived'].value_counts()"
      ]
    },
    {
      "cell_type": "code",
      "source": [
        "df_train_downsample = resample(df_train[df_train['Survived'] == 0],\n",
        "             replace=True,\n",
        "             n_samples=len(df_train[df_train['Survived'] == 1]),\n",
        "             random_state=42)\n",
        "df_train_downsample = df_train_downsample.append(df_train[df_train['Survived'] == 1])\n",
        "\n",
        "df_train_downsample['Survived'].value_counts()"
      ],
      "metadata": {
        "colab": {
          "base_uri": "https://localhost:8080/"
        },
        "id": "E5d-XxheU3MV",
        "outputId": "047fa8d0-7f02-4646-d5fc-96574bc5a202"
      },
      "id": "E5d-XxheU3MV",
      "execution_count": 85,
      "outputs": [
        {
          "output_type": "execute_result",
          "data": {
            "text/plain": [
              "0    259\n",
              "1    259\n",
              "Name: Survived, dtype: int64"
            ]
          },
          "metadata": {},
          "execution_count": 85
        }
      ]
    },
    {
      "cell_type": "code",
      "source": [
        "su = SMOTE(random_state=747, k_neighbors=4)\n",
        "\n",
        "X_train, y_train = df_train[df_train.columns[df_train.columns != 'Survived']].values, df_train['Survived'].values\n",
        "\n",
        "X_train, y_train = su.fit_resample(X_train, y_train)\n",
        "\n",
        "cols = list(df_train.columns)\n",
        "cols.remove('Survived')\n",
        "\n",
        "df_train_smote = pd.DataFrame(data=X_train, columns=cols)\n",
        "df_train_smote['Survived'] = y_train"
      ],
      "metadata": {
        "id": "Ch64KJiVU3kW"
      },
      "id": "Ch64KJiVU3kW",
      "execution_count": 86,
      "outputs": []
    },
    {
      "cell_type": "code",
      "source": [
        "classifier = lambda: RandomForestClassifier()\n",
        "\n",
        "print(f'{test_classifier(classifier, df_train_upsample, df_test)=}')\n",
        "print(f'{test_classifier(classifier, df_train_downsample, df_test)=}')\n",
        "print(f'{test_classifier(classifier, df_train_smote, df_test)=}')\n"
      ],
      "metadata": {
        "colab": {
          "base_uri": "https://localhost:8080/"
        },
        "id": "jz568Ko5W0Wq",
        "outputId": "a982dcc0-420c-49f3-b4ee-09be403dcb30"
      },
      "id": "jz568Ko5W0Wq",
      "execution_count": 87,
      "outputs": [
        {
          "output_type": "stream",
          "name": "stdout",
          "text": [
            "test_classifier(classifier, df_train_upsample, df_test)=0.7733333333333333\n",
            "test_classifier(classifier, df_train_downsample, df_test)=0.7613636363636364\n",
            "test_classifier(classifier, df_train_smote, df_test)=0.8104575163398692\n"
          ]
        }
      ]
    },
    {
      "cell_type": "markdown",
      "id": "1325b024-045e-4fd3-a5ff-f08f9976adfa",
      "metadata": {
        "id": "1325b024-045e-4fd3-a5ff-f08f9976adfa"
      },
      "source": [
        "## For fun:\n",
        "Try other ensemble methods.\n",
        "\n",
        "Experiment with various methods for under or over sampling."
      ]
    },
    {
      "cell_type": "code",
      "execution_count": 87,
      "id": "88ca1ef1-d3fd-4c08-b8b6-eb57fe6368a3",
      "metadata": {
        "id": "88ca1ef1-d3fd-4c08-b8b6-eb57fe6368a3"
      },
      "outputs": [],
      "source": []
    }
  ],
  "metadata": {
    "kernelspec": {
      "display_name": "Python 3 (ipykernel)",
      "language": "python",
      "name": "python3"
    },
    "language_info": {
      "codemirror_mode": {
        "name": "ipython",
        "version": 3
      },
      "file_extension": ".py",
      "mimetype": "text/x-python",
      "name": "python",
      "nbconvert_exporter": "python",
      "pygments_lexer": "ipython3",
      "version": "3.7.4"
    },
    "colab": {
      "provenance": []
    }
  },
  "nbformat": 4,
  "nbformat_minor": 5
}